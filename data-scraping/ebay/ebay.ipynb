{
 "cells": [
  {
   "cell_type": "markdown",
   "metadata": {},
   "source": [
    "### Estrazione dei prezzi di un prodotto da ebay, per avere un idea del prezzo di mercato\n",
    "Ipotizziamo di voler acquistare una scheda grafica, ma non sappiamo quale sia il prezzo di mercato. Varia molto in base al venditore, e non possiamo controllare tutti i venditori. Quindi, possiamo usare questo script per estrarre i prezzi di un prodotto da ebay, e avere un idea del prezzo di mercato."
   ]
  },
  {
   "cell_type": "code",
   "execution_count": 6,
   "metadata": {},
   "outputs": [],
   "source": [
    "from bs4 import BeautifulSoup\n",
    "import requests\n",
    "\n",
    "url = \"https://www.ebay.it/sch/i.html?_from=R40&_nkw=4080&_sacat=0&_odkw=3080&_osacat=0\""
   ]
  },
  {
   "cell_type": "code",
   "execution_count": 19,
   "metadata": {},
   "outputs": [],
   "source": [
    "def fetch_ebay_listings(url):\n",
    "    headers = {\n",
    "        'User-Agent': 'Mozilla/5.0 (Windows NT 10.0; Win64; x64) AppleWebKit/537.36 (KHTML, like Gecko) Chrome/58.0.3029.110 Safari/537.3'}\n",
    "    response = requests.get(url, headers=headers)\n",
    "    \n",
    "    # Ensure the request was successful\n",
    "    if response.status_code != 200:\n",
    "        print(\"Failed to retrieve the page\")\n",
    "        return\n",
    "    \n",
    "    soup = BeautifulSoup(response.text, 'html.parser')\n",
    "    \n",
    "    # Find all listings on the page\n",
    "    products = soup.find_all('div', class_='s-item__info clearfix')\n",
    "\n",
    "    results = []\n",
    "    for product in products:\n",
    "        title = product.find('div', class_='s-item__title')\n",
    "        subtitle = product.find('div', class_='s-item__subtitle')\n",
    "        price = product.find('span', class_='s-item__price')\n",
    "        \n",
    "        results.append({\n",
    "            'title': title.text,\n",
    "            'subtitle': subtitle.text,\n",
    "            'price': price.text\n",
    "        })\n",
    "    \n",
    "    return results\n",
    "\n",
    "# Example URL (ensure to replace with a valid one or parameterize appropriately)\n",
    "url = \"https://www.ebay.it/sch/i.html?_from=R40&_nkw=4080&_sacat=0&_odkw=3080&_osacat=0\"\n",
    "listings = fetch_ebay_listings(url)\n",
    "# print(listings)"
   ]
  },
  {
   "cell_type": "code",
   "execution_count": 27,
   "metadata": {},
   "outputs": [
    {
     "name": "stdout",
     "output_type": "stream",
     "text": [
      "{'title': 'Shop on eBay', 'subtitle': 'Brand New', 'price': '$20.00'}\n",
      "{'title': 'GAINWARD GEFORCE RTX 4080 SUPER PHOENIX, SCHEDA GRAFICA    NUOVO NEGOZIO ROMA', 'subtitle': 'Nuovo | Venditore privato', 'price': 'EUR 1.129,00'}\n"
     ]
    }
   ],
   "source": [
    "print(listings[0])\n",
    "print(listings[20])"
   ]
  },
  {
   "cell_type": "markdown",
   "metadata": {},
   "source": [
    "Eseguiamo ualche step di preprocessing per ottenere i dati in un formato più pulito e leggibile.\n",
    "Inoltre cambiamo l'URL aggiungendo dei parametri per stringere la ricerca, per esempio provenienza dall'Italia, condizione specifica del prodotto.\n",
    "Su Ebay si può guardare il prezzo dei prodotti venduti, che indica in modo più preciso il prezzo di mercato."
   ]
  },
  {
   "cell_type": "code",
   "execution_count": 54,
   "metadata": {},
   "outputs": [],
   "source": [
    "def fetch_ebay_listings(url):\n",
    "    headers = {\n",
    "        'User-Agent': 'Mozilla/5.0 (Windows NT 10.0; Win64; x64) AppleWebKit/537.36 (KHTML, like Gecko) Chrome/58.0.3029.110 Safari/537.3'}\n",
    "    response = requests.get(url, headers=headers)\n",
    "    \n",
    "    # Ensure the request was successful\n",
    "    if response.status_code != 200:\n",
    "        print(\"Failed to retrieve the page\")\n",
    "        return\n",
    "    \n",
    "    soup = BeautifulSoup(response.text, 'html.parser')\n",
    "    \n",
    "    # Find all listings on the page\n",
    "    products = soup.find_all('div', class_='s-item__info clearfix')\n",
    "\n",
    "    results = []\n",
    "    for i, product in enumerate(products):\n",
    "        if i == 0:  # Skip the first product\n",
    "            continue\n",
    "        title = product.find('div', class_='s-item__title')\n",
    "        subtitle = product.find('div', class_='s-item__subtitle')\n",
    "        price = product.find('span', class_='s-item__price')\n",
    "        n_bids = product.find('span', class_='s-item__bids s-item__bidCount')\n",
    "\n",
    "        # Dividi il testo di subtitle sul simbolo '|'\n",
    "        parts = subtitle.text.split('|')\n",
    "        if len(parts) == 2:  # Assicurati che ci siano esattamente due parti\n",
    "            item_condition, seller_type = [part.strip() for part in parts]\n",
    "            # Rimuovi \"EUR \" e sostituisci la virgola con un punto, poi converti in float\n",
    "            price_in_euro = float(price.text.replace('EUR ', '').replace('.', '').replace(',', '.'))\n",
    "        \n",
    "        # estraiamo il numero dall'elemento n_bids\n",
    "        n_bids = int(n_bids.text.split(' ')[0])\n",
    "\n",
    "        # Aggiungi i dati al risultato\n",
    "        results.append({\n",
    "            'title': title.text.strip(),\n",
    "            'seller_type': seller_type,\n",
    "            'item_condition': item_condition,\n",
    "            'price': price_in_euro,\n",
    "            'n_bids': n_bids\n",
    "        })\n",
    "        if i == 10:  # Limita il numero di risultati a 10\n",
    "            break\n",
    "    \n",
    "    return results\n",
    "\n",
    "# Example URL (ensure to replace with a valid one or parameterize appropriately)\n",
    "url = \"https://www.ebay.it/sch/i.html?_from=R40&_nkw=4080&_sacat=0&LH_Sold=1&LH_Auction=1&LH_PrefLoc=1&rt=nc\"\n",
    "listings = fetch_ebay_listings(url)\n",
    "listings = listings[1:-1]"
   ]
  },
  {
   "cell_type": "code",
   "execution_count": 55,
   "metadata": {},
   "outputs": [
    {
     "name": "stdout",
     "output_type": "stream",
     "text": [
      "{'title': 'KFA2 GeForce RTX 4080 SG 16GB GDDR6X Scheda Grafica', 'seller_type': 'Venditore privato', 'item_condition': 'Di seconda mano', 'price': 805.0, 'n_bids': 5}\n"
     ]
    }
   ],
   "source": [
    "print(listings[0])"
   ]
  },
  {
   "cell_type": "code",
   "execution_count": 56,
   "metadata": {},
   "outputs": [],
   "source": [
    "# now let's make a dataframe\n",
    "import pandas as pd\n",
    "df = pd.DataFrame(listings)"
   ]
  },
  {
   "cell_type": "code",
   "execution_count": 57,
   "metadata": {},
   "outputs": [
    {
     "data": {
      "text/html": [
       "<div>\n",
       "<style scoped>\n",
       "    .dataframe tbody tr th:only-of-type {\n",
       "        vertical-align: middle;\n",
       "    }\n",
       "\n",
       "    .dataframe tbody tr th {\n",
       "        vertical-align: top;\n",
       "    }\n",
       "\n",
       "    .dataframe thead th {\n",
       "        text-align: right;\n",
       "    }\n",
       "</style>\n",
       "<table border=\"1\" class=\"dataframe\">\n",
       "  <thead>\n",
       "    <tr style=\"text-align: right;\">\n",
       "      <th></th>\n",
       "      <th>title</th>\n",
       "      <th>seller_type</th>\n",
       "      <th>item_condition</th>\n",
       "      <th>price</th>\n",
       "      <th>n_bids</th>\n",
       "    </tr>\n",
       "  </thead>\n",
       "  <tbody>\n",
       "    <tr>\n",
       "      <th>0</th>\n",
       "      <td>KFA2 GeForce RTX 4080 SG 16GB GDDR6X Scheda Gr...</td>\n",
       "      <td>Venditore privato</td>\n",
       "      <td>Di seconda mano</td>\n",
       "      <td>805.0</td>\n",
       "      <td>5</td>\n",
       "    </tr>\n",
       "    <tr>\n",
       "      <th>1</th>\n",
       "      <td>Scheda video ZOTAC Nvidia RTX 4080 Trinity OC ...</td>\n",
       "      <td>Venditore professionale</td>\n",
       "      <td>Solo ricambi</td>\n",
       "      <td>605.0</td>\n",
       "      <td>31</td>\n",
       "    </tr>\n",
       "    <tr>\n",
       "      <th>2</th>\n",
       "      <td>ASUS ROG Strix GeForce RTX 4080 OC 16GB GDDR6X...</td>\n",
       "      <td>Venditore professionale</td>\n",
       "      <td>Di seconda mano</td>\n",
       "      <td>1270.0</td>\n",
       "      <td>49</td>\n",
       "    </tr>\n",
       "    <tr>\n",
       "      <th>3</th>\n",
       "      <td>KFA2 GeForce RTX 4080 SG 16GB GDDR6X Scheda Gr...</td>\n",
       "      <td>Venditore privato</td>\n",
       "      <td>Di seconda mano</td>\n",
       "      <td>1012.6</td>\n",
       "      <td>3</td>\n",
       "    </tr>\n",
       "    <tr>\n",
       "      <th>4</th>\n",
       "      <td>Inno3D GeForce RTX 4080 X3 NVIDIA 16 GB GDDR6X</td>\n",
       "      <td>Venditore privato</td>\n",
       "      <td>Di seconda mano</td>\n",
       "      <td>905.0</td>\n",
       "      <td>28</td>\n",
       "    </tr>\n",
       "    <tr>\n",
       "      <th>5</th>\n",
       "      <td>Nvidia GeForce RTX 3080 Ti ZOTAC GAMING Trinit...</td>\n",
       "      <td>Venditore privato</td>\n",
       "      <td>Di seconda mano</td>\n",
       "      <td>569.0</td>\n",
       "      <td>1</td>\n",
       "    </tr>\n",
       "    <tr>\n",
       "      <th>6</th>\n",
       "      <td>GIGABYTE GeForce RTX 4080 EAGLE OC 16GB GDDR6X...</td>\n",
       "      <td>Venditore privato</td>\n",
       "      <td>Di seconda mano</td>\n",
       "      <td>895.0</td>\n",
       "      <td>36</td>\n",
       "    </tr>\n",
       "    <tr>\n",
       "      <th>7</th>\n",
       "      <td>NVIDIA GeForce RTX 4080 SUPER FE Founders Edit...</td>\n",
       "      <td>Venditore privato</td>\n",
       "      <td>Nuovo</td>\n",
       "      <td>1420.0</td>\n",
       "      <td>63</td>\n",
       "    </tr>\n",
       "  </tbody>\n",
       "</table>\n",
       "</div>"
      ],
      "text/plain": [
       "                                               title              seller_type  \\\n",
       "0  KFA2 GeForce RTX 4080 SG 16GB GDDR6X Scheda Gr...        Venditore privato   \n",
       "1  Scheda video ZOTAC Nvidia RTX 4080 Trinity OC ...  Venditore professionale   \n",
       "2  ASUS ROG Strix GeForce RTX 4080 OC 16GB GDDR6X...  Venditore professionale   \n",
       "3  KFA2 GeForce RTX 4080 SG 16GB GDDR6X Scheda Gr...        Venditore privato   \n",
       "4     Inno3D GeForce RTX 4080 X3 NVIDIA 16 GB GDDR6X        Venditore privato   \n",
       "5  Nvidia GeForce RTX 3080 Ti ZOTAC GAMING Trinit...        Venditore privato   \n",
       "6  GIGABYTE GeForce RTX 4080 EAGLE OC 16GB GDDR6X...        Venditore privato   \n",
       "7  NVIDIA GeForce RTX 4080 SUPER FE Founders Edit...        Venditore privato   \n",
       "\n",
       "    item_condition   price  n_bids  \n",
       "0  Di seconda mano   805.0       5  \n",
       "1     Solo ricambi   605.0      31  \n",
       "2  Di seconda mano  1270.0      49  \n",
       "3  Di seconda mano  1012.6       3  \n",
       "4  Di seconda mano   905.0      28  \n",
       "5  Di seconda mano   569.0       1  \n",
       "6  Di seconda mano   895.0      36  \n",
       "7            Nuovo  1420.0      63  "
      ]
     },
     "execution_count": 57,
     "metadata": {},
     "output_type": "execute_result"
    }
   ],
   "source": [
    "df"
   ]
  },
  {
   "cell_type": "code",
   "execution_count": 66,
   "metadata": {},
   "outputs": [
    {
     "name": "stdout",
     "output_type": "stream",
     "text": [
      "Mean price: 935.2, Min price: 569.0, Max price: 1420.0\n"
     ]
    }
   ],
   "source": [
    "# calcoliamo il prezzo medio, minimo e massimo\n",
    "mean_price = df['price'].mean()\n",
    "min_price = df['price'].min()\n",
    "max_price = df['price'].max()\n",
    "print(f\"Mean price: {mean_price}, Min price: {min_price}, Max price: {max_price}\")"
   ]
  },
  {
   "cell_type": "code",
   "execution_count": 60,
   "metadata": {},
   "outputs": [
    {
     "data": {
      "image/png": "[encoded data removed]",
      "text/plain": [
       "<Figure size 1000x600 with 1 Axes>"
      ]
     },
     "metadata": {},
     "output_type": "display_data"
    }
   ],
   "source": [
    "# ora facciamo un plot dei prezzi sui prodotti\n",
    "import matplotlib.pyplot as plt\n",
    "fig = plt.figure(figsize=(10, 6))\n",
    "plt.violinplot(df['price'])\n",
    "plt.ylabel('Price (EUR)')\n",
    "plt.title('Price distribution of 4080 products on eBay')\n",
    "plt.show()"
   ]
  }
 ],
 "metadata": {
  "kernelspec": {
   "display_name": "its",
   "language": "python",
   "name": "python3"
  },
  "language_info": {
   "codemirror_mode": {
    "name": "ipython",
    "version": 3
   },
   "file_extension": ".py",
   "mimetype": "text/x-python",
   "name": "python",
   "nbconvert_exporter": "python",
   "pygments_lexer": "ipython3",
   "version": "3.11.8"
  }
 },
 "nbformat": 4,
 "nbformat_minor": 2
}
