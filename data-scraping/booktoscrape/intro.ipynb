{
 "cells": [
  {
   "cell_type": "code",
   "execution_count": 1,
   "metadata": {},
   "outputs": [],
   "source": [
    "import requests\n",
    "from bs4 import BeautifulSoup"
   ]
  },
  {
   "cell_type": "code",
   "execution_count": 2,
   "metadata": {},
   "outputs": [],
   "source": [
    "URL = \"https://books.toscrape.com/\"\n",
    "page = requests.get(URL)\n",
    "# print(page.text)"
   ]
  },
  {
   "cell_type": "code",
   "execution_count": 3,
   "metadata": {},
   "outputs": [],
   "source": [
    "soup = BeautifulSoup(page.text, \"html.parser\")\n",
    "# print(parsedData.prettify())"
   ]
  },
  {
   "cell_type": "markdown",
   "metadata": {},
   "source": [
    "![Alt text](image.png)\n"
   ]
  },
  {
   "cell_type": "markdown",
   "metadata": {},
   "source": [
    "Quando un documento HTML viene elaborato tramite Beautiful Soup, converte il complesso contenuto HTML in quattro principali oggetti Python; questi sono\n",
    "\n",
    "**BeautifulSoup**:\n",
    "Rappresenta il documento analizzato nel suo insieme. È il documento completo che stiamo cercando di estrarre."
   ]
  },
  {
   "cell_type": "code",
   "execution_count": 4,
   "metadata": {},
   "outputs": [
    {
     "name": "stdout",
     "output_type": "stream",
     "text": [
      "<class 'bs4.BeautifulSoup'>\n"
     ]
    }
   ],
   "source": [
    "print(type(soup))"
   ]
  },
  {
   "cell_type": "markdown",
   "metadata": {},
   "source": [
    "**Tag**:\n",
    "L'oggetto tag corrisponde a un particolare tag nel documento HTML. Può estrarre un tag dall'intero documento e restituire il primo tag trovato se nel DOM sono presenti più tag con lo stesso nome."
   ]
  },
  {
   "cell_type": "code",
   "execution_count": 6,
   "metadata": {},
   "outputs": [
    {
     "name": "stdout",
     "output_type": "stream",
     "text": [
      "<class 'bs4.element.Tag'>\n"
     ]
    }
   ],
   "source": [
    "print(type(soup.h1))"
   ]
  },
  {
   "cell_type": "markdown",
   "metadata": {},
   "source": [
    "**NavigableString**:\n",
    "Contiene il testo all'interno di un tag in formato stringa. Beautiful Soup utilizza l'oggetto NavigableString per memorizzare i testi di un tag."
   ]
  },
  {
   "cell_type": "code",
   "execution_count": 10,
   "metadata": {},
   "outputs": [
    {
     "name": "stdout",
     "output_type": "stream",
     "text": [
      "All products\n",
      "<class 'bs4.element.NavigableString'>\n"
     ]
    }
   ],
   "source": [
    "print(soup.h1.string)\n",
    "print(type(soup.h1.string))"
   ]
  },
  {
   "cell_type": "markdown",
   "metadata": {},
   "source": [
    "**Comments**:\n",
    "Legge i commenti HTML che sono presenti all'interno di un tag. È un tipo speciale di NavigableString."
   ]
  },
  {
   "cell_type": "code",
   "execution_count": 11,
   "metadata": {},
   "outputs": [
    {
     "name": "stdout",
     "output_type": "stream",
     "text": [
      " This is a comment \n",
      "<class 'bs4.element.Comment'>\n"
     ]
    }
   ],
   "source": [
    "soup2 = BeautifulSoup(\"<h1><!-- This is a comment --></h1>\", \"html.parser\")\n",
    "print(soup2.h1.string)\n",
    "print(type(soup2.h1.string))"
   ]
  },
  {
   "cell_type": "markdown",
   "metadata": {},
   "source": [
    "Ora, estraiamo il titolo"
   ]
  },
  {
   "cell_type": "code",
   "execution_count": 9,
   "metadata": {},
   "outputs": [
    {
     "name": "stdout",
     "output_type": "stream",
     "text": [
      "<title>\n",
      "    All products | Books to Scrape - Sandbox\n",
      "</title>\n",
      "\n",
      "    All products | Books to Scrape - Sandbox\n",
      "\n"
     ]
    }
   ],
   "source": [
    "print(soup.title)\n",
    "print(soup.title.string)"
   ]
  },
  {
   "cell_type": "markdown",
   "metadata": {},
   "source": [
    "**Find and Find All**\n",
    "\n",
    "Queste funzioni sono utili quando vuoi cercare un tag specifico nel contenuto HTML. Find() restituirà solo la prima occorrenza di quel tag, mentre find_all() restituirà tutte le occorrenze di quel tag. Puoi anche iterare tra di loro. Vediamo questo con un esempio qui sotto."
   ]
  },
  {
   "cell_type": "code",
   "execution_count": 27,
   "metadata": {},
   "outputs": [
    {
     "name": "stdout",
     "output_type": "stream",
     "text": [
      "[]\n"
     ]
    }
   ],
   "source": [
    "h2 = soup.find_all('h2')\n",
    "print(h2)"
   ]
  },
  {
   "cell_type": "code",
   "execution_count": 26,
   "metadata": {},
   "outputs": [
    {
     "name": "stdout",
     "output_type": "stream",
     "text": [
      "[<h3><a href=\"catalogue/a-light-in-the-attic_1000/index.html\" title=\"A Light in the Attic\">A Light in the ...</a></h3>, <h3><a href=\"catalogue/tipping-the-velvet_999/index.html\" title=\"Tipping the Velvet\">Tipping the Velvet</a></h3>, <h3><a href=\"catalogue/soumission_998/index.html\" title=\"Soumission\">Soumission</a></h3>]\n"
     ]
    }
   ],
   "source": [
    "h3 = soup.find_all('h3')\n",
    "print(h3[0:3])"
   ]
  },
  {
   "cell_type": "code",
   "execution_count": 33,
   "metadata": {},
   "outputs": [
    {
     "name": "stdout",
     "output_type": "stream",
     "text": [
      "<a href=\"index.html\">Books to Scrape</a>\n",
      "index.html\n"
     ]
    }
   ],
   "source": [
    "anchors = soup.find_all(\"a\")\n",
    "print(anchors[0])\n",
    "print(anchors[0][\"href\"])"
   ]
  },
  {
   "cell_type": "code",
   "execution_count": null,
   "metadata": {},
   "outputs": [],
   "source": [
    "for a in anchors:\n",
    "    print(a[\"href\"])"
   ]
  },
  {
   "cell_type": "markdown",
   "metadata": {},
   "source": [
    "Abbiamo prima i link per le diverse categorie, poi 2 link link per ogni libro, uno per l'immagine ed uno per il titolo, entrambi portano alla pagina del libro"
   ]
  },
  {
   "cell_type": "markdown",
   "metadata": {},
   "source": [
    "Vediamo le classi per ogni `<div>`"
   ]
  },
  {
   "cell_type": "code",
   "execution_count": 37,
   "metadata": {},
   "outputs": [
    {
     "name": "stdout",
     "output_type": "stream",
     "text": [
      "['page_inner']\n",
      "['row']\n",
      "['col-sm-8', 'h1']\n",
      "['container-fluid', 'page']\n",
      "['page_inner']\n",
      "['row']\n",
      "Nessun attributo nella classe\n",
      "['side_categories']\n",
      "['col-sm-8', 'col-md-9']\n",
      "['page-header', 'action']\n",
      "Nessun attributo nella classe\n",
      "Nessun attributo nella classe\n",
      "Nessun attributo nella classe\n",
      "['alert', 'alert-warning']\n",
      "Nessun attributo nella classe\n",
      "['image_container']\n",
      "['product_price']\n",
      "['image_container']\n",
      "['product_price']\n",
      "['image_container']\n",
      "['product_price']\n",
      "['image_container']\n",
      "['product_price']\n",
      "['image_container']\n",
      "['product_price']\n",
      "['image_container']\n",
      "['product_price']\n",
      "['image_container']\n",
      "['product_price']\n",
      "['image_container']\n",
      "['product_price']\n",
      "['image_container']\n",
      "['product_price']\n",
      "['image_container']\n",
      "['product_price']\n",
      "['image_container']\n",
      "['product_price']\n",
      "['image_container']\n",
      "['product_price']\n",
      "['image_container']\n",
      "['product_price']\n",
      "['image_container']\n",
      "['product_price']\n",
      "['image_container']\n",
      "['product_price']\n",
      "['image_container']\n",
      "['product_price']\n",
      "['image_container']\n",
      "['product_price']\n",
      "['image_container']\n",
      "['product_price']\n",
      "['image_container']\n",
      "['product_price']\n",
      "['image_container']\n",
      "['product_price']\n",
      "Nessun attributo nella classe\n"
     ]
    }
   ],
   "source": [
    "divs = soup.find_all(\"div\")\n",
    "for div in divs:\n",
    "    if \"class\" in div.attrs:\n",
    "        print(div[\"class\"])\n",
    "    else:\n",
    "        print(\"Nessun attributo nella classe\")"
   ]
  },
  {
   "cell_type": "markdown",
   "metadata": {},
   "source": [
    "**Finding Elements using Id and Class Name**\n",
    "\n",
    "We can also find specific elements by giving a particular id or a class name."
   ]
  },
  {
   "cell_type": "code",
   "execution_count": 52,
   "metadata": {},
   "outputs": [
    {
     "name": "stdout",
     "output_type": "stream",
     "text": [
      "numero di articoli:20\n",
      "\n",
      "\n",
      "<article class=\"product_pod\">\n",
      "<div class=\"image_container\">\n",
      "<a href=\"catalogue/sharp-objects_997/index.html\"><img alt=\"Sharp Objects\" class=\"thumbnail\" src=\"media/cache/32/51/3251cf3a3412f53f339e42cac2134093.jpg\"/></a>\n",
      "</div>\n",
      "<p class=\"star-rating Four\">\n",
      "<i class=\"icon-star\"></i>\n",
      "<i class=\"icon-star\"></i>\n",
      "<i class=\"icon-star\"></i>\n",
      "<i class=\"icon-star\"></i>\n",
      "<i class=\"icon-star\"></i>\n",
      "</p>\n",
      "<h3><a href=\"catalogue/sharp-objects_997/index.html\" title=\"Sharp Objects\">Sharp Objects</a></h3>\n",
      "<div class=\"product_price\">\n",
      "<p class=\"price_color\">Â£47.82</p>\n",
      "<p class=\"instock availability\">\n",
      "<i class=\"icon-ok\"></i>\n",
      "    \n",
      "        In stock\n",
      "    \n",
      "</p>\n",
      "<form>\n",
      "<button class=\"btn btn-primary btn-block\" data-loading-text=\"Adding...\" type=\"submit\">Add to basket</button>\n",
      "</form>\n",
      "</div>\n",
      "</article>\n"
     ]
    }
   ],
   "source": [
    "tags = soup.find_all(\"article\", class_=\"product_pod\")\n",
    "print(f\"numero di articoli:{len(tags)}\")\n",
    "print(\"\\n\")\n",
    "print(tags[3])"
   ]
  },
  {
   "cell_type": "markdown",
   "metadata": {},
   "source": [
    "Questo stamperà il testo di tutti gli articoli che appartengono al \"product_pod\". Tuttavia, scrivere il nome del tag non è sempre necessario se non ne sei sicuro. Puoi anche scrivere in questo modo."
   ]
  },
  {
   "cell_type": "code",
   "execution_count": 44,
   "metadata": {},
   "outputs": [
    {
     "name": "stdout",
     "output_type": "stream",
     "text": [
      "20\n"
     ]
    }
   ],
   "source": [
    "tags = soup.find_all(class_=\"product_pod\")\n",
    "print(len(tags))"
   ]
  },
  {
   "cell_type": "markdown",
   "metadata": {},
   "source": [
    "Vediamo cosa contiene ogni elemento con la classe 'prodotto'"
   ]
  },
  {
   "cell_type": "code",
   "execution_count": 57,
   "metadata": {},
   "outputs": [
    {
     "name": "stdout",
     "output_type": "stream",
     "text": [
      "{'class': ['product_pod']}\n"
     ]
    }
   ],
   "source": [
    "print(tags[2].attrs)"
   ]
  },
  {
   "cell_type": "markdown",
   "metadata": {},
   "source": [
    "**select()**\n",
    "\n",
    "La funzione select() ci permette di trovare specifici tag basati sui selettori CSS. I selettori CSS sono pattern che selezionano certi tag HTML basati sulla loro classe, id, attributo, ecc."
   ]
  },
  {
   "cell_type": "code",
   "execution_count": 19,
   "metadata": {},
   "outputs": [
    {
     "name": "stdout",
     "output_type": "stream",
     "text": [
      "[<h3><a href=\"catalogue/a-light-in-the-attic_1000/index.html\" title=\"A Light in the Attic\">A Light in the ...</a></h3>, <h3><a href=\"catalogue/tipping-the-velvet_999/index.html\" title=\"Tipping the Velvet\">Tipping the Velvet</a></h3>, <h3><a href=\"catalogue/soumission_998/index.html\" title=\"Soumission\">Soumission</a></h3>]\n"
     ]
    }
   ],
   "source": [
    "data = soup.select(\"h3\")\n",
    "print(data[0:3])"
   ]
  },
  {
   "cell_type": "markdown",
   "metadata": {},
   "source": [
    "contents\n",
    "\n",
    "Questo attributo restituisce i contenuti del tag selezionato in una lista."
   ]
  },
  {
   "cell_type": "code",
   "execution_count": 13,
   "metadata": {},
   "outputs": [
    {
     "name": "stdout",
     "output_type": "stream",
     "text": [
      "['\\n', <i class=\"icon-star\"></i>, '\\n', <i class=\"icon-star\"></i>, '\\n', <i class=\"icon-star\"></i>, '\\n', <i class=\"icon-star\"></i>, '\\n', <i class=\"icon-star\"></i>, '\\n']\n"
     ]
    }
   ],
   "source": [
    "tag = soup.find('p')\n",
    "print(tag.contents)"
   ]
  },
  {
   "cell_type": "markdown",
   "metadata": {},
   "source": [
    "attrs\n",
    "\n",
    "Questo attributo è usato per ottenere gli attributi di un tag in un dizionario."
   ]
  },
  {
   "cell_type": "code",
   "execution_count": 14,
   "metadata": {},
   "outputs": [
    {
     "name": "stdout",
     "output_type": "stream",
     "text": [
      "{'href': 'index.html'}\n"
     ]
    }
   ],
   "source": [
    "tag = soup.find('a')\n",
    "print(tag.attrs)"
   ]
  },
  {
   "cell_type": "markdown",
   "metadata": {},
   "source": [
    "has_attr()\n",
    "\n",
    "Questo metodo controlla se un tag ha un particolare attributo."
   ]
  },
  {
   "cell_type": "code",
   "execution_count": 15,
   "metadata": {},
   "outputs": [
    {
     "name": "stdout",
     "output_type": "stream",
     "text": [
      "True\n"
     ]
    }
   ],
   "source": [
    "tag = soup.find('a')\n",
    "print(tag.has_attr('href'))"
   ]
  },
  {
   "cell_type": "markdown",
   "metadata": {},
   "source": [
    "find_next()\n",
    "\n",
    "Questo metodo trova il tag successivo dopo un dato tag. Prende il nome del tag di input che deve trovare successivamente."
   ]
  },
  {
   "cell_type": "code",
   "execution_count": null,
   "metadata": {},
   "outputs": [],
   "source": [
    "first_anchor = soup.find(\"a\")\n",
    "second_anchor = first_anchor.find_next(\"a\")\n",
    "print(second_anchor)"
   ]
  },
  {
   "cell_type": "markdown",
   "metadata": {},
   "source": [
    "find_previous()\n",
    "\n",
    "Questo metodo è usato per trovare il tag precedente dopo un dato tag. Prende il nome del tag di input che deve trovare successivamente."
   ]
  },
  {
   "cell_type": "code",
   "execution_count": null,
   "metadata": {},
   "outputs": [],
   "source": [
    "second_anchor = soup.find_all('a')[1]\n",
    "first_anchor = second_anchor.find_previous('a')\n",
    "print(first_anchor)"
   ]
  }
 ],
 "metadata": {
  "kernelspec": {
   "display_name": "its",
   "language": "python",
   "name": "python3"
  },
  "language_info": {
   "codemirror_mode": {
    "name": "ipython",
    "version": 3
   },
   "file_extension": ".py",
   "mimetype": "text/x-python",
   "name": "python",
   "nbconvert_exporter": "python",
   "pygments_lexer": "ipython3",
   "version": "3.11.8"
  }
 },
 "nbformat": 4,
 "nbformat_minor": 2
}
