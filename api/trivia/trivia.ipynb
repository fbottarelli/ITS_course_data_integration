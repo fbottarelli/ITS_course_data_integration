{
 "cells": [
  {
   "cell_type": "code",
   "execution_count": 2,
   "metadata": {},
   "outputs": [],
   "source": [
    "import requests"
   ]
  },
  {
   "cell_type": "code",
   "execution_count": 4,
   "metadata": {},
   "outputs": [
    {
     "name": "stdout",
     "output_type": "stream",
     "text": [
      "{'response_code': 0, 'results': [{'type': 'boolean', 'difficulty': 'easy', 'category': 'Science: Computers', 'question': 'The Python programming language gets its name from the British comedy group &quot;Monty Python.&quot;', 'correct_answer': 'True', 'incorrect_answers': ['False']}, {'type': 'boolean', 'difficulty': 'medium', 'category': 'History', 'question': 'The first televised presidential debate was between Jimmy Carter and Gerald Ford.', 'correct_answer': 'False', 'incorrect_answers': ['True']}, {'type': 'boolean', 'difficulty': 'medium', 'category': 'General Knowledge', 'question': 'Coca-Cola&#039;s original colour was green.', 'correct_answer': 'False', 'incorrect_answers': ['True']}, {'type': 'boolean', 'difficulty': 'easy', 'category': 'Science: Mathematics', 'question': 'The sum of any two odd integers is odd.', 'correct_answer': 'False', 'incorrect_answers': ['True']}, {'type': 'boolean', 'difficulty': 'medium', 'category': 'Entertainment: Video Games', 'question': 'In Portal, the Companion Cube&#039;s ARE sentient.', 'correct_answer': 'True', 'incorrect_answers': ['False']}, {'type': 'boolean', 'difficulty': 'medium', 'category': 'History', 'question': 'Oxford University is older than the Aztec Empire. ', 'correct_answer': 'True', 'incorrect_answers': ['False']}, {'type': 'boolean', 'difficulty': 'medium', 'category': 'General Knowledge', 'question': 'The US emergency hotline is 911 because of the September 11th terrorist attacks.', 'correct_answer': 'False', 'incorrect_answers': ['True']}, {'type': 'boolean', 'difficulty': 'easy', 'category': 'Science: Mathematics', 'question': 'An isosceles triangle has two sides of equal length as opposed to three.', 'correct_answer': 'True', 'incorrect_answers': ['False']}, {'type': 'boolean', 'difficulty': 'easy', 'category': 'Entertainment: Music', 'question': 'Muse is a British (English) rock band', 'correct_answer': 'True', 'incorrect_answers': ['False']}, {'type': 'boolean', 'difficulty': 'easy', 'category': 'Art', 'question': 'Leonardo da Vinci was not the creator of the Mona Lisa.', 'correct_answer': 'False', 'incorrect_answers': ['True']}]}\n"
     ]
    }
   ],
   "source": [
    "url=\"https://opentdb.com/api.php?amount=10&type=boolean\"\n",
    "response = requests.get(url)\n",
    "data = response.json()\n",
    "print(data)"
   ]
  },
  {
   "cell_type": "code",
   "execution_count": null,
   "metadata": {},
   "outputs": [],
   "source": []
  }
 ],
 "metadata": {
  "kernelspec": {
   "display_name": "its",
   "language": "python",
   "name": "python3"
  },
  "language_info": {
   "codemirror_mode": {
    "name": "ipython",
    "version": 3
   },
   "file_extension": ".py",
   "mimetype": "text/x-python",
   "name": "python",
   "nbconvert_exporter": "python",
   "pygments_lexer": "ipython3",
   "version": "3.11.8"
  }
 },
 "nbformat": 4,
 "nbformat_minor": 2
}
