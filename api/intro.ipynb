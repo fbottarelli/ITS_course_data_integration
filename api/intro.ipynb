{
 "cells": [
  {
   "cell_type": "markdown",
   "metadata": {},
   "source": [
    "Creazione di un semplice server HTTP utilizzando il modulo http.server di Python. Potresti mostrare come avviare un server web di base con poche righe di codice e spiegare come gestisce le richieste HTTP in entrata."
   ]
  },
  {
   "cell_type": "code",
   "execution_count": null,
   "metadata": {},
   "outputs": [],
   "source": [
    "from http.server import HTTPServer, SimpleHTTPRequestHandler\n",
    "\n",
    "def run(server_class=HTTPServer, handler_class=SimpleHTTPRequestHandler):\n",
    "    server_address = ('', 8000)\n",
    "    httpd = server_class(server_address, handler_class)\n",
    "    print('Server in esecuzione sulla porta 8000...')\n",
    "    httpd.serve_forever()\n",
    "\n",
    "if __name__ == '__main__':\n",
    "    run()"
   ]
  },
  {
   "cell_type": "markdown",
   "metadata": {},
   "source": [
    "Utilizzo del framework Flask per creare un'applicazione web più completa. Potresti mostrare come definire le route, gestire le richieste GET e POST, e generare risposte HTML dinamiche."
   ]
  },
  {
   "cell_type": "code",
   "execution_count": null,
   "metadata": {},
   "outputs": [],
   "source": [
    "from flask import Flask, request, render_template\n",
    "\n",
    "app = Flask(__name__)\n",
    "\n",
    "@app.route('/')\n",
    "def home():\n",
    "    return render_template('home.html')\n",
    "\n",
    "@app.route('/saluta', methods=['POST'])\n",
    "def saluta():\n",
    "    nome = request.form['nome']\n",
    "    return f'Ciao, {nome}!'\n",
    "\n",
    "if __name__ == '__main__':\n",
    "    app.run()"
   ]
  },
  {
   "cell_type": "markdown",
   "metadata": {},
   "source": [
    "Dimostrazione di come effettuare richieste HTTP utilizzando il modulo requests di Python. Potresti mostrare come inviare richieste GET e POST a un server web e come gestire le risposte."
   ]
  },
  {
   "cell_type": "code",
   "execution_count": null,
   "metadata": {},
   "outputs": [],
   "source": [
    "import requests\n",
    "\n",
    "# Richiesta GET\n",
    "response = requests.get('https://api.example.com/data')\n",
    "print(response.status_code)\n",
    "print(response.json())\n",
    "\n",
    "# Richiesta POST\n",
    "data = {'username': 'john', 'password': 'secret'}\n",
    "response = requests.post('https://api.example.com/login', data=data)\n",
    "print(response.text)"
   ]
  }
 ],
 "metadata": {
  "language_info": {
   "name": "python"
  }
 },
 "nbformat": 4,
 "nbformat_minor": 2
}
