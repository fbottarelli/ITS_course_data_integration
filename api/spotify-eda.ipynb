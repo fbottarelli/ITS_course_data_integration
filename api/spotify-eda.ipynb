{
 "cells": [
  {
   "cell_type": "markdown",
   "metadata": {},
   "source": [
    "https://developer.spotify.com/documentation/web-api/tutorials/getting-started"
   ]
  },
  {
   "cell_type": "code",
   "execution_count": 7,
   "metadata": {},
   "outputs": [
    {
     "name": "stdout",
     "output_type": "stream",
     "text": [
      "Collecting python-dotenv\n",
      "  Using cached python_dotenv-1.0.1-py3-none-any.whl.metadata (23 kB)\n",
      "Using cached python_dotenv-1.0.1-py3-none-any.whl (19 kB)\n",
      "Installing collected packages: python-dotenv\n",
      "Successfully installed python-dotenv-1.0.1\n"
     ]
    }
   ],
   "source": [
    "# !pip install python-dotenv\n",
    "# !pip install spotipy"
   ]
  },
  {
   "cell_type": "code",
   "execution_count": 9,
   "metadata": {},
   "outputs": [],
   "source": [
    "import spotipy\n",
    "from spotipy.oauth2 import SpotifyClientCredentials\n",
    "from dotenv import load_dotenv\n"
   ]
  },
  {
   "cell_type": "code",
   "execution_count": 10,
   "metadata": {},
   "outputs": [],
   "source": [
    "load_dotenv()\n",
    "auth_manager = SpotifyClientCredentials()\n",
    "sp = spotipy.Spotify(auth_manager=auth_manager)"
   ]
  },
  {
   "cell_type": "code",
   "execution_count": 14,
   "metadata": {},
   "outputs": [
    {
     "name": "stdout",
     "output_type": "stream",
     "text": [
      "{'external_urls': {'spotify': 'https://open.spotify.com/artist/3jOstUTkEu2JkjvRdBA5Gu'}, 'followers': {'href': None, 'total': 3454835}, 'genres': ['alternative rock', 'modern power pop', 'modern rock', 'permanent wave', 'rock'], 'href': 'https://api.spotify.com/v1/artists/3jOstUTkEu2JkjvRdBA5Gu', 'id': '3jOstUTkEu2JkjvRdBA5Gu', 'images': [{'height': 640, 'url': 'https://i.scdn.co/image/ab6761610000e5eb3cd35451daa1b690cfbbb2d4', 'width': 640}, {'height': 320, 'url': 'https://i.scdn.co/image/ab676161000051743cd35451daa1b690cfbbb2d4', 'width': 320}, {'height': 160, 'url': 'https://i.scdn.co/image/ab6761610000f1783cd35451daa1b690cfbbb2d4', 'width': 160}], 'name': 'Weezer', 'popularity': 74, 'type': 'artist', 'uri': 'spotify:artist:3jOstUTkEu2JkjvRdBA5Gu'}\n"
     ]
    }
   ],
   "source": [
    "urn = 'spotify:artist:3jOstUTkEu2JkjvRdBA5Gu'\n",
    "artist = sp.artist(urn)\n",
    "print(artist)"
   ]
  },
  {
   "cell_type": "code",
   "execution_count": 16,
   "metadata": {},
   "outputs": [
    {
     "name": "stdout",
     "output_type": "stream",
     "text": [
      "{'tracks': [{'album': {'album_type': 'album', 'artists': [{'external_urls': {'spotify': 'https://open.spotify.com/artist/3jOstUTkEu2JkjvRdBA5Gu'}, 'href': 'https://api.spotify.com/v1/artists/3jOstUTkEu2JkjvRdBA5Gu', 'id': '3jOstUTkEu2JkjvRdBA5Gu', 'name': 'Weezer', 'type': 'artist', 'uri': 'spotify:artist:3jOstUTkEu2JkjvRdBA5Gu'}], 'external_urls': {'spotify': 'https://open.spotify.com/album/2OBSz5Nlto0Q5CtYPzPY7c'}, 'href': 'https://api.spotify.com/v1/albums/2OBSz5Nlto0Q5CtYPzPY7c', 'id': '2OBSz5Nlto0Q5CtYPzPY7c', 'images': [{'height': 640, 'url': 'https://i.scdn.co/image/ab67616d0000b2731e0dc5baaabda304b0ad1815', 'width': 640}, {'height': 300, 'url': 'https://i.scdn.co/image/ab67616d00001e021e0dc5baaabda304b0ad1815', 'width': 300}, {'height': 64, 'url': 'https://i.scdn.co/image/ab67616d000048511e0dc5baaabda304b0ad1815', 'width': 64}], 'is_playable': True, 'name': 'Weezer', 'release_date': '2001-05-15', 'release_date_precision': 'day', 'total_tracks': 10, 'type': 'album', 'uri': 'spotify:album:2OBSz5Nlto0Q5CtYPzPY7c'}, 'artists': [{'external_urls': {'spotify': 'https://open.spotify.com/artist/3jOstUTkEu2JkjvRdBA5Gu'}, 'href': 'https://api.spotify.com/v1/artists/3jOstUTkEu2JkjvRdBA5Gu', 'id': '3jOstUTkEu2JkjvRdBA5Gu', 'name': 'Weezer', 'type': 'artist', 'uri': 'spotify:artist:3jOstUTkEu2JkjvRdBA5Gu'}], 'disc_number': 1, 'duration_ms': 200306, 'explicit': False, 'external_ids': {'isrc': 'USIR10110358'}, 'external_urls': {'spotify': 'https://open.spotify.com/track/2MLHyLy5z5l5YRp7momlgw'}, 'href': 'https://api.spotify.com/v1/tracks/2MLHyLy5z5l5YRp7momlgw', 'id': '2MLHyLy5z5l5YRp7momlgw', 'is_local': False, 'is_playable': True, 'name': 'Island In The Sun', 'popularity': 79, 'preview_url': None, 'track_number': 4, 'type': 'track', 'uri': 'spotify:track:2MLHyLy5z5l5YRp7momlgw'}, {'album': {'album_type': 'album', 'artists': [{'external_urls': {'spotify': 'https://open.spotify.com/artist/3jOstUTkEu2JkjvRdBA5Gu'}, 'href': 'https://api.spotify.com/v1/artists/3jOstUTkEu2JkjvRdBA5Gu', 'id': '3jOstUTkEu2JkjvRdBA5Gu', 'name': 'Weezer', 'type': 'artist', 'uri': 'spotify:artist:3jOstUTkEu2JkjvRdBA5Gu'}], 'external_urls': {'spotify': 'https://open.spotify.com/album/1xpGyKyV26uPstk1Elgp9Q'}, 'href': 'https://api.spotify.com/v1/albums/1xpGyKyV26uPstk1Elgp9Q', 'id': '1xpGyKyV26uPstk1Elgp9Q', 'images': [{'height': 640, 'url': 'https://i.scdn.co/image/ab67616d0000b273345536847e60f622ee0eae96', 'width': 640}, {'height': 300, 'url': 'https://i.scdn.co/image/ab67616d00001e02345536847e60f622ee0eae96', 'width': 300}, {'height': 64, 'url': 'https://i.scdn.co/image/ab67616d00004851345536847e60f622ee0eae96', 'width': 64}], 'is_playable': True, 'name': 'Weezer', 'release_date': '1994-05-10', 'release_date_precision': 'day', 'total_tracks': 10, 'type': 'album', 'uri': 'spotify:album:1xpGyKyV26uPstk1Elgp9Q'}, 'artists': [{'external_urls': {'spotify': 'https://open.spotify.com/artist/3jOstUTkEu2JkjvRdBA5Gu'}, 'href': 'https://api.spotify.com/v1/artists/3jOstUTkEu2JkjvRdBA5Gu', 'id': '3jOstUTkEu2JkjvRdBA5Gu', 'name': 'Weezer', 'type': 'artist', 'uri': 'spotify:artist:3jOstUTkEu2JkjvRdBA5Gu'}], 'disc_number': 1, 'duration_ms': 258826, 'explicit': False, 'external_ids': {'isrc': 'USGF19962907'}, 'external_urls': {'spotify': 'https://open.spotify.com/track/6VoIBz0VhCyz7OdEoRYDiA'}, 'href': 'https://api.spotify.com/v1/tracks/6VoIBz0VhCyz7OdEoRYDiA', 'id': '6VoIBz0VhCyz7OdEoRYDiA', 'is_local': False, 'is_playable': True, 'name': \"Say It Ain't So\", 'popularity': 77, 'preview_url': None, 'track_number': 7, 'type': 'track', 'uri': 'spotify:track:6VoIBz0VhCyz7OdEoRYDiA'}, {'album': {'album_type': 'album', 'artists': [{'external_urls': {'spotify': 'https://open.spotify.com/artist/3jOstUTkEu2JkjvRdBA5Gu'}, 'href': 'https://api.spotify.com/v1/artists/3jOstUTkEu2JkjvRdBA5Gu', 'id': '3jOstUTkEu2JkjvRdBA5Gu', 'name': 'Weezer', 'type': 'artist', 'uri': 'spotify:artist:3jOstUTkEu2JkjvRdBA5Gu'}], 'external_urls': {'spotify': 'https://open.spotify.com/album/1xpGyKyV26uPstk1Elgp9Q'}, 'href': 'https://api.spotify.com/v1/albums/1xpGyKyV26uPstk1Elgp9Q', 'id': '1xpGyKyV26uPstk1Elgp9Q', 'images': [{'height': 640, 'url': 'https://i.scdn.co/image/ab67616d0000b273345536847e60f622ee0eae96', 'width': 640}, {'height': 300, 'url': 'https://i.scdn.co/image/ab67616d00001e02345536847e60f622ee0eae96', 'width': 300}, {'height': 64, 'url': 'https://i.scdn.co/image/ab67616d00004851345536847e60f622ee0eae96', 'width': 64}], 'is_playable': True, 'name': 'Weezer', 'release_date': '1994-05-10', 'release_date_precision': 'day', 'total_tracks': 10, 'type': 'album', 'uri': 'spotify:album:1xpGyKyV26uPstk1Elgp9Q'}, 'artists': [{'external_urls': {'spotify': 'https://open.spotify.com/artist/3jOstUTkEu2JkjvRdBA5Gu'}, 'href': 'https://api.spotify.com/v1/artists/3jOstUTkEu2JkjvRdBA5Gu', 'id': '3jOstUTkEu2JkjvRdBA5Gu', 'name': 'Weezer', 'type': 'artist', 'uri': 'spotify:artist:3jOstUTkEu2JkjvRdBA5Gu'}], 'disc_number': 1, 'duration_ms': 159226, 'explicit': False, 'external_ids': {'isrc': 'USGF19562907'}, 'external_urls': {'spotify': 'https://open.spotify.com/track/3mwvKOyMmG77zZRunnxp9E'}, 'href': 'https://api.spotify.com/v1/tracks/3mwvKOyMmG77zZRunnxp9E', 'id': '3mwvKOyMmG77zZRunnxp9E', 'is_local': False, 'is_playable': True, 'name': 'Buddy Holly', 'popularity': 75, 'preview_url': None, 'track_number': 4, 'type': 'track', 'uri': 'spotify:track:3mwvKOyMmG77zZRunnxp9E'}, {'album': {'album_type': 'album', 'artists': [{'external_urls': {'spotify': 'https://open.spotify.com/artist/3jOstUTkEu2JkjvRdBA5Gu'}, 'href': 'https://api.spotify.com/v1/artists/3jOstUTkEu2JkjvRdBA5Gu', 'id': '3jOstUTkEu2JkjvRdBA5Gu', 'name': 'Weezer', 'type': 'artist', 'uri': 'spotify:artist:3jOstUTkEu2JkjvRdBA5Gu'}], 'external_urls': {'spotify': 'https://open.spotify.com/album/4D8A8M0NJjEdQhusawyeDz'}, 'href': 'https://api.spotify.com/v1/albums/4D8A8M0NJjEdQhusawyeDz', 'id': '4D8A8M0NJjEdQhusawyeDz', 'images': [{'height': 640, 'url': 'https://i.scdn.co/image/ab67616d0000b273a9def696688b8353ad8511ad', 'width': 640}, {'height': 300, 'url': 'https://i.scdn.co/image/ab67616d00001e02a9def696688b8353ad8511ad', 'width': 300}, {'height': 64, 'url': 'https://i.scdn.co/image/ab67616d00004851a9def696688b8353ad8511ad', 'width': 64}], 'is_playable': True, 'name': 'Make Believe', 'release_date': '2005-05-10', 'release_date_precision': 'day', 'total_tracks': 12, 'type': 'album', 'uri': 'spotify:album:4D8A8M0NJjEdQhusawyeDz'}, 'artists': [{'external_urls': {'spotify': 'https://open.spotify.com/artist/3jOstUTkEu2JkjvRdBA5Gu'}, 'href': 'https://api.spotify.com/v1/artists/3jOstUTkEu2JkjvRdBA5Gu', 'id': '3jOstUTkEu2JkjvRdBA5Gu', 'name': 'Weezer', 'type': 'artist', 'uri': 'spotify:artist:3jOstUTkEu2JkjvRdBA5Gu'}], 'disc_number': 1, 'duration_ms': 196093, 'explicit': False, 'external_ids': {'isrc': 'USIR10500448'}, 'external_urls': {'spotify': 'https://open.spotify.com/track/1yKu2MhpwzDXXH2tzG6xoa'}, 'href': 'https://api.spotify.com/v1/tracks/1yKu2MhpwzDXXH2tzG6xoa', 'id': '1yKu2MhpwzDXXH2tzG6xoa', 'is_local': False, 'is_playable': True, 'name': 'Beverly Hills', 'popularity': 72, 'preview_url': None, 'track_number': 1, 'type': 'track', 'uri': 'spotify:track:1yKu2MhpwzDXXH2tzG6xoa'}, {'album': {'album_type': 'album', 'artists': [{'external_urls': {'spotify': 'https://open.spotify.com/artist/3jOstUTkEu2JkjvRdBA5Gu'}, 'href': 'https://api.spotify.com/v1/artists/3jOstUTkEu2JkjvRdBA5Gu', 'id': '3jOstUTkEu2JkjvRdBA5Gu', 'name': 'Weezer', 'type': 'artist', 'uri': 'spotify:artist:3jOstUTkEu2JkjvRdBA5Gu'}], 'external_urls': {'spotify': 'https://open.spotify.com/album/1xpGyKyV26uPstk1Elgp9Q'}, 'href': 'https://api.spotify.com/v1/albums/1xpGyKyV26uPstk1Elgp9Q', 'id': '1xpGyKyV26uPstk1Elgp9Q', 'images': [{'height': 640, 'url': 'https://i.scdn.co/image/ab67616d0000b273345536847e60f622ee0eae96', 'width': 640}, {'height': 300, 'url': 'https://i.scdn.co/image/ab67616d00001e02345536847e60f622ee0eae96', 'width': 300}, {'height': 64, 'url': 'https://i.scdn.co/image/ab67616d00004851345536847e60f622ee0eae96', 'width': 64}], 'is_playable': True, 'name': 'Weezer', 'release_date': '1994-05-10', 'release_date_precision': 'day', 'total_tracks': 10, 'type': 'album', 'uri': 'spotify:album:1xpGyKyV26uPstk1Elgp9Q'}, 'artists': [{'external_urls': {'spotify': 'https://open.spotify.com/artist/3jOstUTkEu2JkjvRdBA5Gu'}, 'href': 'https://api.spotify.com/v1/artists/3jOstUTkEu2JkjvRdBA5Gu', 'id': '3jOstUTkEu2JkjvRdBA5Gu', 'name': 'Weezer', 'type': 'artist', 'uri': 'spotify:artist:3jOstUTkEu2JkjvRdBA5Gu'}], 'disc_number': 1, 'duration_ms': 305533, 'explicit': False, 'external_ids': {'isrc': 'USGF19962905'}, 'external_urls': {'spotify': 'https://open.spotify.com/track/5WhtlIoxoZrMmuaWWEQhwV'}, 'href': 'https://api.spotify.com/v1/tracks/5WhtlIoxoZrMmuaWWEQhwV', 'id': '5WhtlIoxoZrMmuaWWEQhwV', 'is_local': False, 'is_playable': True, 'name': 'Undone - The Sweater Song', 'popularity': 70, 'preview_url': None, 'track_number': 5, 'type': 'track', 'uri': 'spotify:track:5WhtlIoxoZrMmuaWWEQhwV'}, {'album': {'album_type': 'album', 'artists': [{'external_urls': {'spotify': 'https://open.spotify.com/artist/3jOstUTkEu2JkjvRdBA5Gu'}, 'href': 'https://api.spotify.com/v1/artists/3jOstUTkEu2JkjvRdBA5Gu', 'id': '3jOstUTkEu2JkjvRdBA5Gu', 'name': 'Weezer', 'type': 'artist', 'uri': 'spotify:artist:3jOstUTkEu2JkjvRdBA5Gu'}], 'external_urls': {'spotify': 'https://open.spotify.com/album/2OBSz5Nlto0Q5CtYPzPY7c'}, 'href': 'https://api.spotify.com/v1/albums/2OBSz5Nlto0Q5CtYPzPY7c', 'id': '2OBSz5Nlto0Q5CtYPzPY7c', 'images': [{'height': 640, 'url': 'https://i.scdn.co/image/ab67616d0000b2731e0dc5baaabda304b0ad1815', 'width': 640}, {'height': 300, 'url': 'https://i.scdn.co/image/ab67616d00001e021e0dc5baaabda304b0ad1815', 'width': 300}, {'height': 64, 'url': 'https://i.scdn.co/image/ab67616d000048511e0dc5baaabda304b0ad1815', 'width': 64}], 'is_playable': True, 'name': 'Weezer', 'release_date': '2001-05-15', 'release_date_precision': 'day', 'total_tracks': 10, 'type': 'album', 'uri': 'spotify:album:2OBSz5Nlto0Q5CtYPzPY7c'}, 'artists': [{'external_urls': {'spotify': 'https://open.spotify.com/artist/3jOstUTkEu2JkjvRdBA5Gu'}, 'href': 'https://api.spotify.com/v1/artists/3jOstUTkEu2JkjvRdBA5Gu', 'id': '3jOstUTkEu2JkjvRdBA5Gu', 'name': 'Weezer', 'type': 'artist', 'uri': 'spotify:artist:3jOstUTkEu2JkjvRdBA5Gu'}], 'disc_number': 1, 'duration_ms': 186533, 'explicit': False, 'external_ids': {'isrc': 'USIR10110319'}, 'external_urls': {'spotify': 'https://open.spotify.com/track/2mPMFJvQ0v27gVqe5b6nDn'}, 'href': 'https://api.spotify.com/v1/tracks/2mPMFJvQ0v27gVqe5b6nDn', 'id': '2mPMFJvQ0v27gVqe5b6nDn', 'is_local': False, 'is_playable': True, 'name': 'Hash Pipe', 'popularity': 68, 'preview_url': None, 'track_number': 3, 'type': 'track', 'uri': 'spotify:track:2mPMFJvQ0v27gVqe5b6nDn'}, {'album': {'album_type': 'album', 'artists': [{'external_urls': {'spotify': 'https://open.spotify.com/artist/3jOstUTkEu2JkjvRdBA5Gu'}, 'href': 'https://api.spotify.com/v1/artists/3jOstUTkEu2JkjvRdBA5Gu', 'id': '3jOstUTkEu2JkjvRdBA5Gu', 'name': 'Weezer', 'type': 'artist', 'uri': 'spotify:artist:3jOstUTkEu2JkjvRdBA5Gu'}], 'external_urls': {'spotify': 'https://open.spotify.com/album/56LtTJnIBlgf4obkP13Skz'}, 'href': 'https://api.spotify.com/v1/albums/56LtTJnIBlgf4obkP13Skz', 'id': '56LtTJnIBlgf4obkP13Skz', 'images': [{'height': 640, 'url': 'https://i.scdn.co/image/ab67616d0000b273b34530ac4a80275e3ff2faab', 'width': 640}, {'height': 300, 'url': 'https://i.scdn.co/image/ab67616d00001e02b34530ac4a80275e3ff2faab', 'width': 300}, {'height': 64, 'url': 'https://i.scdn.co/image/ab67616d00004851b34530ac4a80275e3ff2faab', 'width': 64}], 'is_playable': True, 'name': 'Pinkerton - Deluxe Edition', 'release_date': '1996-09-24', 'release_date_precision': 'day', 'total_tracks': 36, 'type': 'album', 'uri': 'spotify:album:56LtTJnIBlgf4obkP13Skz'}, 'artists': [{'external_urls': {'spotify': 'https://open.spotify.com/artist/3jOstUTkEu2JkjvRdBA5Gu'}, 'href': 'https://api.spotify.com/v1/artists/3jOstUTkEu2JkjvRdBA5Gu', 'id': '3jOstUTkEu2JkjvRdBA5Gu', 'name': 'Weezer', 'type': 'artist', 'uri': 'spotify:artist:3jOstUTkEu2JkjvRdBA5Gu'}], 'disc_number': 1, 'duration_ms': 157960, 'explicit': False, 'external_ids': {'isrc': 'USUM71021458'}, 'external_urls': {'spotify': 'https://open.spotify.com/track/35SRuRfp5BvD1yArmXKNHO'}, 'href': 'https://api.spotify.com/v1/tracks/35SRuRfp5BvD1yArmXKNHO', 'id': '35SRuRfp5BvD1yArmXKNHO', 'is_local': False, 'is_playable': True, 'name': 'I Just Threw Out The Love Of My Dreams', 'popularity': 67, 'preview_url': None, 'track_number': 15, 'type': 'track', 'uri': 'spotify:track:35SRuRfp5BvD1yArmXKNHO'}, {'album': {'album_type': 'album', 'artists': [{'external_urls': {'spotify': 'https://open.spotify.com/artist/6USv9qhCn6zfxlBQIYJ9qs'}, 'href': 'https://api.spotify.com/v1/artists/6USv9qhCn6zfxlBQIYJ9qs', 'id': '6USv9qhCn6zfxlBQIYJ9qs', 'name': 'Dominic Fike', 'type': 'artist', 'uri': 'spotify:artist:6USv9qhCn6zfxlBQIYJ9qs'}], 'external_urls': {'spotify': 'https://open.spotify.com/album/2T7LuxZRr6SQMgABLtoYTH'}, 'href': 'https://api.spotify.com/v1/albums/2T7LuxZRr6SQMgABLtoYTH', 'id': '2T7LuxZRr6SQMgABLtoYTH', 'images': [{'height': 640, 'url': 'https://i.scdn.co/image/ab67616d0000b2730fb08616c78d44ceb4c8d061', 'width': 640}, {'height': 300, 'url': 'https://i.scdn.co/image/ab67616d00001e020fb08616c78d44ceb4c8d061', 'width': 300}, {'height': 64, 'url': 'https://i.scdn.co/image/ab67616d000048510fb08616c78d44ceb4c8d061', 'width': 64}], 'is_playable': True, 'name': 'Sunburn', 'release_date': '2023-07-07', 'release_date_precision': 'day', 'total_tracks': 15, 'type': 'album', 'uri': 'spotify:album:2T7LuxZRr6SQMgABLtoYTH'}, 'artists': [{'external_urls': {'spotify': 'https://open.spotify.com/artist/6USv9qhCn6zfxlBQIYJ9qs'}, 'href': 'https://api.spotify.com/v1/artists/6USv9qhCn6zfxlBQIYJ9qs', 'id': '6USv9qhCn6zfxlBQIYJ9qs', 'name': 'Dominic Fike', 'type': 'artist', 'uri': 'spotify:artist:6USv9qhCn6zfxlBQIYJ9qs'}, {'external_urls': {'spotify': 'https://open.spotify.com/artist/3jOstUTkEu2JkjvRdBA5Gu'}, 'href': 'https://api.spotify.com/v1/artists/3jOstUTkEu2JkjvRdBA5Gu', 'id': '3jOstUTkEu2JkjvRdBA5Gu', 'name': 'Weezer', 'type': 'artist', 'uri': 'spotify:artist:3jOstUTkEu2JkjvRdBA5Gu'}], 'disc_number': 1, 'duration_ms': 222839, 'explicit': False, 'external_ids': {'isrc': 'USQX92301811'}, 'external_urls': {'spotify': 'https://open.spotify.com/track/4Z59a9hIn8EMsni3OiqGso'}, 'href': 'https://api.spotify.com/v1/tracks/4Z59a9hIn8EMsni3OiqGso', 'id': '4Z59a9hIn8EMsni3OiqGso', 'is_local': False, 'is_playable': True, 'name': 'Think Fast (feat. Weezer)', 'popularity': 64, 'preview_url': 'https://p.scdn.co/mp3-preview/5396c0ca0f450b38f9c282b8d71682a22c5d3020?cid=8cb5bb5cba85438da92c4aaac4b30c8c', 'track_number': 3, 'type': 'track', 'uri': 'spotify:track:4Z59a9hIn8EMsni3OiqGso'}, {'album': {'album_type': 'album', 'artists': [{'external_urls': {'spotify': 'https://open.spotify.com/artist/3jOstUTkEu2JkjvRdBA5Gu'}, 'href': 'https://api.spotify.com/v1/artists/3jOstUTkEu2JkjvRdBA5Gu', 'id': '3jOstUTkEu2JkjvRdBA5Gu', 'name': 'Weezer', 'type': 'artist', 'uri': 'spotify:artist:3jOstUTkEu2JkjvRdBA5Gu'}], 'external_urls': {'spotify': 'https://open.spotify.com/album/1xpGyKyV26uPstk1Elgp9Q'}, 'href': 'https://api.spotify.com/v1/albums/1xpGyKyV26uPstk1Elgp9Q', 'id': '1xpGyKyV26uPstk1Elgp9Q', 'images': [{'height': 640, 'url': 'https://i.scdn.co/image/ab67616d0000b273345536847e60f622ee0eae96', 'width': 640}, {'height': 300, 'url': 'https://i.scdn.co/image/ab67616d00001e02345536847e60f622ee0eae96', 'width': 300}, {'height': 64, 'url': 'https://i.scdn.co/image/ab67616d00004851345536847e60f622ee0eae96', 'width': 64}], 'is_playable': True, 'name': 'Weezer', 'release_date': '1994-05-10', 'release_date_precision': 'day', 'total_tracks': 10, 'type': 'album', 'uri': 'spotify:album:1xpGyKyV26uPstk1Elgp9Q'}, 'artists': [{'external_urls': {'spotify': 'https://open.spotify.com/artist/3jOstUTkEu2JkjvRdBA5Gu'}, 'href': 'https://api.spotify.com/v1/artists/3jOstUTkEu2JkjvRdBA5Gu', 'id': '3jOstUTkEu2JkjvRdBA5Gu', 'name': 'Weezer', 'type': 'artist', 'uri': 'spotify:artist:3jOstUTkEu2JkjvRdBA5Gu'}], 'disc_number': 1, 'duration_ms': 204293, 'explicit': False, 'external_ids': {'isrc': 'USGF19962901'}, 'external_urls': {'spotify': 'https://open.spotify.com/track/4nzyOwogJuWn1s6QuGFZ6w'}, 'href': 'https://api.spotify.com/v1/tracks/4nzyOwogJuWn1s6QuGFZ6w', 'id': '4nzyOwogJuWn1s6QuGFZ6w', 'is_local': False, 'is_playable': True, 'name': 'My Name Is Jonas', 'popularity': 62, 'preview_url': None, 'track_number': 1, 'type': 'track', 'uri': 'spotify:track:4nzyOwogJuWn1s6QuGFZ6w'}, {'album': {'album_type': 'album', 'artists': [{'external_urls': {'spotify': 'https://open.spotify.com/artist/3jOstUTkEu2JkjvRdBA5Gu'}, 'href': 'https://api.spotify.com/v1/artists/3jOstUTkEu2JkjvRdBA5Gu', 'id': '3jOstUTkEu2JkjvRdBA5Gu', 'name': 'Weezer', 'type': 'artist', 'uri': 'spotify:artist:3jOstUTkEu2JkjvRdBA5Gu'}], 'external_urls': {'spotify': 'https://open.spotify.com/album/6v8wNjiQDhDijoapXXZ9mZ'}, 'href': 'https://api.spotify.com/v1/albums/6v8wNjiQDhDijoapXXZ9mZ', 'id': '6v8wNjiQDhDijoapXXZ9mZ', 'images': [{'height': 640, 'url': 'https://i.scdn.co/image/ab67616d0000b273464da76fa0e1570e1844b622', 'width': 640}, {'height': 300, 'url': 'https://i.scdn.co/image/ab67616d00001e02464da76fa0e1570e1844b622', 'width': 300}, {'height': 64, 'url': 'https://i.scdn.co/image/ab67616d00004851464da76fa0e1570e1844b622', 'width': 64}], 'is_playable': True, 'name': 'Weezer', 'release_date': '2008-01-01', 'release_date_precision': 'day', 'total_tracks': 14, 'type': 'album', 'uri': 'spotify:album:6v8wNjiQDhDijoapXXZ9mZ'}, 'artists': [{'external_urls': {'spotify': 'https://open.spotify.com/artist/3jOstUTkEu2JkjvRdBA5Gu'}, 'href': 'https://api.spotify.com/v1/artists/3jOstUTkEu2JkjvRdBA5Gu', 'id': '3jOstUTkEu2JkjvRdBA5Gu', 'name': 'Weezer', 'type': 'artist', 'uri': 'spotify:artist:3jOstUTkEu2JkjvRdBA5Gu'}], 'disc_number': 1, 'duration_ms': 189400, 'explicit': False, 'external_ids': {'isrc': 'USUM70811232'}, 'external_urls': {'spotify': 'https://open.spotify.com/track/7wclPheMJAUKn2njmO2s3A'}, 'href': 'https://api.spotify.com/v1/tracks/7wclPheMJAUKn2njmO2s3A', 'id': '7wclPheMJAUKn2njmO2s3A', 'is_local': False, 'is_playable': True, 'name': 'Pork And Beans', 'popularity': 59, 'preview_url': None, 'track_number': 3, 'type': 'track', 'uri': 'spotify:track:7wclPheMJAUKn2njmO2s3A'}]}\n"
     ]
    }
   ],
   "source": [
    "artist_top_tracks = sp.artist_top_tracks(urn)\n",
    "print(artist_top_tracks)"
   ]
  },
  {
   "cell_type": "code",
   "execution_count": 28,
   "metadata": {},
   "outputs": [
    {
     "name": "stdout",
     "output_type": "stream",
     "text": [
      "<class 'dict'>\n",
      "dict_keys(['tracks'])\n",
      "<class 'list'>\n",
      "<class 'dict'>\n"
     ]
    }
   ],
   "source": [
    "print(type(artist_top_tracks))\n",
    "print(artist_top_tracks.keys())\n",
    "print(type(artist_top_tracks['tracks']))\n",
    "print(type(artist_top_tracks['tracks'][0]))"
   ]
  },
  {
   "cell_type": "code",
   "execution_count": 29,
   "metadata": {},
   "outputs": [
    {
     "name": "stdout",
     "output_type": "stream",
     "text": [
      "{'album': {'album_type': 'album', 'artists': [{'external_urls': {'spotify': 'https://open.spotify.com/artist/3jOstUTkEu2JkjvRdBA5Gu'}, 'href': 'https://api.spotify.com/v1/artists/3jOstUTkEu2JkjvRdBA5Gu', 'id': '3jOstUTkEu2JkjvRdBA5Gu', 'name': 'Weezer', 'type': 'artist', 'uri': 'spotify:artist:3jOstUTkEu2JkjvRdBA5Gu'}], 'external_urls': {'spotify': 'https://open.spotify.com/album/2OBSz5Nlto0Q5CtYPzPY7c'}, 'href': 'https://api.spotify.com/v1/albums/2OBSz5Nlto0Q5CtYPzPY7c', 'id': '2OBSz5Nlto0Q5CtYPzPY7c', 'images': [{'height': 640, 'url': 'https://i.scdn.co/image/ab67616d0000b2731e0dc5baaabda304b0ad1815', 'width': 640}, {'height': 300, 'url': 'https://i.scdn.co/image/ab67616d00001e021e0dc5baaabda304b0ad1815', 'width': 300}, {'height': 64, 'url': 'https://i.scdn.co/image/ab67616d000048511e0dc5baaabda304b0ad1815', 'width': 64}], 'is_playable': True, 'name': 'Weezer', 'release_date': '2001-05-15', 'release_date_precision': 'day', 'total_tracks': 10, 'type': 'album', 'uri': 'spotify:album:2OBSz5Nlto0Q5CtYPzPY7c'}, 'artists': [{'external_urls': {'spotify': 'https://open.spotify.com/artist/3jOstUTkEu2JkjvRdBA5Gu'}, 'href': 'https://api.spotify.com/v1/artists/3jOstUTkEu2JkjvRdBA5Gu', 'id': '3jOstUTkEu2JkjvRdBA5Gu', 'name': 'Weezer', 'type': 'artist', 'uri': 'spotify:artist:3jOstUTkEu2JkjvRdBA5Gu'}], 'disc_number': 1, 'duration_ms': 200306, 'explicit': False, 'external_ids': {'isrc': 'USIR10110358'}, 'external_urls': {'spotify': 'https://open.spotify.com/track/2MLHyLy5z5l5YRp7momlgw'}, 'href': 'https://api.spotify.com/v1/tracks/2MLHyLy5z5l5YRp7momlgw', 'id': '2MLHyLy5z5l5YRp7momlgw', 'is_local': False, 'is_playable': True, 'name': 'Island In The Sun', 'popularity': 79, 'preview_url': None, 'track_number': 4, 'type': 'track', 'uri': 'spotify:track:2MLHyLy5z5l5YRp7momlgw'}\n"
     ]
    }
   ],
   "source": [
    "print(artist_top_tracks['tracks'][0])"
   ]
  },
  {
   "cell_type": "code",
   "execution_count": 20,
   "metadata": {},
   "outputs": [
    {
     "name": "stdout",
     "output_type": "stream",
     "text": [
      "Island In The Sun\n",
      "Weezer\n",
      "https://i.scdn.co/image/ab67616d0000b2731e0dc5baaabda304b0ad1815\n"
     ]
    }
   ],
   "source": [
    "print(artist_top_tracks['tracks'][0]['name'])\n",
    "print(artist_top_tracks['tracks'][0]['album']['name'])\n",
    "print(artist_top_tracks['tracks'][0]['album']['images'][0]['url'])"
   ]
  }
 ],
 "metadata": {
  "kernelspec": {
   "display_name": "its",
   "language": "python",
   "name": "python3"
  },
  "language_info": {
   "codemirror_mode": {
    "name": "ipython",
    "version": 3
   },
   "file_extension": ".py",
   "mimetype": "text/x-python",
   "name": "python",
   "nbconvert_exporter": "python",
   "pygments_lexer": "ipython3",
   "version": "3.11.8"
  }
 },
 "nbformat": 4,
 "nbformat_minor": 2
}
