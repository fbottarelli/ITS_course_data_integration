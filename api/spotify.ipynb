{
 "cells": [
  {
   "cell_type": "markdown",
   "metadata": {},
   "source": [
    "https://developer.spotify.com/documentation/web-api/tutorials/getting-started"
   ]
  },
  {
   "cell_type": "code",
   "execution_count": 1,
   "metadata": {},
   "outputs": [],
   "source": [
    "# !pip install python-dotenv\n",
    "# !pip install spotipy"
   ]
  },
  {
   "cell_type": "markdown",
   "metadata": {},
   "source": [
    "Importiamo le librerie necessarie"
   ]
  },
  {
   "cell_type": "code",
   "execution_count": 4,
   "metadata": {},
   "outputs": [],
   "source": [
    "import spotipy\n",
    "from spotipy.oauth2 import SpotifyClientCredentials\n",
    "from dotenv import load_dotenv\n",
    "import os\n",
    "import pandas as pd\n",
    "import time\n",
    "import numpy as np\n",
    "import json"
   ]
  },
  {
   "cell_type": "markdown",
   "metadata": {},
   "source": [
    "colleghiamoci al API di Spotify"
   ]
  },
  {
   "cell_type": "code",
   "execution_count": 4,
   "metadata": {},
   "outputs": [],
   "source": [
    "load_dotenv()\n",
    "SPOTIPY_CLIENT_ID = os.getenv(\"SPOTIPY_CLIENT_ID\")\n",
    "SPOTIPY_CLIENT_SECRET = os.getenv(\"SPOTIPY_CLIENT_SECRET\")\n",
    "auth_manager = SpotifyClientCredentials(client_id=SPOTIPY_CLIENT_ID, client_secret=SPOTIPY_CLIENT_SECRET)\n",
    "sp = spotipy.Spotify(auth_manager=auth_manager)"
   ]
  },
  {
   "cell_type": "code",
   "execution_count": 5,
   "metadata": {},
   "outputs": [
    {
     "name": "stdout",
     "output_type": "stream",
     "text": [
      "{'external_urls': {'spotify': 'https://open.spotify.com/artist/6XYvaoDGE0VmRt83Jss9Sn'}, 'followers': {'href': None, 'total': 1122410}, 'genres': ['australian psych', 'double drumming', 'microtonal', 'neo-psychedelic'], 'href': 'https://api.spotify.com/v1/artists/6XYvaoDGE0VmRt83Jss9Sn', 'id': '6XYvaoDGE0VmRt83Jss9Sn', 'images': [{'height': 640, 'url': 'https://i.scdn.co/image/ab6761610000e5ebae21e90221e814c50033133a', 'width': 640}, {'height': 320, 'url': 'https://i.scdn.co/image/ab67616100005174ae21e90221e814c50033133a', 'width': 320}, {'height': 160, 'url': 'https://i.scdn.co/image/ab6761610000f178ae21e90221e814c50033133a', 'width': 160}], 'name': 'King Gizzard & The Lizard Wizard', 'popularity': 62, 'type': 'artist', 'uri': 'spotify:artist:6XYvaoDGE0VmRt83Jss9Sn'}\n"
     ]
    }
   ],
   "source": [
    "# salviamoci l'urn dell'artista\n",
    "artist_urns = ['spotify:artist:6XYvaoDGE0VmRt83Jss9Sn', 'spotify:artist:1Dt1UKLtrJIW1xxRBejjos']\n",
    "# chiediamo a Spotify di restituirci le informazioni sull'artista\n",
    "artist = sp.artist(artist_urns[0])\n",
    "print(artist)"
   ]
  },
  {
   "cell_type": "code",
   "execution_count": 6,
   "metadata": {},
   "outputs": [
    {
     "name": "stdout",
     "output_type": "stream",
     "text": [
      "{'tracks': [{'album': {'album_type': 'album', 'artists': [{'external_urls': {'spotify': 'https://open.spotify.com/artist/6XYvaoDGE0VmRt83Jss9Sn'}, 'href': 'https://api.spotify.com/v1/artists/6XYvaoDGE0VmRt83Jss9Sn', 'id': '6XYvaoDGE0VmRt83Jss9Sn', 'name': 'King Gizzard & The Lizard Wizard', 'type': 'artist', 'uri': 'spotify:artist:6XYvaoDGE0VmRt83Jss9Sn'}], 'external_urls': {'spotify': 'https://open.spotify.com/album/480wRHoZ8rOqp34KYGbD1Z'}, 'href': 'https://api.spotify.com/v1/albums/480wRHoZ8rOqp34KYGbD1Z', 'id': '480wRHoZ8rOqp34KYGbD1Z', 'images': [{'height': 640, 'url': 'https://i.scdn.co/image/ab67616d0000b2732c3b34e52b78e68fe4327ddc', 'width': 640}, {'height': 300, 'url': 'https://i.scdn.co/image/ab67616d00001e022c3b34e52b78e68fe4327ddc', 'width': 300}, {'height': 64, 'url': 'https://i.scdn.co/image/ab67616d000048512c3b34e52b78e68fe4327ddc', 'width': 64}], 'is_playable': True, 'name': 'Oddments', 'release_date': '2014-03-07', 'release_date_precision': 'day', 'total_tracks': 12, 'type': 'album', 'uri': 'spotify:album:480wRHoZ8rOqp34KYGbD1Z'}, 'artists': [{'external_urls': {'spotify': 'https://open.spotify.com/artist/6XYvaoDGE0VmRt83Jss9Sn'}, 'href': 'https://api.spotify.com/v1/artists/6XYvaoDGE0VmRt83Jss9Sn', 'id': '6XYvaoDGE0VmRt83Jss9Sn', 'name': 'King Gizzard & The Lizard Wizard', 'type': 'artist', 'uri': 'spotify:artist:6XYvaoDGE0VmRt83Jss9Sn'}], 'disc_number': 1, 'duration_ms': 276903, 'explicit': False, 'external_ids': {'isrc': 'AUDJ01401042'}, 'external_urls': {'spotify': 'https://open.spotify.com/track/5X45Y7GyAP3cuAN6bgjz2v'}, 'href': 'https://api.spotify.com/v1/tracks/5X45Y7GyAP3cuAN6bgjz2v', 'id': '5X45Y7GyAP3cuAN6bgjz2v', 'is_local': False, 'is_playable': True, 'name': 'Work This Time', 'popularity': 54, 'preview_url': 'https://p.scdn.co/mp3-preview/800b3dc87790d0cb9fe7881905e48562c1de68ab?cid=8cb5bb5cba85438da92c4aaac4b30c8c', 'track_number': 5, 'type': 'track', 'uri': 'spotify:track:5X45Y7GyAP3cuAN6bgjz2v'}, {'album': {'album_type': 'album', 'artists': [{'external_urls': {'spotify': 'https://open.spotify.com/artist/6XYvaoDGE0VmRt83Jss9Sn'}, 'href': 'https://api.spotify.com/v1/artists/6XYvaoDGE0VmRt83Jss9Sn', 'id': '6XYvaoDGE0VmRt83Jss9Sn', 'name': 'King Gizzard & The Lizard Wizard', 'type': 'artist', 'uri': 'spotify:artist:6XYvaoDGE0VmRt83Jss9Sn'}], 'external_urls': {'spotify': 'https://open.spotify.com/album/0RyezpNCj0HGTv2Mrwaat5'}, 'href': 'https://api.spotify.com/v1/albums/0RyezpNCj0HGTv2Mrwaat5', 'id': '0RyezpNCj0HGTv2Mrwaat5', 'images': [{'height': 640, 'url': 'https://i.scdn.co/image/ab67616d0000b273a229d529f40d090ecae2221e', 'width': 640}, {'height': 300, 'url': 'https://i.scdn.co/image/ab67616d00001e02a229d529f40d090ecae2221e', 'width': 300}, {'height': 64, 'url': 'https://i.scdn.co/image/ab67616d00004851a229d529f40d090ecae2221e', 'width': 64}], 'is_playable': True, 'name': 'Paper Mâché Dream Balloon', 'release_date': '2015-11-13', 'release_date_precision': 'day', 'total_tracks': 12, 'type': 'album', 'uri': 'spotify:album:0RyezpNCj0HGTv2Mrwaat5'}, 'artists': [{'external_urls': {'spotify': 'https://open.spotify.com/artist/6XYvaoDGE0VmRt83Jss9Sn'}, 'href': 'https://api.spotify.com/v1/artists/6XYvaoDGE0VmRt83Jss9Sn', 'id': '6XYvaoDGE0VmRt83Jss9Sn', 'name': 'King Gizzard & The Lizard Wizard', 'type': 'artist', 'uri': 'spotify:artist:6XYvaoDGE0VmRt83Jss9Sn'}], 'disc_number': 1, 'duration_ms': 210653, 'explicit': False, 'external_ids': {'isrc': 'USATO1500134'}, 'external_urls': {'spotify': 'https://open.spotify.com/track/2oeqKWbVwK5Ly2vjwWJKHd'}, 'href': 'https://api.spotify.com/v1/tracks/2oeqKWbVwK5Ly2vjwWJKHd', 'id': '2oeqKWbVwK5Ly2vjwWJKHd', 'is_local': False, 'is_playable': True, 'name': 'Sense', 'popularity': 50, 'preview_url': 'https://p.scdn.co/mp3-preview/2c190c0898a963cf39cf27e46a1382ebe0d0d24f?cid=8cb5bb5cba85438da92c4aaac4b30c8c', 'track_number': 1, 'type': 'track', 'uri': 'spotify:track:2oeqKWbVwK5Ly2vjwWJKHd'}, {'album': {'album_type': 'album', 'artists': [{'external_urls': {'spotify': 'https://open.spotify.com/artist/6XYvaoDGE0VmRt83Jss9Sn'}, 'href': 'https://api.spotify.com/v1/artists/6XYvaoDGE0VmRt83Jss9Sn', 'id': '6XYvaoDGE0VmRt83Jss9Sn', 'name': 'King Gizzard & The Lizard Wizard', 'type': 'artist', 'uri': 'spotify:artist:6XYvaoDGE0VmRt83Jss9Sn'}], 'external_urls': {'spotify': 'https://open.spotify.com/album/53X6xpjjMDMfZ5IWMyonvC'}, 'href': 'https://api.spotify.com/v1/albums/53X6xpjjMDMfZ5IWMyonvC', 'id': '53X6xpjjMDMfZ5IWMyonvC', 'images': [{'height': 640, 'url': 'https://i.scdn.co/image/ab67616d0000b27388f8baae8255b821ea1e1aff', 'width': 640}, {'height': 300, 'url': 'https://i.scdn.co/image/ab67616d00001e0288f8baae8255b821ea1e1aff', 'width': 300}, {'height': 64, 'url': 'https://i.scdn.co/image/ab67616d0000485188f8baae8255b821ea1e1aff', 'width': 64}], 'is_playable': True, 'name': 'PetroDragonic Apocalypse; or, Dawn of Eternal Night: An Annihilation of Planet Earth and the Beginning of Merciless Damnation', 'release_date': '2023-06-16', 'release_date_precision': 'day', 'total_tracks': 7, 'type': 'album', 'uri': 'spotify:album:53X6xpjjMDMfZ5IWMyonvC'}, 'artists': [{'external_urls': {'spotify': 'https://open.spotify.com/artist/6XYvaoDGE0VmRt83Jss9Sn'}, 'href': 'https://api.spotify.com/v1/artists/6XYvaoDGE0VmRt83Jss9Sn', 'id': '6XYvaoDGE0VmRt83Jss9Sn', 'name': 'King Gizzard & The Lizard Wizard', 'type': 'artist', 'uri': 'spotify:artist:6XYvaoDGE0VmRt83Jss9Sn'}], 'disc_number': 1, 'duration_ms': 275774, 'explicit': False, 'external_ids': {'isrc': 'AU2ZC2300172'}, 'external_urls': {'spotify': 'https://open.spotify.com/track/3M48swVS1NBX5V4SLESekp'}, 'href': 'https://api.spotify.com/v1/tracks/3M48swVS1NBX5V4SLESekp', 'id': '3M48swVS1NBX5V4SLESekp', 'is_local': False, 'is_playable': True, 'name': 'Gila Monster', 'popularity': 54, 'preview_url': None, 'track_number': 5, 'type': 'track', 'uri': 'spotify:track:3M48swVS1NBX5V4SLESekp'}, {'album': {'album_type': 'album', 'artists': [{'external_urls': {'spotify': 'https://open.spotify.com/artist/6XYvaoDGE0VmRt83Jss9Sn'}, 'href': 'https://api.spotify.com/v1/artists/6XYvaoDGE0VmRt83Jss9Sn', 'id': '6XYvaoDGE0VmRt83Jss9Sn', 'name': 'King Gizzard & The Lizard Wizard', 'type': 'artist', 'uri': 'spotify:artist:6XYvaoDGE0VmRt83Jss9Sn'}], 'external_urls': {'spotify': 'https://open.spotify.com/album/1rb4cp4F59Tk1UOPHuP3H0'}, 'href': 'https://api.spotify.com/v1/albums/1rb4cp4F59Tk1UOPHuP3H0', 'id': '1rb4cp4F59Tk1UOPHuP3H0', 'images': [{'height': 640, 'url': 'https://i.scdn.co/image/ab67616d0000b2731f631e15738459f688e78166', 'width': 640}, {'height': 300, 'url': 'https://i.scdn.co/image/ab67616d00001e021f631e15738459f688e78166', 'width': 300}, {'height': 64, 'url': 'https://i.scdn.co/image/ab67616d000048511f631e15738459f688e78166', 'width': 64}], 'is_playable': True, 'name': \"I'm In Your Mind Fuzz\", 'release_date': '2014-10-31', 'release_date_precision': 'day', 'total_tracks': 10, 'type': 'album', 'uri': 'spotify:album:1rb4cp4F59Tk1UOPHuP3H0'}, 'artists': [{'external_urls': {'spotify': 'https://open.spotify.com/artist/6XYvaoDGE0VmRt83Jss9Sn'}, 'href': 'https://api.spotify.com/v1/artists/6XYvaoDGE0VmRt83Jss9Sn', 'id': '6XYvaoDGE0VmRt83Jss9Sn', 'name': 'King Gizzard & The Lizard Wizard', 'type': 'artist', 'uri': 'spotify:artist:6XYvaoDGE0VmRt83Jss9Sn'}], 'disc_number': 1, 'duration_ms': 174563, 'explicit': False, 'external_ids': {'isrc': 'AUDJ01401129'}, 'external_urls': {'spotify': 'https://open.spotify.com/track/3jww6jMhelPsHnXO7Bar9v'}, 'href': 'https://api.spotify.com/v1/tracks/3jww6jMhelPsHnXO7Bar9v', 'id': '3jww6jMhelPsHnXO7Bar9v', 'is_local': False, 'is_playable': True, 'name': 'Slow Jam 1', 'popularity': 52, 'preview_url': None, 'track_number': 8, 'type': 'track', 'uri': 'spotify:track:3jww6jMhelPsHnXO7Bar9v'}, {'album': {'album_type': 'album', 'artists': [{'external_urls': {'spotify': 'https://open.spotify.com/artist/6XYvaoDGE0VmRt83Jss9Sn'}, 'href': 'https://api.spotify.com/v1/artists/6XYvaoDGE0VmRt83Jss9Sn', 'id': '6XYvaoDGE0VmRt83Jss9Sn', 'name': 'King Gizzard & The Lizard Wizard', 'type': 'artist', 'uri': 'spotify:artist:6XYvaoDGE0VmRt83Jss9Sn'}], 'external_urls': {'spotify': 'https://open.spotify.com/album/4tuqA7qbVsPukqsYPPrcF7'}, 'href': 'https://api.spotify.com/v1/albums/4tuqA7qbVsPukqsYPPrcF7', 'id': '4tuqA7qbVsPukqsYPPrcF7', 'images': [{'height': 640, 'url': 'https://i.scdn.co/image/ab67616d0000b27380c6db47e75d58e25b72f2ca', 'width': 640}, {'height': 300, 'url': 'https://i.scdn.co/image/ab67616d00001e0280c6db47e75d58e25b72f2ca', 'width': 300}, {'height': 64, 'url': 'https://i.scdn.co/image/ab67616d0000485180c6db47e75d58e25b72f2ca', 'width': 64}], 'is_playable': True, 'name': 'Omnium Gatherum', 'release_date': '2022-04-22', 'release_date_precision': 'day', 'total_tracks': 16, 'type': 'album', 'uri': 'spotify:album:4tuqA7qbVsPukqsYPPrcF7'}, 'artists': [{'external_urls': {'spotify': 'https://open.spotify.com/artist/6XYvaoDGE0VmRt83Jss9Sn'}, 'href': 'https://api.spotify.com/v1/artists/6XYvaoDGE0VmRt83Jss9Sn', 'id': '6XYvaoDGE0VmRt83Jss9Sn', 'name': 'King Gizzard & The Lizard Wizard', 'type': 'artist', 'uri': 'spotify:artist:6XYvaoDGE0VmRt83Jss9Sn'}], 'disc_number': 1, 'duration_ms': 192960, 'explicit': True, 'external_ids': {'isrc': 'AU2ZC2100204'}, 'external_urls': {'spotify': 'https://open.spotify.com/track/1d7amkMBfY5jwDaVYpWKUv'}, 'href': 'https://api.spotify.com/v1/tracks/1d7amkMBfY5jwDaVYpWKUv', 'id': '1d7amkMBfY5jwDaVYpWKUv', 'is_local': False, 'is_playable': True, 'name': 'Kepler-22b', 'popularity': 54, 'preview_url': None, 'track_number': 3, 'type': 'track', 'uri': 'spotify:track:1d7amkMBfY5jwDaVYpWKUv'}, {'album': {'album_type': 'album', 'artists': [{'external_urls': {'spotify': 'https://open.spotify.com/artist/6XYvaoDGE0VmRt83Jss9Sn'}, 'href': 'https://api.spotify.com/v1/artists/6XYvaoDGE0VmRt83Jss9Sn', 'id': '6XYvaoDGE0VmRt83Jss9Sn', 'name': 'King Gizzard & The Lizard Wizard', 'type': 'artist', 'uri': 'spotify:artist:6XYvaoDGE0VmRt83Jss9Sn'}], 'external_urls': {'spotify': 'https://open.spotify.com/album/2I0LPpmyvAwnXvCuBf3Pcy'}, 'href': 'https://api.spotify.com/v1/albums/2I0LPpmyvAwnXvCuBf3Pcy', 'id': '2I0LPpmyvAwnXvCuBf3Pcy', 'images': [{'height': 640, 'url': 'https://i.scdn.co/image/ab67616d0000b273f50080f094264011260c3bbb', 'width': 640}, {'height': 300, 'url': 'https://i.scdn.co/image/ab67616d00001e02f50080f094264011260c3bbb', 'width': 300}, {'height': 64, 'url': 'https://i.scdn.co/image/ab67616d00004851f50080f094264011260c3bbb', 'width': 64}], 'is_playable': True, 'name': 'Butterfly 3000', 'release_date': '2021-06-11', 'release_date_precision': 'day', 'total_tracks': 10, 'type': 'album', 'uri': 'spotify:album:2I0LPpmyvAwnXvCuBf3Pcy'}, 'artists': [{'external_urls': {'spotify': 'https://open.spotify.com/artist/6XYvaoDGE0VmRt83Jss9Sn'}, 'href': 'https://api.spotify.com/v1/artists/6XYvaoDGE0VmRt83Jss9Sn', 'id': '6XYvaoDGE0VmRt83Jss9Sn', 'name': 'King Gizzard & The Lizard Wizard', 'type': 'artist', 'uri': 'spotify:artist:6XYvaoDGE0VmRt83Jss9Sn'}], 'disc_number': 1, 'duration_ms': 240680, 'explicit': False, 'external_ids': {'isrc': 'AU2ZC2000053'}, 'external_urls': {'spotify': 'https://open.spotify.com/track/6HlWKkzNE1WP67OGqtGeBW'}, 'href': 'https://api.spotify.com/v1/tracks/6HlWKkzNE1WP67OGqtGeBW', 'id': '6HlWKkzNE1WP67OGqtGeBW', 'is_local': False, 'is_playable': True, 'name': 'Shanghai', 'popularity': 53, 'preview_url': None, 'track_number': 2, 'type': 'track', 'uri': 'spotify:track:6HlWKkzNE1WP67OGqtGeBW'}, {'album': {'album_type': 'album', 'artists': [{'external_urls': {'spotify': 'https://open.spotify.com/artist/6XYvaoDGE0VmRt83Jss9Sn'}, 'href': 'https://api.spotify.com/v1/artists/6XYvaoDGE0VmRt83Jss9Sn', 'id': '6XYvaoDGE0VmRt83Jss9Sn', 'name': 'King Gizzard & The Lizard Wizard', 'type': 'artist', 'uri': 'spotify:artist:6XYvaoDGE0VmRt83Jss9Sn'}], 'external_urls': {'spotify': 'https://open.spotify.com/album/4tuqA7qbVsPukqsYPPrcF7'}, 'href': 'https://api.spotify.com/v1/albums/4tuqA7qbVsPukqsYPPrcF7', 'id': '4tuqA7qbVsPukqsYPPrcF7', 'images': [{'height': 640, 'url': 'https://i.scdn.co/image/ab67616d0000b27380c6db47e75d58e25b72f2ca', 'width': 640}, {'height': 300, 'url': 'https://i.scdn.co/image/ab67616d00001e0280c6db47e75d58e25b72f2ca', 'width': 300}, {'height': 64, 'url': 'https://i.scdn.co/image/ab67616d0000485180c6db47e75d58e25b72f2ca', 'width': 64}], 'is_playable': True, 'name': 'Omnium Gatherum', 'release_date': '2022-04-22', 'release_date_precision': 'day', 'total_tracks': 16, 'type': 'album', 'uri': 'spotify:album:4tuqA7qbVsPukqsYPPrcF7'}, 'artists': [{'external_urls': {'spotify': 'https://open.spotify.com/artist/6XYvaoDGE0VmRt83Jss9Sn'}, 'href': 'https://api.spotify.com/v1/artists/6XYvaoDGE0VmRt83Jss9Sn', 'id': '6XYvaoDGE0VmRt83Jss9Sn', 'name': 'King Gizzard & The Lizard Wizard', 'type': 'artist', 'uri': 'spotify:artist:6XYvaoDGE0VmRt83Jss9Sn'}], 'disc_number': 1, 'duration_ms': 364599, 'explicit': False, 'external_ids': {'isrc': 'AU2ZC2100203'}, 'external_urls': {'spotify': 'https://open.spotify.com/track/23azGRczkSa6JF9JKKiBh2'}, 'href': 'https://api.spotify.com/v1/tracks/23azGRczkSa6JF9JKKiBh2', 'id': '23azGRczkSa6JF9JKKiBh2', 'is_local': False, 'is_playable': True, 'name': 'Magenta Mountain', 'popularity': 52, 'preview_url': None, 'track_number': 2, 'type': 'track', 'uri': 'spotify:track:23azGRczkSa6JF9JKKiBh2'}, {'album': {'album_type': 'album', 'artists': [{'external_urls': {'spotify': 'https://open.spotify.com/artist/6XYvaoDGE0VmRt83Jss9Sn'}, 'href': 'https://api.spotify.com/v1/artists/6XYvaoDGE0VmRt83Jss9Sn', 'id': '6XYvaoDGE0VmRt83Jss9Sn', 'name': 'King Gizzard & The Lizard Wizard', 'type': 'artist', 'uri': 'spotify:artist:6XYvaoDGE0VmRt83Jss9Sn'}], 'external_urls': {'spotify': 'https://open.spotify.com/album/53X6xpjjMDMfZ5IWMyonvC'}, 'href': 'https://api.spotify.com/v1/albums/53X6xpjjMDMfZ5IWMyonvC', 'id': '53X6xpjjMDMfZ5IWMyonvC', 'images': [{'height': 640, 'url': 'https://i.scdn.co/image/ab67616d0000b27388f8baae8255b821ea1e1aff', 'width': 640}, {'height': 300, 'url': 'https://i.scdn.co/image/ab67616d00001e0288f8baae8255b821ea1e1aff', 'width': 300}, {'height': 64, 'url': 'https://i.scdn.co/image/ab67616d0000485188f8baae8255b821ea1e1aff', 'width': 64}], 'is_playable': True, 'name': 'PetroDragonic Apocalypse; or, Dawn of Eternal Night: An Annihilation of Planet Earth and the Beginning of Merciless Damnation', 'release_date': '2023-06-16', 'release_date_precision': 'day', 'total_tracks': 7, 'type': 'album', 'uri': 'spotify:album:53X6xpjjMDMfZ5IWMyonvC'}, 'artists': [{'external_urls': {'spotify': 'https://open.spotify.com/artist/6XYvaoDGE0VmRt83Jss9Sn'}, 'href': 'https://api.spotify.com/v1/artists/6XYvaoDGE0VmRt83Jss9Sn', 'id': '6XYvaoDGE0VmRt83Jss9Sn', 'name': 'King Gizzard & The Lizard Wizard', 'type': 'artist', 'uri': 'spotify:artist:6XYvaoDGE0VmRt83Jss9Sn'}], 'disc_number': 1, 'duration_ms': 512898, 'explicit': True, 'external_ids': {'isrc': 'AU2ZC2300168'}, 'external_urls': {'spotify': 'https://open.spotify.com/track/4HAkFNSjf5edeuY839m1RD'}, 'href': 'https://api.spotify.com/v1/tracks/4HAkFNSjf5edeuY839m1RD', 'id': '4HAkFNSjf5edeuY839m1RD', 'is_local': False, 'is_playable': True, 'name': 'Motor Spirit', 'popularity': 51, 'preview_url': None, 'track_number': 1, 'type': 'track', 'uri': 'spotify:track:4HAkFNSjf5edeuY839m1RD'}, {'album': {'album_type': 'album', 'artists': [{'external_urls': {'spotify': 'https://open.spotify.com/artist/6XYvaoDGE0VmRt83Jss9Sn'}, 'href': 'https://api.spotify.com/v1/artists/6XYvaoDGE0VmRt83Jss9Sn', 'id': '6XYvaoDGE0VmRt83Jss9Sn', 'name': 'King Gizzard & The Lizard Wizard', 'type': 'artist', 'uri': 'spotify:artist:6XYvaoDGE0VmRt83Jss9Sn'}], 'external_urls': {'spotify': 'https://open.spotify.com/album/53X6xpjjMDMfZ5IWMyonvC'}, 'href': 'https://api.spotify.com/v1/albums/53X6xpjjMDMfZ5IWMyonvC', 'id': '53X6xpjjMDMfZ5IWMyonvC', 'images': [{'height': 640, 'url': 'https://i.scdn.co/image/ab67616d0000b27388f8baae8255b821ea1e1aff', 'width': 640}, {'height': 300, 'url': 'https://i.scdn.co/image/ab67616d00001e0288f8baae8255b821ea1e1aff', 'width': 300}, {'height': 64, 'url': 'https://i.scdn.co/image/ab67616d0000485188f8baae8255b821ea1e1aff', 'width': 64}], 'is_playable': True, 'name': 'PetroDragonic Apocalypse; or, Dawn of Eternal Night: An Annihilation of Planet Earth and the Beginning of Merciless Damnation', 'release_date': '2023-06-16', 'release_date_precision': 'day', 'total_tracks': 7, 'type': 'album', 'uri': 'spotify:album:53X6xpjjMDMfZ5IWMyonvC'}, 'artists': [{'external_urls': {'spotify': 'https://open.spotify.com/artist/6XYvaoDGE0VmRt83Jss9Sn'}, 'href': 'https://api.spotify.com/v1/artists/6XYvaoDGE0VmRt83Jss9Sn', 'id': '6XYvaoDGE0VmRt83Jss9Sn', 'name': 'King Gizzard & The Lizard Wizard', 'type': 'artist', 'uri': 'spotify:artist:6XYvaoDGE0VmRt83Jss9Sn'}], 'disc_number': 1, 'duration_ms': 303696, 'explicit': False, 'external_ids': {'isrc': 'AU2ZC2300171'}, 'external_urls': {'spotify': 'https://open.spotify.com/track/0mQU3EuOIqMpRg4qbXDxda'}, 'href': 'https://api.spotify.com/v1/tracks/0mQU3EuOIqMpRg4qbXDxda', 'id': '0mQU3EuOIqMpRg4qbXDxda', 'is_local': False, 'is_playable': True, 'name': 'Witchcraft', 'popularity': 51, 'preview_url': None, 'track_number': 4, 'type': 'track', 'uri': 'spotify:track:0mQU3EuOIqMpRg4qbXDxda'}, {'album': {'album_type': 'album', 'artists': [{'external_urls': {'spotify': 'https://open.spotify.com/artist/6XYvaoDGE0VmRt83Jss9Sn'}, 'href': 'https://api.spotify.com/v1/artists/6XYvaoDGE0VmRt83Jss9Sn', 'id': '6XYvaoDGE0VmRt83Jss9Sn', 'name': 'King Gizzard & The Lizard Wizard', 'type': 'artist', 'uri': 'spotify:artist:6XYvaoDGE0VmRt83Jss9Sn'}], 'external_urls': {'spotify': 'https://open.spotify.com/album/53X6xpjjMDMfZ5IWMyonvC'}, 'href': 'https://api.spotify.com/v1/albums/53X6xpjjMDMfZ5IWMyonvC', 'id': '53X6xpjjMDMfZ5IWMyonvC', 'images': [{'height': 640, 'url': 'https://i.scdn.co/image/ab67616d0000b27388f8baae8255b821ea1e1aff', 'width': 640}, {'height': 300, 'url': 'https://i.scdn.co/image/ab67616d00001e0288f8baae8255b821ea1e1aff', 'width': 300}, {'height': 64, 'url': 'https://i.scdn.co/image/ab67616d0000485188f8baae8255b821ea1e1aff', 'width': 64}], 'is_playable': True, 'name': 'PetroDragonic Apocalypse; or, Dawn of Eternal Night: An Annihilation of Planet Earth and the Beginning of Merciless Damnation', 'release_date': '2023-06-16', 'release_date_precision': 'day', 'total_tracks': 7, 'type': 'album', 'uri': 'spotify:album:53X6xpjjMDMfZ5IWMyonvC'}, 'artists': [{'external_urls': {'spotify': 'https://open.spotify.com/artist/6XYvaoDGE0VmRt83Jss9Sn'}, 'href': 'https://api.spotify.com/v1/artists/6XYvaoDGE0VmRt83Jss9Sn', 'id': '6XYvaoDGE0VmRt83Jss9Sn', 'name': 'King Gizzard & The Lizard Wizard', 'type': 'artist', 'uri': 'spotify:artist:6XYvaoDGE0VmRt83Jss9Sn'}], 'disc_number': 1, 'duration_ms': 584699, 'explicit': False, 'external_ids': {'isrc': 'AU2ZC2300173'}, 'external_urls': {'spotify': 'https://open.spotify.com/track/4A003vQ5hw24V0WajOageQ'}, 'href': 'https://api.spotify.com/v1/tracks/4A003vQ5hw24V0WajOageQ', 'id': '4A003vQ5hw24V0WajOageQ', 'is_local': False, 'is_playable': True, 'name': 'Dragon', 'popularity': 49, 'preview_url': None, 'track_number': 6, 'type': 'track', 'uri': 'spotify:track:4A003vQ5hw24V0WajOageQ'}]}\n"
     ]
    }
   ],
   "source": [
    "# chiediamo a Spotify di restituirci i top tracks dell'artista\n",
    "artist_top_tracks = sp.artist_top_tracks(artist_urns[0])\n",
    "print(artist_top_tracks)"
   ]
  },
  {
   "cell_type": "code",
   "execution_count": 7,
   "metadata": {},
   "outputs": [
    {
     "name": "stdout",
     "output_type": "stream",
     "text": [
      "<class 'dict'>\n",
      "dict_keys(['tracks'])\n",
      "<class 'list'>\n",
      "<class 'dict'>\n"
     ]
    }
   ],
   "source": [
    "# guardiamo il tipo di oggetto che ci è stato restituito\n",
    "print(type(artist_top_tracks))\n",
    "print(artist_top_tracks.keys())\n",
    "print(type(artist_top_tracks['tracks']))\n",
    "print(type(artist_top_tracks['tracks'][0]))"
   ]
  },
  {
   "cell_type": "code",
   "execution_count": null,
   "metadata": {},
   "outputs": [],
   "source": [
    "# guardiamo il contenuto di un elemento della lista\n",
    "print(artist_top_tracks['tracks'][0])"
   ]
  },
  {
   "cell_type": "code",
   "execution_count": null,
   "metadata": {},
   "outputs": [],
   "source": [
    "print(artist_top_tracks['tracks'][0]['name'])\n",
    "print(artist_top_tracks['tracks'][0]['album']['name'])\n",
    "print(artist_top_tracks['tracks'][0]['album']['images'][0]['url'])"
   ]
  },
  {
   "cell_type": "markdown",
   "metadata": {},
   "source": [
    "### Album"
   ]
  },
  {
   "cell_type": "code",
   "execution_count": 8,
   "metadata": {},
   "outputs": [
    {
     "name": "stdout",
     "output_type": "stream",
     "text": [
      "dict_keys(['href', 'items', 'limit', 'next', 'offset', 'previous', 'total'])\n",
      "<class 'list'>\n",
      "5\n",
      "{'album_group': 'album', 'album_type': 'album', 'artists': [{'external_urls': {'spotify': 'https://open.spotify.com/artist/6XYvaoDGE0VmRt83Jss9Sn'}, 'href': 'https://api.spotify.com/v1/artists/6XYvaoDGE0VmRt83Jss9Sn', 'id': '6XYvaoDGE0VmRt83Jss9Sn', 'name': 'King Gizzard & The Lizard Wizard', 'type': 'artist', 'uri': 'spotify:artist:6XYvaoDGE0VmRt83Jss9Sn'}], 'available_markets': ['AR', 'AU', 'AT', 'BE', 'BO', 'BR', 'BG', 'CA', 'CL', 'CO', 'CR', 'CY', 'CZ', 'DK', 'DO', 'DE', 'EC', 'EE', 'SV', 'FI', 'FR', 'GR', 'GT', 'HN', 'HK', 'HU', 'IS', 'IE', 'IT', 'LV', 'LT', 'LU', 'MY', 'MT', 'MX', 'NL', 'NZ', 'NI', 'NO', 'PA', 'PY', 'PE', 'PH', 'PL', 'PT', 'SG', 'SK', 'ES', 'SE', 'CH', 'TW', 'TR', 'UY', 'US', 'GB', 'AD', 'LI', 'MC', 'ID', 'JP', 'TH', 'VN', 'RO', 'IL', 'ZA', 'SA', 'AE', 'BH', 'QA', 'OM', 'KW', 'EG', 'MA', 'DZ', 'TN', 'LB', 'JO', 'PS', 'IN', 'KZ', 'MD', 'UA', 'AL', 'BA', 'HR', 'ME', 'MK', 'RS', 'SI', 'KR', 'BD', 'PK', 'LK', 'GH', 'KE', 'NG', 'TZ', 'UG', 'AG', 'AM', 'BS', 'BB', 'BZ', 'BT', 'BW', 'BF', 'CV', 'CW', 'DM', 'FJ', 'GM', 'GE', 'GD', 'GW', 'GY', 'HT', 'JM', 'KI', 'LS', 'LR', 'MW', 'MV', 'ML', 'MH', 'FM', 'NA', 'NR', 'NE', 'PW', 'PG', 'WS', 'SM', 'ST', 'SN', 'SC', 'SL', 'SB', 'KN', 'LC', 'VC', 'SR', 'TL', 'TO', 'TT', 'TV', 'VU', 'AZ', 'BN', 'BI', 'KH', 'CM', 'TD', 'KM', 'GQ', 'SZ', 'GA', 'GN', 'KG', 'LA', 'MO', 'MR', 'MN', 'NP', 'RW', 'TG', 'UZ', 'ZW', 'BJ', 'MG', 'MU', 'MZ', 'AO', 'CI', 'DJ', 'ZM', 'CD', 'CG', 'IQ', 'LY', 'TJ', 'VE', 'ET', 'XK'], 'external_urls': {'spotify': 'https://open.spotify.com/album/7iY6PA1ftgY8OKOzc2vBdo'}, 'href': 'https://api.spotify.com/v1/albums/7iY6PA1ftgY8OKOzc2vBdo', 'id': '7iY6PA1ftgY8OKOzc2vBdo', 'images': [{'height': 640, 'url': 'https://i.scdn.co/image/ab67616d0000b273f40b4ff95579cd43a6b60db6', 'width': 640}, {'height': 300, 'url': 'https://i.scdn.co/image/ab67616d00001e02f40b4ff95579cd43a6b60db6', 'width': 300}, {'height': 64, 'url': 'https://i.scdn.co/image/ab67616d00004851f40b4ff95579cd43a6b60db6', 'width': 64}], 'name': 'The Silver Cord', 'release_date': '2023-10-27', 'release_date_precision': 'day', 'total_tracks': 14, 'type': 'album', 'uri': 'spotify:album:7iY6PA1ftgY8OKOzc2vBdo'}\n",
      "dict_keys(['album_group', 'album_type', 'artists', 'available_markets', 'external_urls', 'href', 'id', 'images', 'name', 'release_date', 'release_date_precision', 'total_tracks', 'type', 'uri'])\n"
     ]
    }
   ],
   "source": [
    "artist_albums = sp.artist_albums(artist_urns[0], album_type='album', limit=5, offset=0)\n",
    "print(artist_albums.keys())\n",
    "print(type(artist_albums[\"items\"]))\n",
    "print(len(artist_albums[\"items\"]))\n",
    "\n",
    "print(artist_albums[\"items\"][0])\n",
    "print(artist_albums[\"items\"][0].keys())\n"
   ]
  },
  {
   "cell_type": "code",
   "execution_count": 9,
   "metadata": {},
   "outputs": [
    {
     "data": {
      "text/html": [
       "<div>\n",
       "<style scoped>\n",
       "    .dataframe tbody tr th:only-of-type {\n",
       "        vertical-align: middle;\n",
       "    }\n",
       "\n",
       "    .dataframe tbody tr th {\n",
       "        vertical-align: top;\n",
       "    }\n",
       "\n",
       "    .dataframe thead th {\n",
       "        text-align: right;\n",
       "    }\n",
       "</style>\n",
       "<table border=\"1\" class=\"dataframe\">\n",
       "  <thead>\n",
       "    <tr style=\"text-align: right;\">\n",
       "      <th></th>\n",
       "      <th>album</th>\n",
       "      <th>uri</th>\n",
       "    </tr>\n",
       "  </thead>\n",
       "  <tbody>\n",
       "    <tr>\n",
       "      <th>0</th>\n",
       "      <td>The Silver Cord</td>\n",
       "      <td>spotify:album:7iY6PA1ftgY8OKOzc2vBdo</td>\n",
       "    </tr>\n",
       "    <tr>\n",
       "      <th>1</th>\n",
       "      <td>PetroDragonic Apocalypse; or, Dawn of Eternal ...</td>\n",
       "      <td>spotify:album:53X6xpjjMDMfZ5IWMyonvC</td>\n",
       "    </tr>\n",
       "    <tr>\n",
       "      <th>2</th>\n",
       "      <td>Changes</td>\n",
       "      <td>spotify:album:05ag5ukffFozEnXGOeuTTD</td>\n",
       "    </tr>\n",
       "    <tr>\n",
       "      <th>3</th>\n",
       "      <td>Laminated Denim</td>\n",
       "      <td>spotify:album:5f0IPVaiRNK0knLx8UbqIq</td>\n",
       "    </tr>\n",
       "    <tr>\n",
       "      <th>4</th>\n",
       "      <td>Ice, Death, Planets, Lungs, Mushrooms And Lava</td>\n",
       "      <td>spotify:album:2nPbslvl01lfELsFHTKp0s</td>\n",
       "    </tr>\n",
       "  </tbody>\n",
       "</table>\n",
       "</div>"
      ],
      "text/plain": [
       "                                               album  \\\n",
       "0                                    The Silver Cord   \n",
       "1  PetroDragonic Apocalypse; or, Dawn of Eternal ...   \n",
       "2                                            Changes   \n",
       "3                                    Laminated Denim   \n",
       "4     Ice, Death, Planets, Lungs, Mushrooms And Lava   \n",
       "\n",
       "                                    uri  \n",
       "0  spotify:album:7iY6PA1ftgY8OKOzc2vBdo  \n",
       "1  spotify:album:53X6xpjjMDMfZ5IWMyonvC  \n",
       "2  spotify:album:05ag5ukffFozEnXGOeuTTD  \n",
       "3  spotify:album:5f0IPVaiRNK0knLx8UbqIq  \n",
       "4  spotify:album:2nPbslvl01lfELsFHTKp0s  "
      ]
     },
     "execution_count": 9,
     "metadata": {},
     "output_type": "execute_result"
    }
   ],
   "source": [
    "artist_album_names = []\n",
    "artist_album_uris = []\n",
    "for j in range(len(artist_albums['items'])):\n",
    "    artist_album_names.append(artist_albums['items'][j]['name'])\n",
    "    artist_album_uris.append(artist_albums['items'][j]['uri'])\n",
    "\n",
    "# pandas df\n",
    "df = pd.DataFrame({'album': artist_album_names, 'uri': artist_album_uris})\n",
    "df"
   ]
  },
  {
   "cell_type": "markdown",
   "metadata": {},
   "source": [
    "# Costruiamo un dataset\n",
    "Guardiamo gli album di un artista"
   ]
  },
  {
   "cell_type": "code",
   "execution_count": 18,
   "metadata": {},
   "outputs": [
    {
     "name": "stdout",
     "output_type": "stream",
     "text": [
      "dict_keys(['album_group', 'album_type', 'artists', 'available_markets', 'external_urls', 'href', 'id', 'images', 'name', 'release_date', 'release_date_precision', 'total_tracks', 'type', 'uri'])\n",
      "King Gizzard & The Lizard Wizard\n"
     ]
    }
   ],
   "source": [
    "print(artist_albums[\"items\"][0].keys())\n",
    "artist_name = artist_albums['items'][0]['artists'][0]['name']\n",
    "artist_name = sp.artist(artist_urns[0])['name']\n",
    "print(artist_name)"
   ]
  },
  {
   "cell_type": "code",
   "execution_count": 37,
   "metadata": {},
   "outputs": [
    {
     "name": "stdout",
     "output_type": "stream",
     "text": [
      "{'King Gizzard & The Lizard Wizard': {'The Silver Cord': {'release_date': '2023-10-27', 'tracks': [], 'album_uri': 'spotify:album:7iY6PA1ftgY8OKOzc2vBdo'}, 'PetroDragonic Apocalypse; or, Dawn of Eternal Night: An Annihilation of Planet Earth and the Beginning of Merciless Damnation': {'release_date': '2023-06-16', 'tracks': [], 'album_uri': 'spotify:album:53X6xpjjMDMfZ5IWMyonvC'}, 'Changes': {'release_date': '2022-10-28', 'tracks': [], 'album_uri': 'spotify:album:05ag5ukffFozEnXGOeuTTD'}, 'Laminated Denim': {'release_date': '2022-10-12', 'tracks': [], 'album_uri': 'spotify:album:5f0IPVaiRNK0knLx8UbqIq'}, 'Ice, Death, Planets, Lungs, Mushrooms And Lava': {'release_date': '2022-10-07', 'tracks': [], 'album_uri': 'spotify:album:2nPbslvl01lfELsFHTKp0s'}}, 'The Blaze': {'JUNGLE (Sleep Soundscape)': {'release_date': '2024-03-15', 'tracks': [], 'album_uri': 'spotify:album:6bftlC891QGktX5ZlqV7UJ'}, 'JUNGLE (Wind Down Soundscape)': {'release_date': '2024-03-01', 'tracks': [], 'album_uri': 'spotify:album:14QoB2rGPpyRvAjXol4tdk'}, 'JUNGLE': {'release_date': '2023-03-10', 'tracks': [], 'album_uri': 'spotify:album:409STQlcajDkM1vdhM4Qxo'}, 'DANCEHALL': {'release_date': '2018-09-07', 'tracks': [], 'album_uri': 'spotify:album:6WbMZYQ1SAU8HrgZSuH0xJ'}}}\n"
     ]
    }
   ],
   "source": [
    "artist_urns = ['spotify:artist:6XYvaoDGE0VmRt83Jss9Sn', 'spotify:artist:1Dt1UKLtrJIW1xxRBejjos']\n",
    "music_dataset = {}\n",
    "for artist_urn in artist_urns:\n",
    "    artist_name = sp.artist(artist_urn)['name']\n",
    "    artist_albums = sp.artist_albums(artist_urn, album_type='album', limit=5, offset=0)\n",
    "    music_dataset[artist_name] = {}\n",
    "    for album in range(len(artist_albums['items'])):\n",
    "        album_name = artist_albums['items'][album]['name']\n",
    "        music_dataset[artist_name][album_name] = {'release_date': artist_albums['items'][album]['release_date'],\n",
    "                                                  'tracks': [], \n",
    "                                                  'album_uri': artist_albums['items'][album]['uri']}\n",
    "print(music_dataset)"
   ]
  },
  {
   "cell_type": "markdown",
   "metadata": {},
   "source": [
    "### Extract all the songs from every album\n",
    "Next would be to loop through each album to extract key album track data."
   ]
  },
  {
   "cell_type": "code",
   "execution_count": 24,
   "metadata": {},
   "outputs": [
    {
     "name": "stdout",
     "output_type": "stream",
     "text": [
      "dict_keys(['href', 'items', 'limit', 'next', 'offset', 'previous', 'total'])\n"
     ]
    }
   ],
   "source": [
    "album_tracks = sp.album_tracks(artist_album_uris[0], limit=25, offset=0)\n",
    "print(album_tracks.keys())"
   ]
  },
  {
   "cell_type": "code",
   "execution_count": 25,
   "metadata": {},
   "outputs": [
    {
     "name": "stdout",
     "output_type": "stream",
     "text": [
      "dict_keys(['artists', 'available_markets', 'disc_number', 'duration_ms', 'explicit', 'external_urls', 'href', 'id', 'is_local', 'name', 'preview_url', 'track_number', 'type', 'uri'])\n"
     ]
    }
   ],
   "source": [
    "print(album_tracks['items'][0].keys())\n",
    "print(album_tracks['items'][0]['name'])"
   ]
  },
  {
   "cell_type": "code",
   "execution_count": 30,
   "metadata": {},
   "outputs": [
    {
     "name": "stdout",
     "output_type": "stream",
     "text": [
      "DREAMER, Pt. 1 - Sleep Soundscape\n",
      "DREAMER, Pt. 1 - Sleep Soundscape\n",
      "DREAMER, Pt. 2 - Sleep Soundscape\n",
      "DREAMER, Pt. 3 - Sleep Soundscape\n",
      "DREAMER, Pt. 4 - Sleep Soundscape\n",
      "LULLABY, Pt. 1 - Sleep Soundscape\n",
      "LULLABY, Pt. 2 - Sleep Soundscape\n",
      "LULLABY, Pt. 3 - Sleep Soundscape\n",
      "LULLABY, Pt. 4 - Sleep Soundscape\n",
      "BLOOM, Pt. 1 - Sleep Soundscape\n",
      "BLOOM, Pt. 2 - Sleep Soundscape\n",
      "BLOOM, Pt. 3 - Sleep Soundscape\n",
      "BLOOM, Pt. 4 - Sleep Soundscape\n",
      "DUST, Pt. 1 - Sleep Soundscape\n",
      "DUST, Pt. 2 - Sleep Soundscape\n",
      "DUST, Pt. 3 - Sleep Soundscape\n",
      "DUST, Pt. 4 - Sleep Soundscape\n",
      "White Noise, Pt. 1 - Sleep Soundscape\n",
      "White Noise, Pt. 2 - Sleep Soundscape\n",
      "White Noise, Pt. 3 - Sleep Soundscape\n",
      "White Noise, Pt. 4 - Sleep Soundscape\n"
     ]
    }
   ],
   "source": [
    "for song in range(len(album_tracks['items'])):\n",
    "    print(album_tracks['items'][song]['name'])"
   ]
  },
  {
   "cell_type": "code",
   "execution_count": 32,
   "metadata": {},
   "outputs": [
    {
     "name": "stdout",
     "output_type": "stream",
     "text": [
      "['King Gizzard & The Lizard Wizard', 'The Blaze']\n"
     ]
    }
   ],
   "source": [
    "artist_list = list(music_dataset)\n",
    "print(artist_list)"
   ]
  },
  {
   "cell_type": "code",
   "execution_count": 40,
   "metadata": {},
   "outputs": [],
   "source": [
    "for artist in list(music_dataset):\n",
    "    for album in list(music_dataset[artist]):\n",
    "        album_uri = music_dataset[artist][album]['album_uri']\n",
    "        album_tracks = sp.album_tracks(album_uri, limit=25, offset=0)\n",
    "        for song in range(len(album_tracks['items'])):\n",
    "            music_dataset[artist][album]['tracks'].append({'track_name': album_tracks['items'][song]['name'],\n",
    "                                                            'track_uri': album_tracks['items'][song]['uri'],\n",
    "                                                            'track_duration': album_tracks['items'][song]['duration_ms'],\n",
    "                                                            'track_number': album_tracks['items'][song]['track_number']})"
   ]
  },
  {
   "cell_type": "code",
   "execution_count": 44,
   "metadata": {},
   "outputs": [
    {
     "name": "stdout",
     "output_type": "stream",
     "text": [
      "{'release_date': '2022-10-28', 'tracks': [{'track_name': 'Change', 'track_uri': 'spotify:track:21NZOJOaFxeYEcKQbgDgtW'}, {'track_name': \"Hate Dancin'\", 'track_uri': 'spotify:track:6SYxCsqjVaOhEOIuKTfnJ0'}, {'track_name': 'Astroturf', 'track_uri': 'spotify:track:5LjGOJDlKw1XyX9s0P8eFh'}, {'track_name': 'No Body', 'track_uri': 'spotify:track:2bNqs5SLWjOtwcohKAdlgJ'}, {'track_name': 'Gondii', 'track_uri': 'spotify:track:6P7FJBspEtLcqjzltUv74y'}, {'track_name': 'Exploding Suns', 'track_uri': 'spotify:track:7sdo2iJSHNrNpGdilhH7K3'}, {'track_name': 'Short Change', 'track_uri': 'spotify:track:5vDcTltnch1yMXds0BT9dR'}, {'track_name': 'Change', 'track_uri': 'spotify:track:21NZOJOaFxeYEcKQbgDgtW', 'track_duration': 783390, 'track_number': 1}, {'track_name': \"Hate Dancin'\", 'track_uri': 'spotify:track:6SYxCsqjVaOhEOIuKTfnJ0', 'track_duration': 196348, 'track_number': 2}, {'track_name': 'Astroturf', 'track_uri': 'spotify:track:5LjGOJDlKw1XyX9s0P8eFh', 'track_duration': 453452, 'track_number': 3}, {'track_name': 'No Body', 'track_uri': 'spotify:track:2bNqs5SLWjOtwcohKAdlgJ', 'track_duration': 222034, 'track_number': 4}, {'track_name': 'Gondii', 'track_uri': 'spotify:track:6P7FJBspEtLcqjzltUv74y', 'track_duration': 296980, 'track_number': 5}, {'track_name': 'Exploding Suns', 'track_uri': 'spotify:track:7sdo2iJSHNrNpGdilhH7K3', 'track_duration': 280575, 'track_number': 6}, {'track_name': 'Short Change', 'track_uri': 'spotify:track:5vDcTltnch1yMXds0BT9dR', 'track_duration': 170239, 'track_number': 7}], 'album_uri': 'spotify:album:05ag5ukffFozEnXGOeuTTD'}\n"
     ]
    }
   ],
   "source": [
    "print(music_dataset[\"King Gizzard & The Lizard Wizard\"][\"Changes\"])"
   ]
  },
  {
   "cell_type": "markdown",
   "metadata": {},
   "source": [
    "Ora aggiugiamo alle canzoni le caratteristiche sonore"
   ]
  },
  {
   "cell_type": "code",
   "execution_count": 50,
   "metadata": {},
   "outputs": [],
   "source": [
    "track_list = [] \n",
    "for track in music_dataset[\"The Blaze\"][\"JUNGLE\"][\"tracks\"]:\n",
    "    track_list.append(track['track_uri'])\n"
   ]
  },
  {
   "cell_type": "code",
   "execution_count": 51,
   "metadata": {},
   "outputs": [
    {
     "data": {
      "text/plain": [
       "[{'danceability': 0.574,\n",
       "  'energy': 0.594,\n",
       "  'key': 0,\n",
       "  'loudness': -9.301,\n",
       "  'mode': 1,\n",
       "  'speechiness': 0.0305,\n",
       "  'acousticness': 0.0157,\n",
       "  'instrumentalness': 0.675,\n",
       "  'liveness': 0.0702,\n",
       "  'valence': 0.175,\n",
       "  'tempo': 105.005,\n",
       "  'type': 'audio_features',\n",
       "  'id': '2o002vjoIgeX0Ho2aCWR1N',\n",
       "  'uri': 'spotify:track:2o002vjoIgeX0Ho2aCWR1N',\n",
       "  'track_href': 'https://api.spotify.com/v1/tracks/2o002vjoIgeX0Ho2aCWR1N',\n",
       "  'analysis_url': 'https://api.spotify.com/v1/audio-analysis/2o002vjoIgeX0Ho2aCWR1N',\n",
       "  'duration_ms': 279653,\n",
       "  'time_signature': 4},\n",
       " {'danceability': 0.53,\n",
       "  'energy': 0.682,\n",
       "  'key': 0,\n",
       "  'loudness': -10.55,\n",
       "  'mode': 1,\n",
       "  'speechiness': 0.0546,\n",
       "  'acousticness': 0.00279,\n",
       "  'instrumentalness': 0.138,\n",
       "  'liveness': 0.0702,\n",
       "  'valence': 0.155,\n",
       "  'tempo': 120.017,\n",
       "  'type': 'audio_features',\n",
       "  'id': '40adjjHvwrEs3WoFHvHE3h',\n",
       "  'uri': 'spotify:track:40adjjHvwrEs3WoFHvHE3h',\n",
       "  'track_href': 'https://api.spotify.com/v1/tracks/40adjjHvwrEs3WoFHvHE3h',\n",
       "  'analysis_url': 'https://api.spotify.com/v1/audio-analysis/40adjjHvwrEs3WoFHvHE3h',\n",
       "  'duration_ms': 253267,\n",
       "  'time_signature': 4},\n",
       " {'danceability': 0.67,\n",
       "  'energy': 0.518,\n",
       "  'key': 9,\n",
       "  'loudness': -10.82,\n",
       "  'mode': 0,\n",
       "  'speechiness': 0.106,\n",
       "  'acousticness': 0.507,\n",
       "  'instrumentalness': 0.027,\n",
       "  'liveness': 0.0971,\n",
       "  'valence': 0.239,\n",
       "  'tempo': 122.953,\n",
       "  'type': 'audio_features',\n",
       "  'id': '4lTC96tH07iLNHCmuFn3rS',\n",
       "  'uri': 'spotify:track:4lTC96tH07iLNHCmuFn3rS',\n",
       "  'track_href': 'https://api.spotify.com/v1/tracks/4lTC96tH07iLNHCmuFn3rS',\n",
       "  'analysis_url': 'https://api.spotify.com/v1/audio-analysis/4lTC96tH07iLNHCmuFn3rS',\n",
       "  'duration_ms': 339453,\n",
       "  'time_signature': 4},\n",
       " {'danceability': 0.595,\n",
       "  'energy': 0.718,\n",
       "  'key': 10,\n",
       "  'loudness': -10.033,\n",
       "  'mode': 0,\n",
       "  'speechiness': 0.043,\n",
       "  'acousticness': 0.00286,\n",
       "  'instrumentalness': 0.664,\n",
       "  'liveness': 0.0827,\n",
       "  'valence': 0.198,\n",
       "  'tempo': 116.006,\n",
       "  'type': 'audio_features',\n",
       "  'id': '7Eg6WudP6Qp7JzqldA2ZTH',\n",
       "  'uri': 'spotify:track:7Eg6WudP6Qp7JzqldA2ZTH',\n",
       "  'track_href': 'https://api.spotify.com/v1/tracks/7Eg6WudP6Qp7JzqldA2ZTH',\n",
       "  'analysis_url': 'https://api.spotify.com/v1/audio-analysis/7Eg6WudP6Qp7JzqldA2ZTH',\n",
       "  'duration_ms': 249160,\n",
       "  'time_signature': 4},\n",
       " {'danceability': 0.571,\n",
       "  'energy': 0.497,\n",
       "  'key': 7,\n",
       "  'loudness': -10.969,\n",
       "  'mode': 1,\n",
       "  'speechiness': 0.0303,\n",
       "  'acousticness': 0.0248,\n",
       "  'instrumentalness': 0.93,\n",
       "  'liveness': 0.115,\n",
       "  'valence': 0.131,\n",
       "  'tempo': 119.996,\n",
       "  'type': 'audio_features',\n",
       "  'id': '7JFj5qHgeTfsKdtQYUYI7B',\n",
       "  'uri': 'spotify:track:7JFj5qHgeTfsKdtQYUYI7B',\n",
       "  'track_href': 'https://api.spotify.com/v1/tracks/7JFj5qHgeTfsKdtQYUYI7B',\n",
       "  'analysis_url': 'https://api.spotify.com/v1/audio-analysis/7JFj5qHgeTfsKdtQYUYI7B',\n",
       "  'duration_ms': 289293,\n",
       "  'time_signature': 4},\n",
       " {'danceability': 0.682,\n",
       "  'energy': 0.588,\n",
       "  'key': 6,\n",
       "  'loudness': -9.711,\n",
       "  'mode': 1,\n",
       "  'speechiness': 0.0396,\n",
       "  'acousticness': 0.00969,\n",
       "  'instrumentalness': 0.709,\n",
       "  'liveness': 0.131,\n",
       "  'valence': 0.183,\n",
       "  'tempo': 120.0,\n",
       "  'type': 'audio_features',\n",
       "  'id': '7r9DWgmElZrjI0G8erYKRr',\n",
       "  'uri': 'spotify:track:7r9DWgmElZrjI0G8erYKRr',\n",
       "  'track_href': 'https://api.spotify.com/v1/tracks/7r9DWgmElZrjI0G8erYKRr',\n",
       "  'analysis_url': 'https://api.spotify.com/v1/audio-analysis/7r9DWgmElZrjI0G8erYKRr',\n",
       "  'duration_ms': 265213,\n",
       "  'time_signature': 4},\n",
       " {'danceability': 0.624,\n",
       "  'energy': 0.703,\n",
       "  'key': 11,\n",
       "  'loudness': -8.669,\n",
       "  'mode': 1,\n",
       "  'speechiness': 0.0413,\n",
       "  'acousticness': 0.11,\n",
       "  'instrumentalness': 0.905,\n",
       "  'liveness': 0.0763,\n",
       "  'valence': 0.607,\n",
       "  'tempo': 125.013,\n",
       "  'type': 'audio_features',\n",
       "  'id': '0gO8TgirnX5bONMONpaLsF',\n",
       "  'uri': 'spotify:track:0gO8TgirnX5bONMONpaLsF',\n",
       "  'track_href': 'https://api.spotify.com/v1/tracks/0gO8TgirnX5bONMONpaLsF',\n",
       "  'analysis_url': 'https://api.spotify.com/v1/audio-analysis/0gO8TgirnX5bONMONpaLsF',\n",
       "  'duration_ms': 282093,\n",
       "  'time_signature': 4},\n",
       " {'danceability': 0.565,\n",
       "  'energy': 0.532,\n",
       "  'key': 0,\n",
       "  'loudness': -10.445,\n",
       "  'mode': 1,\n",
       "  'speechiness': 0.0339,\n",
       "  'acousticness': 0.0819,\n",
       "  'instrumentalness': 0.818,\n",
       "  'liveness': 0.128,\n",
       "  'valence': 0.198,\n",
       "  'tempo': 120.026,\n",
       "  'type': 'audio_features',\n",
       "  'id': '1tdLHkejJyiMiLjSxLFPcQ',\n",
       "  'uri': 'spotify:track:1tdLHkejJyiMiLjSxLFPcQ',\n",
       "  'track_href': 'https://api.spotify.com/v1/tracks/1tdLHkejJyiMiLjSxLFPcQ',\n",
       "  'analysis_url': 'https://api.spotify.com/v1/audio-analysis/1tdLHkejJyiMiLjSxLFPcQ',\n",
       "  'duration_ms': 197387,\n",
       "  'time_signature': 4},\n",
       " {'danceability': 0.579,\n",
       "  'energy': 0.431,\n",
       "  'key': 0,\n",
       "  'loudness': -10.843,\n",
       "  'mode': 1,\n",
       "  'speechiness': 0.194,\n",
       "  'acousticness': 0.209,\n",
       "  'instrumentalness': 0.00186,\n",
       "  'liveness': 0.12,\n",
       "  'valence': 0.11,\n",
       "  'tempo': 119.958,\n",
       "  'type': 'audio_features',\n",
       "  'id': '0VWfG35i4baw8AbN9hvYpS',\n",
       "  'uri': 'spotify:track:0VWfG35i4baw8AbN9hvYpS',\n",
       "  'track_href': 'https://api.spotify.com/v1/tracks/0VWfG35i4baw8AbN9hvYpS',\n",
       "  'analysis_url': 'https://api.spotify.com/v1/audio-analysis/0VWfG35i4baw8AbN9hvYpS',\n",
       "  'duration_ms': 212853,\n",
       "  'time_signature': 4},\n",
       " {'danceability': 0.394,\n",
       "  'energy': 0.414,\n",
       "  'key': 4,\n",
       "  'loudness': -11.082,\n",
       "  'mode': 0,\n",
       "  'speechiness': 0.0415,\n",
       "  'acousticness': 0.129,\n",
       "  'instrumentalness': 0.817,\n",
       "  'liveness': 0.193,\n",
       "  'valence': 0.036,\n",
       "  'tempo': 120.003,\n",
       "  'type': 'audio_features',\n",
       "  'id': '0LB75aAKEH0z5gmtwkoe3X',\n",
       "  'uri': 'spotify:track:0LB75aAKEH0z5gmtwkoe3X',\n",
       "  'track_href': 'https://api.spotify.com/v1/tracks/0LB75aAKEH0z5gmtwkoe3X',\n",
       "  'analysis_url': 'https://api.spotify.com/v1/audio-analysis/0LB75aAKEH0z5gmtwkoe3X',\n",
       "  'duration_ms': 324347,\n",
       "  'time_signature': 4},\n",
       " {'danceability': 0.574,\n",
       "  'energy': 0.594,\n",
       "  'key': 0,\n",
       "  'loudness': -9.301,\n",
       "  'mode': 1,\n",
       "  'speechiness': 0.0305,\n",
       "  'acousticness': 0.0157,\n",
       "  'instrumentalness': 0.675,\n",
       "  'liveness': 0.0702,\n",
       "  'valence': 0.175,\n",
       "  'tempo': 105.005,\n",
       "  'type': 'audio_features',\n",
       "  'id': '2o002vjoIgeX0Ho2aCWR1N',\n",
       "  'uri': 'spotify:track:2o002vjoIgeX0Ho2aCWR1N',\n",
       "  'track_href': 'https://api.spotify.com/v1/tracks/2o002vjoIgeX0Ho2aCWR1N',\n",
       "  'analysis_url': 'https://api.spotify.com/v1/audio-analysis/2o002vjoIgeX0Ho2aCWR1N',\n",
       "  'duration_ms': 279653,\n",
       "  'time_signature': 4},\n",
       " {'danceability': 0.53,\n",
       "  'energy': 0.682,\n",
       "  'key': 0,\n",
       "  'loudness': -10.55,\n",
       "  'mode': 1,\n",
       "  'speechiness': 0.0546,\n",
       "  'acousticness': 0.00279,\n",
       "  'instrumentalness': 0.138,\n",
       "  'liveness': 0.0702,\n",
       "  'valence': 0.155,\n",
       "  'tempo': 120.017,\n",
       "  'type': 'audio_features',\n",
       "  'id': '40adjjHvwrEs3WoFHvHE3h',\n",
       "  'uri': 'spotify:track:40adjjHvwrEs3WoFHvHE3h',\n",
       "  'track_href': 'https://api.spotify.com/v1/tracks/40adjjHvwrEs3WoFHvHE3h',\n",
       "  'analysis_url': 'https://api.spotify.com/v1/audio-analysis/40adjjHvwrEs3WoFHvHE3h',\n",
       "  'duration_ms': 253267,\n",
       "  'time_signature': 4},\n",
       " {'danceability': 0.67,\n",
       "  'energy': 0.518,\n",
       "  'key': 9,\n",
       "  'loudness': -10.82,\n",
       "  'mode': 0,\n",
       "  'speechiness': 0.106,\n",
       "  'acousticness': 0.507,\n",
       "  'instrumentalness': 0.027,\n",
       "  'liveness': 0.0971,\n",
       "  'valence': 0.239,\n",
       "  'tempo': 122.953,\n",
       "  'type': 'audio_features',\n",
       "  'id': '4lTC96tH07iLNHCmuFn3rS',\n",
       "  'uri': 'spotify:track:4lTC96tH07iLNHCmuFn3rS',\n",
       "  'track_href': 'https://api.spotify.com/v1/tracks/4lTC96tH07iLNHCmuFn3rS',\n",
       "  'analysis_url': 'https://api.spotify.com/v1/audio-analysis/4lTC96tH07iLNHCmuFn3rS',\n",
       "  'duration_ms': 339453,\n",
       "  'time_signature': 4},\n",
       " {'danceability': 0.595,\n",
       "  'energy': 0.718,\n",
       "  'key': 10,\n",
       "  'loudness': -10.033,\n",
       "  'mode': 0,\n",
       "  'speechiness': 0.043,\n",
       "  'acousticness': 0.00286,\n",
       "  'instrumentalness': 0.664,\n",
       "  'liveness': 0.0827,\n",
       "  'valence': 0.198,\n",
       "  'tempo': 116.006,\n",
       "  'type': 'audio_features',\n",
       "  'id': '7Eg6WudP6Qp7JzqldA2ZTH',\n",
       "  'uri': 'spotify:track:7Eg6WudP6Qp7JzqldA2ZTH',\n",
       "  'track_href': 'https://api.spotify.com/v1/tracks/7Eg6WudP6Qp7JzqldA2ZTH',\n",
       "  'analysis_url': 'https://api.spotify.com/v1/audio-analysis/7Eg6WudP6Qp7JzqldA2ZTH',\n",
       "  'duration_ms': 249160,\n",
       "  'time_signature': 4},\n",
       " {'danceability': 0.571,\n",
       "  'energy': 0.497,\n",
       "  'key': 7,\n",
       "  'loudness': -10.969,\n",
       "  'mode': 1,\n",
       "  'speechiness': 0.0303,\n",
       "  'acousticness': 0.0248,\n",
       "  'instrumentalness': 0.93,\n",
       "  'liveness': 0.115,\n",
       "  'valence': 0.131,\n",
       "  'tempo': 119.996,\n",
       "  'type': 'audio_features',\n",
       "  'id': '7JFj5qHgeTfsKdtQYUYI7B',\n",
       "  'uri': 'spotify:track:7JFj5qHgeTfsKdtQYUYI7B',\n",
       "  'track_href': 'https://api.spotify.com/v1/tracks/7JFj5qHgeTfsKdtQYUYI7B',\n",
       "  'analysis_url': 'https://api.spotify.com/v1/audio-analysis/7JFj5qHgeTfsKdtQYUYI7B',\n",
       "  'duration_ms': 289293,\n",
       "  'time_signature': 4},\n",
       " {'danceability': 0.682,\n",
       "  'energy': 0.588,\n",
       "  'key': 6,\n",
       "  'loudness': -9.711,\n",
       "  'mode': 1,\n",
       "  'speechiness': 0.0396,\n",
       "  'acousticness': 0.00969,\n",
       "  'instrumentalness': 0.709,\n",
       "  'liveness': 0.131,\n",
       "  'valence': 0.183,\n",
       "  'tempo': 120.0,\n",
       "  'type': 'audio_features',\n",
       "  'id': '7r9DWgmElZrjI0G8erYKRr',\n",
       "  'uri': 'spotify:track:7r9DWgmElZrjI0G8erYKRr',\n",
       "  'track_href': 'https://api.spotify.com/v1/tracks/7r9DWgmElZrjI0G8erYKRr',\n",
       "  'analysis_url': 'https://api.spotify.com/v1/audio-analysis/7r9DWgmElZrjI0G8erYKRr',\n",
       "  'duration_ms': 265213,\n",
       "  'time_signature': 4},\n",
       " {'danceability': 0.624,\n",
       "  'energy': 0.703,\n",
       "  'key': 11,\n",
       "  'loudness': -8.669,\n",
       "  'mode': 1,\n",
       "  'speechiness': 0.0413,\n",
       "  'acousticness': 0.11,\n",
       "  'instrumentalness': 0.905,\n",
       "  'liveness': 0.0763,\n",
       "  'valence': 0.607,\n",
       "  'tempo': 125.013,\n",
       "  'type': 'audio_features',\n",
       "  'id': '0gO8TgirnX5bONMONpaLsF',\n",
       "  'uri': 'spotify:track:0gO8TgirnX5bONMONpaLsF',\n",
       "  'track_href': 'https://api.spotify.com/v1/tracks/0gO8TgirnX5bONMONpaLsF',\n",
       "  'analysis_url': 'https://api.spotify.com/v1/audio-analysis/0gO8TgirnX5bONMONpaLsF',\n",
       "  'duration_ms': 282093,\n",
       "  'time_signature': 4},\n",
       " {'danceability': 0.565,\n",
       "  'energy': 0.532,\n",
       "  'key': 0,\n",
       "  'loudness': -10.445,\n",
       "  'mode': 1,\n",
       "  'speechiness': 0.0339,\n",
       "  'acousticness': 0.0819,\n",
       "  'instrumentalness': 0.818,\n",
       "  'liveness': 0.128,\n",
       "  'valence': 0.198,\n",
       "  'tempo': 120.026,\n",
       "  'type': 'audio_features',\n",
       "  'id': '1tdLHkejJyiMiLjSxLFPcQ',\n",
       "  'uri': 'spotify:track:1tdLHkejJyiMiLjSxLFPcQ',\n",
       "  'track_href': 'https://api.spotify.com/v1/tracks/1tdLHkejJyiMiLjSxLFPcQ',\n",
       "  'analysis_url': 'https://api.spotify.com/v1/audio-analysis/1tdLHkejJyiMiLjSxLFPcQ',\n",
       "  'duration_ms': 197387,\n",
       "  'time_signature': 4},\n",
       " {'danceability': 0.579,\n",
       "  'energy': 0.431,\n",
       "  'key': 0,\n",
       "  'loudness': -10.843,\n",
       "  'mode': 1,\n",
       "  'speechiness': 0.194,\n",
       "  'acousticness': 0.209,\n",
       "  'instrumentalness': 0.00186,\n",
       "  'liveness': 0.12,\n",
       "  'valence': 0.11,\n",
       "  'tempo': 119.958,\n",
       "  'type': 'audio_features',\n",
       "  'id': '0VWfG35i4baw8AbN9hvYpS',\n",
       "  'uri': 'spotify:track:0VWfG35i4baw8AbN9hvYpS',\n",
       "  'track_href': 'https://api.spotify.com/v1/tracks/0VWfG35i4baw8AbN9hvYpS',\n",
       "  'analysis_url': 'https://api.spotify.com/v1/audio-analysis/0VWfG35i4baw8AbN9hvYpS',\n",
       "  'duration_ms': 212853,\n",
       "  'time_signature': 4},\n",
       " {'danceability': 0.394,\n",
       "  'energy': 0.414,\n",
       "  'key': 4,\n",
       "  'loudness': -11.082,\n",
       "  'mode': 0,\n",
       "  'speechiness': 0.0415,\n",
       "  'acousticness': 0.129,\n",
       "  'instrumentalness': 0.817,\n",
       "  'liveness': 0.193,\n",
       "  'valence': 0.036,\n",
       "  'tempo': 120.003,\n",
       "  'type': 'audio_features',\n",
       "  'id': '0LB75aAKEH0z5gmtwkoe3X',\n",
       "  'uri': 'spotify:track:0LB75aAKEH0z5gmtwkoe3X',\n",
       "  'track_href': 'https://api.spotify.com/v1/tracks/0LB75aAKEH0z5gmtwkoe3X',\n",
       "  'analysis_url': 'https://api.spotify.com/v1/audio-analysis/0LB75aAKEH0z5gmtwkoe3X',\n",
       "  'duration_ms': 324347,\n",
       "  'time_signature': 4}]"
      ]
     },
     "execution_count": 51,
     "metadata": {},
     "output_type": "execute_result"
    }
   ],
   "source": [
    "sp.audio_features(tracks=track_list)"
   ]
  },
  {
   "cell_type": "markdown",
   "metadata": {},
   "source": [
    "ora ggiugiamo le caratteristiche al nostro dataset"
   ]
  },
  {
   "cell_type": "code",
   "execution_count": 52,
   "metadata": {},
   "outputs": [],
   "source": [
    "for artist in list(music_dataset):\n",
    "    for album in list(music_dataset[artist]):\n",
    "        for track in music_dataset[artist][album]['tracks']:\n",
    "            track_uri = track['track_uri']\n",
    "            track_features = sp.audio_features(track_uri)\n",
    "            track['features'] = track_features[0]"
   ]
  },
  {
   "cell_type": "code",
   "execution_count": 53,
   "metadata": {},
   "outputs": [
    {
     "name": "stdout",
     "output_type": "stream",
     "text": [
      "{'track_name': 'LULLABY', 'track_uri': 'spotify:track:2o002vjoIgeX0Ho2aCWR1N', 'features': {'danceability': 0.574, 'energy': 0.594, 'key': 0, 'loudness': -9.301, 'mode': 1, 'speechiness': 0.0305, 'acousticness': 0.0157, 'instrumentalness': 0.675, 'liveness': 0.0702, 'valence': 0.175, 'tempo': 105.005, 'type': 'audio_features', 'id': '2o002vjoIgeX0Ho2aCWR1N', 'uri': 'spotify:track:2o002vjoIgeX0Ho2aCWR1N', 'track_href': 'https://api.spotify.com/v1/tracks/2o002vjoIgeX0Ho2aCWR1N', 'analysis_url': 'https://api.spotify.com/v1/audio-analysis/2o002vjoIgeX0Ho2aCWR1N', 'duration_ms': 279653, 'time_signature': 4}}\n"
     ]
    }
   ],
   "source": [
    "print(music_dataset[\"The Blaze\"][\"JUNGLE\"][\"tracks\"][0])"
   ]
  },
  {
   "cell_type": "markdown",
   "metadata": {},
   "source": [
    "ora trasformiamo il dataset dizionario in un dataframe"
   ]
  },
  {
   "cell_type": "code",
   "execution_count": 54,
   "metadata": {},
   "outputs": [
    {
     "name": "stdout",
     "output_type": "stream",
     "text": [
      "Music dataset saved as JSON successfully.\n"
     ]
    }
   ],
   "source": [
    "import json\n",
    "\n",
    "# Specify the file path where you want to save the JSON file\n",
    "file_path = 'music_dataset.json'\n",
    "\n",
    "# Convert the music dataset to JSON format\n",
    "music_dataset_json = json.dumps(music_dataset)\n",
    "\n",
    "# Save the JSON data to a file\n",
    "with open(file_path, 'w') as file:\n",
    "    file.write(music_dataset_json)\n",
    "\n",
    "print(\"Music dataset saved as JSON successfully.\")\n"
   ]
  },
  {
   "cell_type": "code",
   "execution_count": 55,
   "metadata": {},
   "outputs": [
    {
     "name": "stdout",
     "output_type": "stream",
     "text": [
      "{'release_date': '2023-03-10', 'tracks': [{'track_name': 'LULLABY', 'track_uri': 'spotify:track:2o002vjoIgeX0Ho2aCWR1N', 'features': {'danceability': 0.574, 'energy': 0.594, 'key': 0, 'loudness': -9.301, 'mode': 1, 'speechiness': 0.0305, 'acousticness': 0.0157, 'instrumentalness': 0.675, 'liveness': 0.0702, 'valence': 0.175, 'tempo': 105.005, 'type': 'audio_features', 'id': '2o002vjoIgeX0Ho2aCWR1N', 'uri': 'spotify:track:2o002vjoIgeX0Ho2aCWR1N', 'track_href': 'https://api.spotify.com/v1/tracks/2o002vjoIgeX0Ho2aCWR1N', 'analysis_url': 'https://api.spotify.com/v1/audio-analysis/2o002vjoIgeX0Ho2aCWR1N', 'duration_ms': 279653, 'time_signature': 4}}, {'track_name': 'CLASH', 'track_uri': 'spotify:track:40adjjHvwrEs3WoFHvHE3h', 'features': {'danceability': 0.53, 'energy': 0.682, 'key': 0, 'loudness': -10.55, 'mode': 1, 'speechiness': 0.0546, 'acousticness': 0.00279, 'instrumentalness': 0.138, 'liveness': 0.0702, 'valence': 0.155, 'tempo': 120.017, 'type': 'audio_features', 'id': '40adjjHvwrEs3WoFHvHE3h', 'uri': 'spotify:track:40adjjHvwrEs3WoFHvHE3h', 'track_href': 'https://api.spotify.com/v1/tracks/40adjjHvwrEs3WoFHvHE3h', 'analysis_url': 'https://api.spotify.com/v1/audio-analysis/40adjjHvwrEs3WoFHvHE3h', 'duration_ms': 253267, 'time_signature': 4}}, {'track_name': 'DREAMER', 'track_uri': 'spotify:track:4lTC96tH07iLNHCmuFn3rS', 'features': {'danceability': 0.67, 'energy': 0.518, 'key': 9, 'loudness': -10.82, 'mode': 0, 'speechiness': 0.106, 'acousticness': 0.507, 'instrumentalness': 0.027, 'liveness': 0.0971, 'valence': 0.239, 'tempo': 122.953, 'type': 'audio_features', 'id': '4lTC96tH07iLNHCmuFn3rS', 'uri': 'spotify:track:4lTC96tH07iLNHCmuFn3rS', 'track_href': 'https://api.spotify.com/v1/tracks/4lTC96tH07iLNHCmuFn3rS', 'analysis_url': 'https://api.spotify.com/v1/audio-analysis/4lTC96tH07iLNHCmuFn3rS', 'duration_ms': 339453, 'time_signature': 4}}, {'track_name': 'MADLY', 'track_uri': 'spotify:track:7Eg6WudP6Qp7JzqldA2ZTH', 'features': {'danceability': 0.595, 'energy': 0.718, 'key': 10, 'loudness': -10.033, 'mode': 0, 'speechiness': 0.043, 'acousticness': 0.00286, 'instrumentalness': 0.664, 'liveness': 0.0827, 'valence': 0.198, 'tempo': 116.006, 'type': 'audio_features', 'id': '7Eg6WudP6Qp7JzqldA2ZTH', 'uri': 'spotify:track:7Eg6WudP6Qp7JzqldA2ZTH', 'track_href': 'https://api.spotify.com/v1/tracks/7Eg6WudP6Qp7JzqldA2ZTH', 'analysis_url': 'https://api.spotify.com/v1/audio-analysis/7Eg6WudP6Qp7JzqldA2ZTH', 'duration_ms': 249160, 'time_signature': 4}}, {'track_name': 'HAZE', 'track_uri': 'spotify:track:7JFj5qHgeTfsKdtQYUYI7B', 'features': {'danceability': 0.571, 'energy': 0.497, 'key': 7, 'loudness': -10.969, 'mode': 1, 'speechiness': 0.0303, 'acousticness': 0.0248, 'instrumentalness': 0.93, 'liveness': 0.115, 'valence': 0.131, 'tempo': 119.996, 'type': 'audio_features', 'id': '7JFj5qHgeTfsKdtQYUYI7B', 'uri': 'spotify:track:7JFj5qHgeTfsKdtQYUYI7B', 'track_href': 'https://api.spotify.com/v1/tracks/7JFj5qHgeTfsKdtQYUYI7B', 'analysis_url': 'https://api.spotify.com/v1/audio-analysis/7JFj5qHgeTfsKdtQYUYI7B', 'duration_ms': 289293, 'time_signature': 4}}, {'track_name': 'LONELY', 'track_uri': 'spotify:track:7r9DWgmElZrjI0G8erYKRr', 'features': {'danceability': 0.682, 'energy': 0.588, 'key': 6, 'loudness': -9.711, 'mode': 1, 'speechiness': 0.0396, 'acousticness': 0.00969, 'instrumentalness': 0.709, 'liveness': 0.131, 'valence': 0.183, 'tempo': 120.0, 'type': 'audio_features', 'id': '7r9DWgmElZrjI0G8erYKRr', 'uri': 'spotify:track:7r9DWgmElZrjI0G8erYKRr', 'track_href': 'https://api.spotify.com/v1/tracks/7r9DWgmElZrjI0G8erYKRr', 'analysis_url': 'https://api.spotify.com/v1/audio-analysis/7r9DWgmElZrjI0G8erYKRr', 'duration_ms': 265213, 'time_signature': 4}}, {'track_name': 'SIREN', 'track_uri': 'spotify:track:0gO8TgirnX5bONMONpaLsF', 'features': {'danceability': 0.624, 'energy': 0.703, 'key': 11, 'loudness': -8.669, 'mode': 1, 'speechiness': 0.0413, 'acousticness': 0.11, 'instrumentalness': 0.905, 'liveness': 0.0763, 'valence': 0.607, 'tempo': 125.013, 'type': 'audio_features', 'id': '0gO8TgirnX5bONMONpaLsF', 'uri': 'spotify:track:0gO8TgirnX5bONMONpaLsF', 'track_href': 'https://api.spotify.com/v1/tracks/0gO8TgirnX5bONMONpaLsF', 'analysis_url': 'https://api.spotify.com/v1/audio-analysis/0gO8TgirnX5bONMONpaLsF', 'duration_ms': 282093, 'time_signature': 4}}, {'track_name': 'BLOOM', 'track_uri': 'spotify:track:1tdLHkejJyiMiLjSxLFPcQ', 'features': {'danceability': 0.565, 'energy': 0.532, 'key': 0, 'loudness': -10.445, 'mode': 1, 'speechiness': 0.0339, 'acousticness': 0.0819, 'instrumentalness': 0.818, 'liveness': 0.128, 'valence': 0.198, 'tempo': 120.026, 'type': 'audio_features', 'id': '1tdLHkejJyiMiLjSxLFPcQ', 'uri': 'spotify:track:1tdLHkejJyiMiLjSxLFPcQ', 'track_href': 'https://api.spotify.com/v1/tracks/1tdLHkejJyiMiLjSxLFPcQ', 'analysis_url': 'https://api.spotify.com/v1/audio-analysis/1tdLHkejJyiMiLjSxLFPcQ', 'duration_ms': 197387, 'time_signature': 4}}, {'track_name': 'EYES', 'track_uri': 'spotify:track:0VWfG35i4baw8AbN9hvYpS', 'features': {'danceability': 0.579, 'energy': 0.431, 'key': 0, 'loudness': -10.843, 'mode': 1, 'speechiness': 0.194, 'acousticness': 0.209, 'instrumentalness': 0.00186, 'liveness': 0.12, 'valence': 0.11, 'tempo': 119.958, 'type': 'audio_features', 'id': '0VWfG35i4baw8AbN9hvYpS', 'uri': 'spotify:track:0VWfG35i4baw8AbN9hvYpS', 'track_href': 'https://api.spotify.com/v1/tracks/0VWfG35i4baw8AbN9hvYpS', 'analysis_url': 'https://api.spotify.com/v1/audio-analysis/0VWfG35i4baw8AbN9hvYpS', 'duration_ms': 212853, 'time_signature': 4}}, {'track_name': 'DUST', 'track_uri': 'spotify:track:0LB75aAKEH0z5gmtwkoe3X', 'features': {'danceability': 0.394, 'energy': 0.414, 'key': 4, 'loudness': -11.082, 'mode': 0, 'speechiness': 0.0415, 'acousticness': 0.129, 'instrumentalness': 0.817, 'liveness': 0.193, 'valence': 0.036, 'tempo': 120.003, 'type': 'audio_features', 'id': '0LB75aAKEH0z5gmtwkoe3X', 'uri': 'spotify:track:0LB75aAKEH0z5gmtwkoe3X', 'track_href': 'https://api.spotify.com/v1/tracks/0LB75aAKEH0z5gmtwkoe3X', 'analysis_url': 'https://api.spotify.com/v1/audio-analysis/0LB75aAKEH0z5gmtwkoe3X', 'duration_ms': 324347, 'time_signature': 4}}, {'track_name': 'LULLABY', 'track_uri': 'spotify:track:2o002vjoIgeX0Ho2aCWR1N', 'track_duration': 279653, 'track_number': 1, 'features': {'danceability': 0.574, 'energy': 0.594, 'key': 0, 'loudness': -9.301, 'mode': 1, 'speechiness': 0.0305, 'acousticness': 0.0157, 'instrumentalness': 0.675, 'liveness': 0.0702, 'valence': 0.175, 'tempo': 105.005, 'type': 'audio_features', 'id': '2o002vjoIgeX0Ho2aCWR1N', 'uri': 'spotify:track:2o002vjoIgeX0Ho2aCWR1N', 'track_href': 'https://api.spotify.com/v1/tracks/2o002vjoIgeX0Ho2aCWR1N', 'analysis_url': 'https://api.spotify.com/v1/audio-analysis/2o002vjoIgeX0Ho2aCWR1N', 'duration_ms': 279653, 'time_signature': 4}}, {'track_name': 'CLASH', 'track_uri': 'spotify:track:40adjjHvwrEs3WoFHvHE3h', 'track_duration': 253266, 'track_number': 2, 'features': {'danceability': 0.53, 'energy': 0.682, 'key': 0, 'loudness': -10.55, 'mode': 1, 'speechiness': 0.0546, 'acousticness': 0.00279, 'instrumentalness': 0.138, 'liveness': 0.0702, 'valence': 0.155, 'tempo': 120.017, 'type': 'audio_features', 'id': '40adjjHvwrEs3WoFHvHE3h', 'uri': 'spotify:track:40adjjHvwrEs3WoFHvHE3h', 'track_href': 'https://api.spotify.com/v1/tracks/40adjjHvwrEs3WoFHvHE3h', 'analysis_url': 'https://api.spotify.com/v1/audio-analysis/40adjjHvwrEs3WoFHvHE3h', 'duration_ms': 253267, 'time_signature': 4}}, {'track_name': 'DREAMER', 'track_uri': 'spotify:track:4lTC96tH07iLNHCmuFn3rS', 'track_duration': 339453, 'track_number': 3, 'features': {'danceability': 0.67, 'energy': 0.518, 'key': 9, 'loudness': -10.82, 'mode': 0, 'speechiness': 0.106, 'acousticness': 0.507, 'instrumentalness': 0.027, 'liveness': 0.0971, 'valence': 0.239, 'tempo': 122.953, 'type': 'audio_features', 'id': '4lTC96tH07iLNHCmuFn3rS', 'uri': 'spotify:track:4lTC96tH07iLNHCmuFn3rS', 'track_href': 'https://api.spotify.com/v1/tracks/4lTC96tH07iLNHCmuFn3rS', 'analysis_url': 'https://api.spotify.com/v1/audio-analysis/4lTC96tH07iLNHCmuFn3rS', 'duration_ms': 339453, 'time_signature': 4}}, {'track_name': 'MADLY', 'track_uri': 'spotify:track:7Eg6WudP6Qp7JzqldA2ZTH', 'track_duration': 249160, 'track_number': 4, 'features': {'danceability': 0.595, 'energy': 0.718, 'key': 10, 'loudness': -10.033, 'mode': 0, 'speechiness': 0.043, 'acousticness': 0.00286, 'instrumentalness': 0.664, 'liveness': 0.0827, 'valence': 0.198, 'tempo': 116.006, 'type': 'audio_features', 'id': '7Eg6WudP6Qp7JzqldA2ZTH', 'uri': 'spotify:track:7Eg6WudP6Qp7JzqldA2ZTH', 'track_href': 'https://api.spotify.com/v1/tracks/7Eg6WudP6Qp7JzqldA2ZTH', 'analysis_url': 'https://api.spotify.com/v1/audio-analysis/7Eg6WudP6Qp7JzqldA2ZTH', 'duration_ms': 249160, 'time_signature': 4}}, {'track_name': 'HAZE', 'track_uri': 'spotify:track:7JFj5qHgeTfsKdtQYUYI7B', 'track_duration': 289293, 'track_number': 5, 'features': {'danceability': 0.571, 'energy': 0.497, 'key': 7, 'loudness': -10.969, 'mode': 1, 'speechiness': 0.0303, 'acousticness': 0.0248, 'instrumentalness': 0.93, 'liveness': 0.115, 'valence': 0.131, 'tempo': 119.996, 'type': 'audio_features', 'id': '7JFj5qHgeTfsKdtQYUYI7B', 'uri': 'spotify:track:7JFj5qHgeTfsKdtQYUYI7B', 'track_href': 'https://api.spotify.com/v1/tracks/7JFj5qHgeTfsKdtQYUYI7B', 'analysis_url': 'https://api.spotify.com/v1/audio-analysis/7JFj5qHgeTfsKdtQYUYI7B', 'duration_ms': 289293, 'time_signature': 4}}, {'track_name': 'LONELY', 'track_uri': 'spotify:track:7r9DWgmElZrjI0G8erYKRr', 'track_duration': 265213, 'track_number': 6, 'features': {'danceability': 0.682, 'energy': 0.588, 'key': 6, 'loudness': -9.711, 'mode': 1, 'speechiness': 0.0396, 'acousticness': 0.00969, 'instrumentalness': 0.709, 'liveness': 0.131, 'valence': 0.183, 'tempo': 120.0, 'type': 'audio_features', 'id': '7r9DWgmElZrjI0G8erYKRr', 'uri': 'spotify:track:7r9DWgmElZrjI0G8erYKRr', 'track_href': 'https://api.spotify.com/v1/tracks/7r9DWgmElZrjI0G8erYKRr', 'analysis_url': 'https://api.spotify.com/v1/audio-analysis/7r9DWgmElZrjI0G8erYKRr', 'duration_ms': 265213, 'time_signature': 4}}, {'track_name': 'SIREN', 'track_uri': 'spotify:track:0gO8TgirnX5bONMONpaLsF', 'track_duration': 282093, 'track_number': 7, 'features': {'danceability': 0.624, 'energy': 0.703, 'key': 11, 'loudness': -8.669, 'mode': 1, 'speechiness': 0.0413, 'acousticness': 0.11, 'instrumentalness': 0.905, 'liveness': 0.0763, 'valence': 0.607, 'tempo': 125.013, 'type': 'audio_features', 'id': '0gO8TgirnX5bONMONpaLsF', 'uri': 'spotify:track:0gO8TgirnX5bONMONpaLsF', 'track_href': 'https://api.spotify.com/v1/tracks/0gO8TgirnX5bONMONpaLsF', 'analysis_url': 'https://api.spotify.com/v1/audio-analysis/0gO8TgirnX5bONMONpaLsF', 'duration_ms': 282093, 'time_signature': 4}}, {'track_name': 'BLOOM', 'track_uri': 'spotify:track:1tdLHkejJyiMiLjSxLFPcQ', 'track_duration': 197386, 'track_number': 8, 'features': {'danceability': 0.565, 'energy': 0.532, 'key': 0, 'loudness': -10.445, 'mode': 1, 'speechiness': 0.0339, 'acousticness': 0.0819, 'instrumentalness': 0.818, 'liveness': 0.128, 'valence': 0.198, 'tempo': 120.026, 'type': 'audio_features', 'id': '1tdLHkejJyiMiLjSxLFPcQ', 'uri': 'spotify:track:1tdLHkejJyiMiLjSxLFPcQ', 'track_href': 'https://api.spotify.com/v1/tracks/1tdLHkejJyiMiLjSxLFPcQ', 'analysis_url': 'https://api.spotify.com/v1/audio-analysis/1tdLHkejJyiMiLjSxLFPcQ', 'duration_ms': 197387, 'time_signature': 4}}, {'track_name': 'EYES', 'track_uri': 'spotify:track:0VWfG35i4baw8AbN9hvYpS', 'track_duration': 212853, 'track_number': 9, 'features': {'danceability': 0.579, 'energy': 0.431, 'key': 0, 'loudness': -10.843, 'mode': 1, 'speechiness': 0.194, 'acousticness': 0.209, 'instrumentalness': 0.00186, 'liveness': 0.12, 'valence': 0.11, 'tempo': 119.958, 'type': 'audio_features', 'id': '0VWfG35i4baw8AbN9hvYpS', 'uri': 'spotify:track:0VWfG35i4baw8AbN9hvYpS', 'track_href': 'https://api.spotify.com/v1/tracks/0VWfG35i4baw8AbN9hvYpS', 'analysis_url': 'https://api.spotify.com/v1/audio-analysis/0VWfG35i4baw8AbN9hvYpS', 'duration_ms': 212853, 'time_signature': 4}}, {'track_name': 'DUST', 'track_uri': 'spotify:track:0LB75aAKEH0z5gmtwkoe3X', 'track_duration': 324346, 'track_number': 10, 'features': {'danceability': 0.394, 'energy': 0.414, 'key': 4, 'loudness': -11.082, 'mode': 0, 'speechiness': 0.0415, 'acousticness': 0.129, 'instrumentalness': 0.817, 'liveness': 0.193, 'valence': 0.036, 'tempo': 120.003, 'type': 'audio_features', 'id': '0LB75aAKEH0z5gmtwkoe3X', 'uri': 'spotify:track:0LB75aAKEH0z5gmtwkoe3X', 'track_href': 'https://api.spotify.com/v1/tracks/0LB75aAKEH0z5gmtwkoe3X', 'analysis_url': 'https://api.spotify.com/v1/audio-analysis/0LB75aAKEH0z5gmtwkoe3X', 'duration_ms': 324347, 'time_signature': 4}}], 'album_uri': 'spotify:album:409STQlcajDkM1vdhM4Qxo'}\n"
     ]
    }
   ],
   "source": [
    "print(music_dataset[\"The Blaze\"][\"JUNGLE\"])"
   ]
  },
  {
   "cell_type": "code",
   "execution_count": 5,
   "metadata": {},
   "outputs": [
    {
     "data": {
      "text/html": [
       "<div>\n",
       "<style scoped>\n",
       "    .dataframe tbody tr th:only-of-type {\n",
       "        vertical-align: middle;\n",
       "    }\n",
       "\n",
       "    .dataframe tbody tr th {\n",
       "        vertical-align: top;\n",
       "    }\n",
       "\n",
       "    .dataframe thead th {\n",
       "        text-align: right;\n",
       "    }\n",
       "</style>\n",
       "<table border=\"1\" class=\"dataframe\">\n",
       "  <thead>\n",
       "    <tr style=\"text-align: right;\">\n",
       "      <th></th>\n",
       "      <th>artist</th>\n",
       "      <th>album_name</th>\n",
       "      <th>album_release_date</th>\n",
       "      <th>track_name</th>\n",
       "      <th>danceability</th>\n",
       "      <th>energy</th>\n",
       "      <th>key</th>\n",
       "      <th>loudness</th>\n",
       "      <th>mode</th>\n",
       "      <th>speechiness</th>\n",
       "      <th>...</th>\n",
       "      <th>liveness</th>\n",
       "      <th>valence</th>\n",
       "      <th>tempo</th>\n",
       "      <th>type</th>\n",
       "      <th>id</th>\n",
       "      <th>uri</th>\n",
       "      <th>track_href</th>\n",
       "      <th>analysis_url</th>\n",
       "      <th>duration_ms</th>\n",
       "      <th>time_signature</th>\n",
       "    </tr>\n",
       "  </thead>\n",
       "  <tbody>\n",
       "    <tr>\n",
       "      <th>0</th>\n",
       "      <td>King Gizzard &amp; The Lizard Wizard</td>\n",
       "      <td>The Silver Cord</td>\n",
       "      <td>2023-10-27</td>\n",
       "      <td>Theia</td>\n",
       "      <td>0.383</td>\n",
       "      <td>0.975</td>\n",
       "      <td>2</td>\n",
       "      <td>-5.849</td>\n",
       "      <td>1</td>\n",
       "      <td>0.2270</td>\n",
       "      <td>...</td>\n",
       "      <td>0.3580</td>\n",
       "      <td>0.4640</td>\n",
       "      <td>159.114</td>\n",
       "      <td>audio_features</td>\n",
       "      <td>7mZ7AZStqxSS0YeIUsDMPR</td>\n",
       "      <td>spotify:track:7mZ7AZStqxSS0YeIUsDMPR</td>\n",
       "      <td>https://api.spotify.com/v1/tracks/7mZ7AZStqxSS...</td>\n",
       "      <td>https://api.spotify.com/v1/audio-analysis/7mZ7...</td>\n",
       "      <td>204033</td>\n",
       "      <td>5</td>\n",
       "    </tr>\n",
       "    <tr>\n",
       "      <th>1</th>\n",
       "      <td>King Gizzard &amp; The Lizard Wizard</td>\n",
       "      <td>The Silver Cord</td>\n",
       "      <td>2023-10-27</td>\n",
       "      <td>The Silver Cord</td>\n",
       "      <td>0.434</td>\n",
       "      <td>0.695</td>\n",
       "      <td>7</td>\n",
       "      <td>-7.524</td>\n",
       "      <td>1</td>\n",
       "      <td>0.0329</td>\n",
       "      <td>...</td>\n",
       "      <td>0.7220</td>\n",
       "      <td>0.1170</td>\n",
       "      <td>82.964</td>\n",
       "      <td>audio_features</td>\n",
       "      <td>2T0XDiGc0NsfgPEep1Eym4</td>\n",
       "      <td>spotify:track:2T0XDiGc0NsfgPEep1Eym4</td>\n",
       "      <td>https://api.spotify.com/v1/tracks/2T0XDiGc0Nsf...</td>\n",
       "      <td>https://api.spotify.com/v1/audio-analysis/2T0X...</td>\n",
       "      <td>260235</td>\n",
       "      <td>3</td>\n",
       "    </tr>\n",
       "    <tr>\n",
       "      <th>2</th>\n",
       "      <td>King Gizzard &amp; The Lizard Wizard</td>\n",
       "      <td>The Silver Cord</td>\n",
       "      <td>2023-10-27</td>\n",
       "      <td>Set</td>\n",
       "      <td>0.581</td>\n",
       "      <td>0.998</td>\n",
       "      <td>5</td>\n",
       "      <td>-4.517</td>\n",
       "      <td>1</td>\n",
       "      <td>0.2220</td>\n",
       "      <td>...</td>\n",
       "      <td>0.4560</td>\n",
       "      <td>0.3590</td>\n",
       "      <td>124.998</td>\n",
       "      <td>audio_features</td>\n",
       "      <td>0wJVnaeq4dBiNyQRVQucMw</td>\n",
       "      <td>spotify:track:0wJVnaeq4dBiNyQRVQucMw</td>\n",
       "      <td>https://api.spotify.com/v1/tracks/0wJVnaeq4dBi...</td>\n",
       "      <td>https://api.spotify.com/v1/audio-analysis/0wJV...</td>\n",
       "      <td>236004</td>\n",
       "      <td>1</td>\n",
       "    </tr>\n",
       "    <tr>\n",
       "      <th>3</th>\n",
       "      <td>King Gizzard &amp; The Lizard Wizard</td>\n",
       "      <td>The Silver Cord</td>\n",
       "      <td>2023-10-27</td>\n",
       "      <td>Chang’e</td>\n",
       "      <td>0.387</td>\n",
       "      <td>0.977</td>\n",
       "      <td>11</td>\n",
       "      <td>-4.464</td>\n",
       "      <td>1</td>\n",
       "      <td>0.1080</td>\n",
       "      <td>...</td>\n",
       "      <td>0.3740</td>\n",
       "      <td>0.3760</td>\n",
       "      <td>84.005</td>\n",
       "      <td>audio_features</td>\n",
       "      <td>3yyagteXLaWUhXcyLWQNGY</td>\n",
       "      <td>spotify:track:3yyagteXLaWUhXcyLWQNGY</td>\n",
       "      <td>https://api.spotify.com/v1/tracks/3yyagteXLaWU...</td>\n",
       "      <td>https://api.spotify.com/v1/audio-analysis/3yya...</td>\n",
       "      <td>226770</td>\n",
       "      <td>1</td>\n",
       "    </tr>\n",
       "    <tr>\n",
       "      <th>4</th>\n",
       "      <td>King Gizzard &amp; The Lizard Wizard</td>\n",
       "      <td>The Silver Cord</td>\n",
       "      <td>2023-10-27</td>\n",
       "      <td>Gilgamesh</td>\n",
       "      <td>0.508</td>\n",
       "      <td>0.987</td>\n",
       "      <td>11</td>\n",
       "      <td>-4.489</td>\n",
       "      <td>1</td>\n",
       "      <td>0.2390</td>\n",
       "      <td>...</td>\n",
       "      <td>0.3870</td>\n",
       "      <td>0.1400</td>\n",
       "      <td>126.035</td>\n",
       "      <td>audio_features</td>\n",
       "      <td>7ozGwl6LB9n816dFx2Cwox</td>\n",
       "      <td>spotify:track:7ozGwl6LB9n816dFx2Cwox</td>\n",
       "      <td>https://api.spotify.com/v1/tracks/7ozGwl6LB9n8...</td>\n",
       "      <td>https://api.spotify.com/v1/audio-analysis/7ozG...</td>\n",
       "      <td>223607</td>\n",
       "      <td>4</td>\n",
       "    </tr>\n",
       "    <tr>\n",
       "      <th>...</th>\n",
       "      <td>...</td>\n",
       "      <td>...</td>\n",
       "      <td>...</td>\n",
       "      <td>...</td>\n",
       "      <td>...</td>\n",
       "      <td>...</td>\n",
       "      <td>...</td>\n",
       "      <td>...</td>\n",
       "      <td>...</td>\n",
       "      <td>...</td>\n",
       "      <td>...</td>\n",
       "      <td>...</td>\n",
       "      <td>...</td>\n",
       "      <td>...</td>\n",
       "      <td>...</td>\n",
       "      <td>...</td>\n",
       "      <td>...</td>\n",
       "      <td>...</td>\n",
       "      <td>...</td>\n",
       "      <td>...</td>\n",
       "      <td>...</td>\n",
       "    </tr>\n",
       "    <tr>\n",
       "      <th>179</th>\n",
       "      <td>The Blaze</td>\n",
       "      <td>DANCEHALL</td>\n",
       "      <td>2018-09-07</td>\n",
       "      <td>RUNAWAY</td>\n",
       "      <td>0.670</td>\n",
       "      <td>0.600</td>\n",
       "      <td>8</td>\n",
       "      <td>-9.868</td>\n",
       "      <td>0</td>\n",
       "      <td>0.0570</td>\n",
       "      <td>...</td>\n",
       "      <td>0.0857</td>\n",
       "      <td>0.2100</td>\n",
       "      <td>95.004</td>\n",
       "      <td>audio_features</td>\n",
       "      <td>6IVxzXBmoXk1TSoI2yrqGT</td>\n",
       "      <td>spotify:track:6IVxzXBmoXk1TSoI2yrqGT</td>\n",
       "      <td>https://api.spotify.com/v1/tracks/6IVxzXBmoXk1...</td>\n",
       "      <td>https://api.spotify.com/v1/audio-analysis/6IVx...</td>\n",
       "      <td>255027</td>\n",
       "      <td>4</td>\n",
       "    </tr>\n",
       "    <tr>\n",
       "      <th>180</th>\n",
       "      <td>The Blaze</td>\n",
       "      <td>DANCEHALL</td>\n",
       "      <td>2018-09-07</td>\n",
       "      <td>BREATH</td>\n",
       "      <td>0.379</td>\n",
       "      <td>0.502</td>\n",
       "      <td>11</td>\n",
       "      <td>-10.840</td>\n",
       "      <td>0</td>\n",
       "      <td>0.0528</td>\n",
       "      <td>...</td>\n",
       "      <td>0.0934</td>\n",
       "      <td>0.0373</td>\n",
       "      <td>124.995</td>\n",
       "      <td>audio_features</td>\n",
       "      <td>7jRiYlv4KQU2vT6lG7I1to</td>\n",
       "      <td>spotify:track:7jRiYlv4KQU2vT6lG7I1to</td>\n",
       "      <td>https://api.spotify.com/v1/tracks/7jRiYlv4KQU2...</td>\n",
       "      <td>https://api.spotify.com/v1/audio-analysis/7jRi...</td>\n",
       "      <td>229427</td>\n",
       "      <td>4</td>\n",
       "    </tr>\n",
       "    <tr>\n",
       "      <th>181</th>\n",
       "      <td>The Blaze</td>\n",
       "      <td>DANCEHALL</td>\n",
       "      <td>2018-09-07</td>\n",
       "      <td>QUEENS</td>\n",
       "      <td>0.617</td>\n",
       "      <td>0.589</td>\n",
       "      <td>2</td>\n",
       "      <td>-12.767</td>\n",
       "      <td>1</td>\n",
       "      <td>0.0457</td>\n",
       "      <td>...</td>\n",
       "      <td>0.0958</td>\n",
       "      <td>0.0301</td>\n",
       "      <td>125.058</td>\n",
       "      <td>audio_features</td>\n",
       "      <td>6EjTmLZVdDfp66yawG1CDb</td>\n",
       "      <td>spotify:track:6EjTmLZVdDfp66yawG1CDb</td>\n",
       "      <td>https://api.spotify.com/v1/tracks/6EjTmLZVdDfp...</td>\n",
       "      <td>https://api.spotify.com/v1/audio-analysis/6EjT...</td>\n",
       "      <td>234680</td>\n",
       "      <td>4</td>\n",
       "    </tr>\n",
       "    <tr>\n",
       "      <th>182</th>\n",
       "      <td>The Blaze</td>\n",
       "      <td>DANCEHALL</td>\n",
       "      <td>2018-09-07</td>\n",
       "      <td>FACES</td>\n",
       "      <td>0.766</td>\n",
       "      <td>0.551</td>\n",
       "      <td>5</td>\n",
       "      <td>-10.630</td>\n",
       "      <td>1</td>\n",
       "      <td>0.0402</td>\n",
       "      <td>...</td>\n",
       "      <td>0.2750</td>\n",
       "      <td>0.2040</td>\n",
       "      <td>115.022</td>\n",
       "      <td>audio_features</td>\n",
       "      <td>5juHxeZS4HIppsLHsqu0q5</td>\n",
       "      <td>spotify:track:5juHxeZS4HIppsLHsqu0q5</td>\n",
       "      <td>https://api.spotify.com/v1/tracks/5juHxeZS4HIp...</td>\n",
       "      <td>https://api.spotify.com/v1/audio-analysis/5juH...</td>\n",
       "      <td>237773</td>\n",
       "      <td>4</td>\n",
       "    </tr>\n",
       "    <tr>\n",
       "      <th>183</th>\n",
       "      <td>The Blaze</td>\n",
       "      <td>DANCEHALL</td>\n",
       "      <td>2018-09-07</td>\n",
       "      <td>MOUNT</td>\n",
       "      <td>0.514</td>\n",
       "      <td>0.371</td>\n",
       "      <td>5</td>\n",
       "      <td>-12.726</td>\n",
       "      <td>0</td>\n",
       "      <td>0.0371</td>\n",
       "      <td>...</td>\n",
       "      <td>0.1090</td>\n",
       "      <td>0.0624</td>\n",
       "      <td>129.989</td>\n",
       "      <td>audio_features</td>\n",
       "      <td>13NJl8CmtD3PZLpsj90coa</td>\n",
       "      <td>spotify:track:13NJl8CmtD3PZLpsj90coa</td>\n",
       "      <td>https://api.spotify.com/v1/tracks/13NJl8CmtD3P...</td>\n",
       "      <td>https://api.spotify.com/v1/audio-analysis/13NJ...</td>\n",
       "      <td>181347</td>\n",
       "      <td>4</td>\n",
       "    </tr>\n",
       "  </tbody>\n",
       "</table>\n",
       "<p>184 rows × 22 columns</p>\n",
       "</div>"
      ],
      "text/plain": [
       "                               artist       album_name album_release_date  \\\n",
       "0    King Gizzard & The Lizard Wizard  The Silver Cord         2023-10-27   \n",
       "1    King Gizzard & The Lizard Wizard  The Silver Cord         2023-10-27   \n",
       "2    King Gizzard & The Lizard Wizard  The Silver Cord         2023-10-27   \n",
       "3    King Gizzard & The Lizard Wizard  The Silver Cord         2023-10-27   \n",
       "4    King Gizzard & The Lizard Wizard  The Silver Cord         2023-10-27   \n",
       "..                                ...              ...                ...   \n",
       "179                         The Blaze        DANCEHALL         2018-09-07   \n",
       "180                         The Blaze        DANCEHALL         2018-09-07   \n",
       "181                         The Blaze        DANCEHALL         2018-09-07   \n",
       "182                         The Blaze        DANCEHALL         2018-09-07   \n",
       "183                         The Blaze        DANCEHALL         2018-09-07   \n",
       "\n",
       "          track_name  danceability  energy  key  loudness  mode  speechiness  \\\n",
       "0              Theia         0.383   0.975    2    -5.849     1       0.2270   \n",
       "1    The Silver Cord         0.434   0.695    7    -7.524     1       0.0329   \n",
       "2                Set         0.581   0.998    5    -4.517     1       0.2220   \n",
       "3            Chang’e         0.387   0.977   11    -4.464     1       0.1080   \n",
       "4          Gilgamesh         0.508   0.987   11    -4.489     1       0.2390   \n",
       "..               ...           ...     ...  ...       ...   ...          ...   \n",
       "179          RUNAWAY         0.670   0.600    8    -9.868     0       0.0570   \n",
       "180           BREATH         0.379   0.502   11   -10.840     0       0.0528   \n",
       "181           QUEENS         0.617   0.589    2   -12.767     1       0.0457   \n",
       "182            FACES         0.766   0.551    5   -10.630     1       0.0402   \n",
       "183            MOUNT         0.514   0.371    5   -12.726     0       0.0371   \n",
       "\n",
       "     ...  liveness  valence    tempo            type                      id  \\\n",
       "0    ...    0.3580   0.4640  159.114  audio_features  7mZ7AZStqxSS0YeIUsDMPR   \n",
       "1    ...    0.7220   0.1170   82.964  audio_features  2T0XDiGc0NsfgPEep1Eym4   \n",
       "2    ...    0.4560   0.3590  124.998  audio_features  0wJVnaeq4dBiNyQRVQucMw   \n",
       "3    ...    0.3740   0.3760   84.005  audio_features  3yyagteXLaWUhXcyLWQNGY   \n",
       "4    ...    0.3870   0.1400  126.035  audio_features  7ozGwl6LB9n816dFx2Cwox   \n",
       "..   ...       ...      ...      ...             ...                     ...   \n",
       "179  ...    0.0857   0.2100   95.004  audio_features  6IVxzXBmoXk1TSoI2yrqGT   \n",
       "180  ...    0.0934   0.0373  124.995  audio_features  7jRiYlv4KQU2vT6lG7I1to   \n",
       "181  ...    0.0958   0.0301  125.058  audio_features  6EjTmLZVdDfp66yawG1CDb   \n",
       "182  ...    0.2750   0.2040  115.022  audio_features  5juHxeZS4HIppsLHsqu0q5   \n",
       "183  ...    0.1090   0.0624  129.989  audio_features  13NJl8CmtD3PZLpsj90coa   \n",
       "\n",
       "                                      uri  \\\n",
       "0    spotify:track:7mZ7AZStqxSS0YeIUsDMPR   \n",
       "1    spotify:track:2T0XDiGc0NsfgPEep1Eym4   \n",
       "2    spotify:track:0wJVnaeq4dBiNyQRVQucMw   \n",
       "3    spotify:track:3yyagteXLaWUhXcyLWQNGY   \n",
       "4    spotify:track:7ozGwl6LB9n816dFx2Cwox   \n",
       "..                                    ...   \n",
       "179  spotify:track:6IVxzXBmoXk1TSoI2yrqGT   \n",
       "180  spotify:track:7jRiYlv4KQU2vT6lG7I1to   \n",
       "181  spotify:track:6EjTmLZVdDfp66yawG1CDb   \n",
       "182  spotify:track:5juHxeZS4HIppsLHsqu0q5   \n",
       "183  spotify:track:13NJl8CmtD3PZLpsj90coa   \n",
       "\n",
       "                                            track_href  \\\n",
       "0    https://api.spotify.com/v1/tracks/7mZ7AZStqxSS...   \n",
       "1    https://api.spotify.com/v1/tracks/2T0XDiGc0Nsf...   \n",
       "2    https://api.spotify.com/v1/tracks/0wJVnaeq4dBi...   \n",
       "3    https://api.spotify.com/v1/tracks/3yyagteXLaWU...   \n",
       "4    https://api.spotify.com/v1/tracks/7ozGwl6LB9n8...   \n",
       "..                                                 ...   \n",
       "179  https://api.spotify.com/v1/tracks/6IVxzXBmoXk1...   \n",
       "180  https://api.spotify.com/v1/tracks/7jRiYlv4KQU2...   \n",
       "181  https://api.spotify.com/v1/tracks/6EjTmLZVdDfp...   \n",
       "182  https://api.spotify.com/v1/tracks/5juHxeZS4HIp...   \n",
       "183  https://api.spotify.com/v1/tracks/13NJl8CmtD3P...   \n",
       "\n",
       "                                          analysis_url duration_ms  \\\n",
       "0    https://api.spotify.com/v1/audio-analysis/7mZ7...      204033   \n",
       "1    https://api.spotify.com/v1/audio-analysis/2T0X...      260235   \n",
       "2    https://api.spotify.com/v1/audio-analysis/0wJV...      236004   \n",
       "3    https://api.spotify.com/v1/audio-analysis/3yya...      226770   \n",
       "4    https://api.spotify.com/v1/audio-analysis/7ozG...      223607   \n",
       "..                                                 ...         ...   \n",
       "179  https://api.spotify.com/v1/audio-analysis/6IVx...      255027   \n",
       "180  https://api.spotify.com/v1/audio-analysis/7jRi...      229427   \n",
       "181  https://api.spotify.com/v1/audio-analysis/6EjT...      234680   \n",
       "182  https://api.spotify.com/v1/audio-analysis/5juH...      237773   \n",
       "183  https://api.spotify.com/v1/audio-analysis/13NJ...      181347   \n",
       "\n",
       "    time_signature  \n",
       "0                5  \n",
       "1                3  \n",
       "2                1  \n",
       "3                1  \n",
       "4                4  \n",
       "..             ...  \n",
       "179              4  \n",
       "180              4  \n",
       "181              4  \n",
       "182              4  \n",
       "183              4  \n",
       "\n",
       "[184 rows x 22 columns]"
      ]
     },
     "execution_count": 5,
     "metadata": {},
     "output_type": "execute_result"
    }
   ],
   "source": [
    "# load the JSON file\n",
    "with open('music_dataset.json', 'r') as file:\n",
    "    json_data = json.load(file)\n",
    "\n",
    "rows = []\n",
    "\n",
    "for artist, albums in json_data.items():\n",
    "    for album_name, album_details in albums.items():\n",
    "        release_date = album_details[\"release_date\"]\n",
    "        for track in album_details[\"tracks\"]:\n",
    "            track_info = {\n",
    "                \"artist\": artist,\n",
    "                \"album_name\": album_name,\n",
    "                \"album_release_date\": release_date,\n",
    "                \"track_name\": track[\"track_name\"],\n",
    "                **track[\"features\"]\n",
    "            }\n",
    "            rows.append(track_info)\n",
    "\n",
    "# Convert the corrected list of dictionaries into a DataFrame\n",
    "df = pd.DataFrame(rows)\n",
    "\n",
    "# Display the first few rows of the corrected DataFrame to verify\n",
    "df"
   ]
  },
  {
   "cell_type": "markdown",
   "metadata": {},
   "source": [
    "alternartiva a unpacker"
   ]
  },
  {
   "cell_type": "code",
   "execution_count": 6,
   "metadata": {},
   "outputs": [
    {
     "data": {
      "text/html": [
       "<div>\n",
       "<style scoped>\n",
       "    .dataframe tbody tr th:only-of-type {\n",
       "        vertical-align: middle;\n",
       "    }\n",
       "\n",
       "    .dataframe tbody tr th {\n",
       "        vertical-align: top;\n",
       "    }\n",
       "\n",
       "    .dataframe thead th {\n",
       "        text-align: right;\n",
       "    }\n",
       "</style>\n",
       "<table border=\"1\" class=\"dataframe\">\n",
       "  <thead>\n",
       "    <tr style=\"text-align: right;\">\n",
       "      <th></th>\n",
       "      <th>artist</th>\n",
       "      <th>album_name</th>\n",
       "      <th>album_release_date</th>\n",
       "      <th>track_name</th>\n",
       "      <th>danceability</th>\n",
       "      <th>energy</th>\n",
       "      <th>key</th>\n",
       "      <th>loudness</th>\n",
       "      <th>mode</th>\n",
       "      <th>speechiness</th>\n",
       "      <th>acousticness</th>\n",
       "      <th>instrumentalness</th>\n",
       "      <th>liveness</th>\n",
       "      <th>valence</th>\n",
       "      <th>tempo</th>\n",
       "      <th>duration_min</th>\n",
       "      <th>time_signature</th>\n",
       "    </tr>\n",
       "  </thead>\n",
       "  <tbody>\n",
       "    <tr>\n",
       "      <th>0</th>\n",
       "      <td>King Gizzard &amp; The Lizard Wizard</td>\n",
       "      <td>The Silver Cord</td>\n",
       "      <td>2023-10-27</td>\n",
       "      <td>Theia</td>\n",
       "      <td>0.383</td>\n",
       "      <td>0.975</td>\n",
       "      <td>2</td>\n",
       "      <td>-5.849</td>\n",
       "      <td>1</td>\n",
       "      <td>0.2270</td>\n",
       "      <td>0.0802</td>\n",
       "      <td>0.000002</td>\n",
       "      <td>0.358</td>\n",
       "      <td>0.464</td>\n",
       "      <td>159.114</td>\n",
       "      <td>3.400550</td>\n",
       "      <td>5</td>\n",
       "    </tr>\n",
       "    <tr>\n",
       "      <th>1</th>\n",
       "      <td>King Gizzard &amp; The Lizard Wizard</td>\n",
       "      <td>The Silver Cord</td>\n",
       "      <td>2023-10-27</td>\n",
       "      <td>The Silver Cord</td>\n",
       "      <td>0.434</td>\n",
       "      <td>0.695</td>\n",
       "      <td>7</td>\n",
       "      <td>-7.524</td>\n",
       "      <td>1</td>\n",
       "      <td>0.0329</td>\n",
       "      <td>0.0648</td>\n",
       "      <td>0.000009</td>\n",
       "      <td>0.722</td>\n",
       "      <td>0.117</td>\n",
       "      <td>82.964</td>\n",
       "      <td>4.337250</td>\n",
       "      <td>3</td>\n",
       "    </tr>\n",
       "    <tr>\n",
       "      <th>2</th>\n",
       "      <td>King Gizzard &amp; The Lizard Wizard</td>\n",
       "      <td>The Silver Cord</td>\n",
       "      <td>2023-10-27</td>\n",
       "      <td>Set</td>\n",
       "      <td>0.581</td>\n",
       "      <td>0.998</td>\n",
       "      <td>5</td>\n",
       "      <td>-4.517</td>\n",
       "      <td>1</td>\n",
       "      <td>0.2220</td>\n",
       "      <td>0.0267</td>\n",
       "      <td>0.000000</td>\n",
       "      <td>0.456</td>\n",
       "      <td>0.359</td>\n",
       "      <td>124.998</td>\n",
       "      <td>3.933400</td>\n",
       "      <td>1</td>\n",
       "    </tr>\n",
       "    <tr>\n",
       "      <th>3</th>\n",
       "      <td>King Gizzard &amp; The Lizard Wizard</td>\n",
       "      <td>The Silver Cord</td>\n",
       "      <td>2023-10-27</td>\n",
       "      <td>Chang’e</td>\n",
       "      <td>0.387</td>\n",
       "      <td>0.977</td>\n",
       "      <td>11</td>\n",
       "      <td>-4.464</td>\n",
       "      <td>1</td>\n",
       "      <td>0.1080</td>\n",
       "      <td>0.0351</td>\n",
       "      <td>0.000044</td>\n",
       "      <td>0.374</td>\n",
       "      <td>0.376</td>\n",
       "      <td>84.005</td>\n",
       "      <td>3.779500</td>\n",
       "      <td>1</td>\n",
       "    </tr>\n",
       "    <tr>\n",
       "      <th>4</th>\n",
       "      <td>King Gizzard &amp; The Lizard Wizard</td>\n",
       "      <td>The Silver Cord</td>\n",
       "      <td>2023-10-27</td>\n",
       "      <td>Gilgamesh</td>\n",
       "      <td>0.508</td>\n",
       "      <td>0.987</td>\n",
       "      <td>11</td>\n",
       "      <td>-4.489</td>\n",
       "      <td>1</td>\n",
       "      <td>0.2390</td>\n",
       "      <td>0.0170</td>\n",
       "      <td>0.000000</td>\n",
       "      <td>0.387</td>\n",
       "      <td>0.140</td>\n",
       "      <td>126.035</td>\n",
       "      <td>3.726783</td>\n",
       "      <td>4</td>\n",
       "    </tr>\n",
       "  </tbody>\n",
       "</table>\n",
       "</div>"
      ],
      "text/plain": [
       "                             artist       album_name album_release_date  \\\n",
       "0  King Gizzard & The Lizard Wizard  The Silver Cord         2023-10-27   \n",
       "1  King Gizzard & The Lizard Wizard  The Silver Cord         2023-10-27   \n",
       "2  King Gizzard & The Lizard Wizard  The Silver Cord         2023-10-27   \n",
       "3  King Gizzard & The Lizard Wizard  The Silver Cord         2023-10-27   \n",
       "4  King Gizzard & The Lizard Wizard  The Silver Cord         2023-10-27   \n",
       "\n",
       "        track_name  danceability  energy  key  loudness  mode  speechiness  \\\n",
       "0            Theia         0.383   0.975    2    -5.849     1       0.2270   \n",
       "1  The Silver Cord         0.434   0.695    7    -7.524     1       0.0329   \n",
       "2              Set         0.581   0.998    5    -4.517     1       0.2220   \n",
       "3          Chang’e         0.387   0.977   11    -4.464     1       0.1080   \n",
       "4        Gilgamesh         0.508   0.987   11    -4.489     1       0.2390   \n",
       "\n",
       "   acousticness  instrumentalness  liveness  valence    tempo  duration_min  \\\n",
       "0        0.0802          0.000002     0.358    0.464  159.114      3.400550   \n",
       "1        0.0648          0.000009     0.722    0.117   82.964      4.337250   \n",
       "2        0.0267          0.000000     0.456    0.359  124.998      3.933400   \n",
       "3        0.0351          0.000044     0.374    0.376   84.005      3.779500   \n",
       "4        0.0170          0.000000     0.387    0.140  126.035      3.726783   \n",
       "\n",
       "   time_signature  \n",
       "0               5  \n",
       "1               3  \n",
       "2               1  \n",
       "3               1  \n",
       "4               4  "
      ]
     },
     "execution_count": 6,
     "metadata": {},
     "output_type": "execute_result"
    }
   ],
   "source": [
    "rows = []\n",
    "\n",
    "for artist, albums in json_data.items():\n",
    "    for album_name, album_details in albums.items():\n",
    "        release_date = album_details[\"release_date\"]\n",
    "        for track in album_details[\"tracks\"]:\n",
    "            track_info = {\n",
    "                \"artist\": artist,\n",
    "                \"album_name\": album_name,\n",
    "                \"album_release_date\": release_date,\n",
    "                \"track_name\": track[\"track_name\"],\n",
    "                \"danceability\": track[\"features\"][\"danceability\"],\n",
    "                \"energy\": track[\"features\"][\"energy\"],\n",
    "                \"key\": track[\"features\"][\"key\"],\n",
    "                \"loudness\": track[\"features\"][\"loudness\"],\n",
    "                \"mode\": track[\"features\"][\"mode\"],\n",
    "                \"speechiness\": track[\"features\"][\"speechiness\"],\n",
    "                \"acousticness\": track[\"features\"][\"acousticness\"],\n",
    "                \"instrumentalness\": track[\"features\"][\"instrumentalness\"],\n",
    "                \"liveness\": track[\"features\"][\"liveness\"],\n",
    "                \"valence\": track[\"features\"][\"valence\"],\n",
    "                \"tempo\": track[\"features\"][\"tempo\"],\n",
    "                # ms in minutes\n",
    "                \"duration_min\": track[\"features\"][\"duration_ms\"] / 60000,\n",
    "                \"time_signature\": track[\"features\"][\"time_signature\"]\n",
    "                # Add more features as needed\n",
    "            }\n",
    "            rows.append(track_info)\n",
    "\n",
    "# Convert the list of dictionaries into a DataFrame\n",
    "df_alternative = pd.DataFrame(rows)\n",
    "\n",
    "# Display the first few rows of the DataFrame to verify\n",
    "df_alternative.head()\n"
   ]
  },
  {
   "cell_type": "markdown",
   "metadata": {},
   "source": [
    "dizionario_base = {\"a\": 1, \"b\": 2}\n",
    "nuove_coppie = {\"b\": 3, \"c\": 4}\n",
    "\n",
    "# Combinare i dizionari\n",
    "dizionario_combinato = {**dizionario_base, **nuove_coppie}\n",
    "print(dizionario_combinato)  # Output: {'a': 1, 'b': 3, 'c': 4}\n"
   ]
  },
  {
   "cell_type": "markdown",
   "metadata": {},
   "source": [
    "### Extract audio features for each song¶\n",
    "To store the audio features of each album track and append the data into lists representing all the music tracks for that album we add additional key-values.\n",
    "\n",
    "Acousticness : A confidence measure from 0.0 to 1.0 of whether the track is acoustic. 1.0 represents high confidence the track is acoustic.\n",
    "\n",
    "Danceability : Danceability describes how suitable a track is for dancing based on a combination of musical elements including tempo, rhythm stability, beat strength, and overall regularity. A value of 0.0 is least danceable and 1.0 is most danceable.\n",
    "\n",
    "Energy : Energy is a measure from 0.0 to 1.0 and represents a perceptual measure of intensity and activity. Typically, energetic tracks feel fast, loud, and noisy. For example, death metal has high energy, while a Bach prelude scores low on the scale. Perceptual features contributing to this attribute include dynamic range, perceived loudness, timbre, onset rate, and general entropy.\n",
    "\n",
    "Instrumentalness: Predicts whether a track contains no vocals. “Ooh” and “aah” sounds are treated as instrumental in this context. Rap or spoken word tracks are clearly “vocal”. The closer the instrumentalness value is to 1.0, the greater likelihood the track contains no vocal content. Values above 0.5 are intended to represent instrumental tracks, but confidence is higher as the value approaches 1.0.\n",
    "\n",
    "Liveness: Detects the presence of an audience in the recording. Higher liveness values represent an increased probability that the track was performed live. A value above 0.8 provides strong likelihood that the track is live.\n",
    "\n",
    "Loudness: he overall loudness of a track in decibels (dB). Loudness values are averaged across the entire track and are useful for comparing relative loudness of tracks. Loudness is the quality of a sound that is the primary psychological correlate of physical strength (amplitude). Values typical range between -60 and 0 db.\n",
    "\n",
    "Speechiness: Speechiness detects the presence of spoken words in a track. The more exclusively speech-like the recording (e.g. talk show, audio book, poetry), the closer to 1.0 the attribute value. Values above 0.66 describe tracks that are probably made entirely of spoken words. Values between 0.33 and 0.66 describe tracks that may contain both music and speech, either in sections or layered, including such cases as rap music. Values below 0.33 most likely represent music and other non-speech-like tracks.\n",
    "\n",
    "Valence: A measure from 0.0 to 1.0 describing the musical positiveness conveyed by a track. Tracks with high valence sound more positive (e.g. happy, cheerful, euphoric), while tracks with low valence sound more negative (e.g. sad, depressed, angry).\n",
    "\n",
    "Tempo: The overall estimated tempo of a track in beats per minute (BPM). In musical terminology, tempo is the speed or pace of a given piece and derives directly from the average beat duration."
   ]
  },
  {
   "cell_type": "markdown",
   "metadata": {},
   "source": [
    "Now let loop through albums extracting the audio features.For this we will add a random delay every few albums to avoid sending too many requests at Spotify's API."
   ]
  },
  {
   "cell_type": "markdown",
   "metadata": {},
   "source": [
    "# EDA ora"
   ]
  },
  {
   "cell_type": "code",
   "execution_count": null,
   "metadata": {},
   "outputs": [],
   "source": [
    "!pip install matplotlib\n",
    "!pip install seaborn"
   ]
  },
  {
   "cell_type": "code",
   "execution_count": 7,
   "metadata": {},
   "outputs": [
    {
     "data": {
      "image/png": "[encoded data removed]",
      "text/plain": [
       "<Figure size 1600x1200 with 4 Axes>"
      ]
     },
     "metadata": {},
     "output_type": "display_data"
    }
   ],
   "source": [
    "import matplotlib.pyplot as plt\n",
    "import seaborn as sns\n",
    "\n",
    "# Setting up the visualization\n",
    "sns.set(style=\"whitegrid\")\n",
    "\n",
    "# Plotting distributions of selected audio features\n",
    "fig, axes = plt.subplots(2, 2, figsize=(16, 12))\n",
    "fig.suptitle('Distribution of Audio Features')\n",
    "\n",
    "# Danceability\n",
    "sns.histplot(df['danceability'], ax=axes[0, 0], kde=True, color=\"skyblue\")\n",
    "axes[0, 0].set_title('Danceability')\n",
    "\n",
    "# Energy\n",
    "sns.histplot(df['energy'], ax=axes[0, 1], kde=True, color=\"olive\")\n",
    "axes[0, 1].set_title('Energy')\n",
    "\n",
    "# Tempo\n",
    "sns.histplot(df['tempo'], ax=axes[1, 0], kde=True, color=\"gold\")\n",
    "axes[1, 0].set_title('Tempo')\n",
    "\n",
    "# Duration_ms\n",
    "sns.histplot(df['duration_ms'] / 60000, ax=axes[1, 1], kde=True, color=\"teal\")  # Convert ms to minutes\n",
    "axes[1, 1].set_title('Duration (Minutes)')\n",
    "\n",
    "plt.tight_layout(rect=[0, 0.03, 1, 0.95])\n",
    "plt.show()\n"
   ]
  },
  {
   "cell_type": "code",
   "execution_count": 8,
   "metadata": {},
   "outputs": [
    {
     "data": {
      "image/png": "[encoded data removed]",
      "text/plain": [
       "<Figure size 1000x800 with 2 Axes>"
      ]
     },
     "metadata": {},
     "output_type": "display_data"
    }
   ],
   "source": [
    "# Calculating and plotting the correlation matrix of selected features\n",
    "selected_features = ['danceability', 'energy', 'loudness', 'tempo', 'valence', 'duration_ms']\n",
    "corr_matrix = df[selected_features].corr(method='pearson')\n",
    "\n",
    "plt.figure(figsize=(10, 8))\n",
    "sns.heatmap(corr_matrix, annot=True, cmap=\"coolwarm\")\n",
    "plt.title('Correlation Matrix of Audio Features')\n",
    "plt.show()\n"
   ]
  },
  {
   "cell_type": "code",
   "execution_count": 9,
   "metadata": {},
   "outputs": [
    {
     "data": {
      "text/html": [
       "<div>\n",
       "<style scoped>\n",
       "    .dataframe tbody tr th:only-of-type {\n",
       "        vertical-align: middle;\n",
       "    }\n",
       "\n",
       "    .dataframe tbody tr th {\n",
       "        vertical-align: top;\n",
       "    }\n",
       "\n",
       "    .dataframe thead th {\n",
       "        text-align: right;\n",
       "    }\n",
       "</style>\n",
       "<table border=\"1\" class=\"dataframe\">\n",
       "  <thead>\n",
       "    <tr style=\"text-align: right;\">\n",
       "      <th></th>\n",
       "      <th>artist</th>\n",
       "      <th>danceability</th>\n",
       "      <th>energy</th>\n",
       "      <th>tempo</th>\n",
       "    </tr>\n",
       "  </thead>\n",
       "  <tbody>\n",
       "    <tr>\n",
       "      <th>0</th>\n",
       "      <td>King Gizzard &amp; The Lizard Wizard</td>\n",
       "      <td>0.516216</td>\n",
       "      <td>0.889838</td>\n",
       "      <td>117.630189</td>\n",
       "    </tr>\n",
       "    <tr>\n",
       "      <th>1</th>\n",
       "      <td>The Blaze</td>\n",
       "      <td>0.314555</td>\n",
       "      <td>0.314755</td>\n",
       "      <td>107.429745</td>\n",
       "    </tr>\n",
       "  </tbody>\n",
       "</table>\n",
       "</div>"
      ],
      "text/plain": [
       "                             artist  danceability    energy       tempo\n",
       "0  King Gizzard & The Lizard Wizard      0.516216  0.889838  117.630189\n",
       "1                         The Blaze      0.314555  0.314755  107.429745"
      ]
     },
     "execution_count": 9,
     "metadata": {},
     "output_type": "execute_result"
    }
   ],
   "source": [
    "# Calcolo delle medie delle caratteristiche per ogni artista\n",
    "mean_features_per_artist = df.groupby('artist')[['danceability', 'energy', 'tempo']].mean().reset_index()\n",
    "\n",
    "mean_features_per_artist"
   ]
  },
  {
   "cell_type": "code",
   "execution_count": 10,
   "metadata": {},
   "outputs": [
    {
     "data": {
      "image/png": "[encoded data removed]",
      "text/plain": [
       "<Figure size 600x600 with 1 Axes>"
      ]
     },
     "metadata": {},
     "output_type": "display_data"
    }
   ],
   "source": [
    "from math import pi\n",
    "\n",
    "# Preparazione dei dati per il grafico radar\n",
    "features = ['danceability', 'energy', 'tempo']\n",
    "num_vars = len(features)\n",
    "\n",
    "# Calcoliamo gli angoli per ciascuna sezione del grafico radar\n",
    "angles = [n / float(num_vars) * 2 * pi for n in range(num_vars)]\n",
    "angles += angles[:1]\n",
    "\n",
    "# Otteniamo i valori per ciascun artista e aggiungiamo il primo valore alla fine per chiudere il cerchio nel grafico radar\n",
    "king_gizzard = mean_features_per_artist[mean_features_per_artist['artist'] == \"King Gizzard & The Lizard Wizard\"][features].values.flatten().tolist()\n",
    "king_gizzard += king_gizzard[:1]\n",
    "\n",
    "tame_impala = mean_features_per_artist[mean_features_per_artist['artist'] == \"The Blaze\"][features].values.flatten().tolist()\n",
    "tame_impala += tame_impala[:1]\n",
    "\n",
    "# Inizializzazione del grafico radar\n",
    "fig, ax = plt.subplots(figsize=(6, 6), subplot_kw=dict(polar=True))\n",
    "\n",
    "# Disegno delle linee per King Gizzard & The Lizard Wizard\n",
    "ax.plot(angles, king_gizzard, color='red', linewidth=2, label='King Gizzard & The Lizard Wizard')\n",
    "ax.fill(angles, king_gizzard, color='red', alpha=0.25)\n",
    "\n",
    "# Disegno delle linee per The Blaze\n",
    "ax.plot(angles, tame_impala, color='blue', linewidth=2, label='The Blaze')\n",
    "ax.fill(angles, tame_impala, color='blue', alpha=0.25)\n",
    "\n",
    "# Decorazione del grafico\n",
    "ax.set_theta_offset(pi / 2)  # Inizia i settori dal top\n",
    "ax.set_theta_direction(-1)  # Direzione oraria\n",
    "\n",
    "# Etichette\n",
    "ax.set_xticks(angles[:-1])\n",
    "ax.set_xticklabels(features)\n",
    "\n",
    "# Titolo\n",
    "plt.title('Audio Features Comparison between Artists', size=15, color='black', y=1.1)\n",
    "\n",
    "ax.legend(loc='upper right', bbox_to_anchor=(1.1, 1.1))\n",
    "\n",
    "plt.show()\n"
   ]
  },
  {
   "cell_type": "code",
   "execution_count": 76,
   "metadata": {},
   "outputs": [
    {
     "name": "stdout",
     "output_type": "stream",
     "text": [
      "Requirement already satisfied: plotly in /home/fd/.pyenv/versions/3.11.8/envs/its/lib/python3.11/site-packages (5.20.0)\n",
      "Requirement already satisfied: tenacity>=6.2.0 in /home/fd/.pyenv/versions/3.11.8/envs/its/lib/python3.11/site-packages (from plotly) (8.2.3)\n",
      "Requirement already satisfied: packaging in /home/fd/.pyenv/versions/3.11.8/envs/its/lib/python3.11/site-packages (from plotly) (24.0)\n",
      "Requirement already satisfied: nbformat in /home/fd/.pyenv/versions/3.11.8/envs/its/lib/python3.11/site-packages (5.10.4)\n",
      "Requirement already satisfied: fastjsonschema>=2.15 in /home/fd/.pyenv/versions/3.11.8/envs/its/lib/python3.11/site-packages (from nbformat) (2.19.1)\n",
      "Requirement already satisfied: jsonschema>=2.6 in /home/fd/.pyenv/versions/3.11.8/envs/its/lib/python3.11/site-packages (from nbformat) (4.21.1)\n",
      "Requirement already satisfied: jupyter-core!=5.0.*,>=4.12 in /home/fd/.pyenv/versions/3.11.8/envs/its/lib/python3.11/site-packages (from nbformat) (5.7.2)\n",
      "Requirement already satisfied: traitlets>=5.1 in /home/fd/.pyenv/versions/3.11.8/envs/its/lib/python3.11/site-packages (from nbformat) (5.14.2)\n",
      "Requirement already satisfied: attrs>=22.2.0 in /home/fd/.pyenv/versions/3.11.8/envs/its/lib/python3.11/site-packages (from jsonschema>=2.6->nbformat) (23.2.0)\n",
      "Requirement already satisfied: jsonschema-specifications>=2023.03.6 in /home/fd/.pyenv/versions/3.11.8/envs/its/lib/python3.11/site-packages (from jsonschema>=2.6->nbformat) (2023.12.1)\n",
      "Requirement already satisfied: referencing>=0.28.4 in /home/fd/.pyenv/versions/3.11.8/envs/its/lib/python3.11/site-packages (from jsonschema>=2.6->nbformat) (0.34.0)\n",
      "Requirement already satisfied: rpds-py>=0.7.1 in /home/fd/.pyenv/versions/3.11.8/envs/its/lib/python3.11/site-packages (from jsonschema>=2.6->nbformat) (0.18.0)\n",
      "Requirement already satisfied: platformdirs>=2.5 in /home/fd/.pyenv/versions/3.11.8/envs/its/lib/python3.11/site-packages (from jupyter-core!=5.0.*,>=4.12->nbformat) (4.2.0)\n"
     ]
    }
   ],
   "source": [
    "!pip install plotly\n",
    "!pip install nbformat"
   ]
  },
  {
   "cell_type": "code",
   "execution_count": 11,
   "metadata": {},
   "outputs": [
    {
     "data": {
      "application/vnd.plotly.v1+json": {
       "config": {
        "plotlyServerURL": "https://plot.ly"
       },
       "data": [
        {
         "fill": "toself",
         "name": "King Gizzard & The Lizard Wizard",
         "r": [
          0.5162162162162163,
          0.8898378378378379,
          117.6301891891892
         ],
         "theta": [
          "danceability",
          "energy",
          "tempo"
         ],
         "type": "scatterpolar"
        },
        {
         "fill": "toself",
         "name": "The Blaze",
         "r": [
          0.3145545454545454,
          0.31475454545454545,
          107.42974545454547
         ],
         "theta": [
          "danceability",
          "energy",
          "tempo"
         ],
         "type": "scatterpolar"
        }
       ],
       "layout": {
        "polar": {
         "radialaxis": {
          "range": [
           0,
           1
          ],
          "visible": true
         }
        },
        "showlegend": true,
        "template": {
         "data": {
          "bar": [
           {
            "error_x": {
             "color": "#2a3f5f"
            },
            "error_y": {
             "color": "#2a3f5f"
            },
            "marker": {
             "line": {
              "color": "#E5ECF6",
              "width": 0.5
             },
             "pattern": {
              "fillmode": "overlay",
              "size": 10,
              "solidity": 0.2
             }
            },
            "type": "bar"
           }
          ],
          "barpolar": [
           {
            "marker": {
             "line": {
              "color": "#E5ECF6",
              "width": 0.5
             },
             "pattern": {
              "fillmode": "overlay",
              "size": 10,
              "solidity": 0.2
             }
            },
            "type": "barpolar"
           }
          ],
          "carpet": [
           {
            "aaxis": {
             "endlinecolor": "#2a3f5f",
             "gridcolor": "white",
             "linecolor": "white",
             "minorgridcolor": "white",
             "startlinecolor": "#2a3f5f"
            },
            "baxis": {
             "endlinecolor": "#2a3f5f",
             "gridcolor": "white",
             "linecolor": "white",
             "minorgridcolor": "white",
             "startlinecolor": "#2a3f5f"
            },
            "type": "carpet"
           }
          ],
          "choropleth": [
           {
            "colorbar": {
             "outlinewidth": 0,
             "ticks": ""
            },
            "type": "choropleth"
           }
          ],
          "contour": [
           {
            "colorbar": {
             "outlinewidth": 0,
             "ticks": ""
            },
            "colorscale": [
             [
              0,
              "#0d0887"
             ],
             [
              0.1111111111111111,
              "#46039f"
             ],
             [
              0.2222222222222222,
              "#7201a8"
             ],
             [
              0.3333333333333333,
              "#9c179e"
             ],
             [
              0.4444444444444444,
              "#bd3786"
             ],
             [
              0.5555555555555556,
              "#d8576b"
             ],
             [
              0.6666666666666666,
              "#ed7953"
             ],
             [
              0.7777777777777778,
              "#fb9f3a"
             ],
             [
              0.8888888888888888,
              "#fdca26"
             ],
             [
              1,
              "#f0f921"
             ]
            ],
            "type": "contour"
           }
          ],
          "contourcarpet": [
           {
            "colorbar": {
             "outlinewidth": 0,
             "ticks": ""
            },
            "type": "contourcarpet"
           }
          ],
          "heatmap": [
           {
            "colorbar": {
             "outlinewidth": 0,
             "ticks": ""
            },
            "colorscale": [
             [
              0,
              "#0d0887"
             ],
             [
              0.1111111111111111,
              "#46039f"
             ],
             [
              0.2222222222222222,
              "#7201a8"
             ],
             [
              0.3333333333333333,
              "#9c179e"
             ],
             [
              0.4444444444444444,
              "#bd3786"
             ],
             [
              0.5555555555555556,
              "#d8576b"
             ],
             [
              0.6666666666666666,
              "#ed7953"
             ],
             [
              0.7777777777777778,
              "#fb9f3a"
             ],
             [
              0.8888888888888888,
              "#fdca26"
             ],
             [
              1,
              "#f0f921"
             ]
            ],
            "type": "heatmap"
           }
          ],
          "heatmapgl": [
           {
            "colorbar": {
             "outlinewidth": 0,
             "ticks": ""
            },
            "colorscale": [
             [
              0,
              "#0d0887"
             ],
             [
              0.1111111111111111,
              "#46039f"
             ],
             [
              0.2222222222222222,
              "#7201a8"
             ],
             [
              0.3333333333333333,
              "#9c179e"
             ],
             [
              0.4444444444444444,
              "#bd3786"
             ],
             [
              0.5555555555555556,
              "#d8576b"
             ],
             [
              0.6666666666666666,
              "#ed7953"
             ],
             [
              0.7777777777777778,
              "#fb9f3a"
             ],
             [
              0.8888888888888888,
              "#fdca26"
             ],
             [
              1,
              "#f0f921"
             ]
            ],
            "type": "heatmapgl"
           }
          ],
          "histogram": [
           {
            "marker": {
             "pattern": {
              "fillmode": "overlay",
              "size": 10,
              "solidity": 0.2
             }
            },
            "type": "histogram"
           }
          ],
          "histogram2d": [
           {
            "colorbar": {
             "outlinewidth": 0,
             "ticks": ""
            },
            "colorscale": [
             [
              0,
              "#0d0887"
             ],
             [
              0.1111111111111111,
              "#46039f"
             ],
             [
              0.2222222222222222,
              "#7201a8"
             ],
             [
              0.3333333333333333,
              "#9c179e"
             ],
             [
              0.4444444444444444,
              "#bd3786"
             ],
             [
              0.5555555555555556,
              "#d8576b"
             ],
             [
              0.6666666666666666,
              "#ed7953"
             ],
             [
              0.7777777777777778,
              "#fb9f3a"
             ],
             [
              0.8888888888888888,
              "#fdca26"
             ],
             [
              1,
              "#f0f921"
             ]
            ],
            "type": "histogram2d"
           }
          ],
          "histogram2dcontour": [
           {
            "colorbar": {
             "outlinewidth": 0,
             "ticks": ""
            },
            "colorscale": [
             [
              0,
              "#0d0887"
             ],
             [
              0.1111111111111111,
              "#46039f"
             ],
             [
              0.2222222222222222,
              "#7201a8"
             ],
             [
              0.3333333333333333,
              "#9c179e"
             ],
             [
              0.4444444444444444,
              "#bd3786"
             ],
             [
              0.5555555555555556,
              "#d8576b"
             ],
             [
              0.6666666666666666,
              "#ed7953"
             ],
             [
              0.7777777777777778,
              "#fb9f3a"
             ],
             [
              0.8888888888888888,
              "#fdca26"
             ],
             [
              1,
              "#f0f921"
             ]
            ],
            "type": "histogram2dcontour"
           }
          ],
          "mesh3d": [
           {
            "colorbar": {
             "outlinewidth": 0,
             "ticks": ""
            },
            "type": "mesh3d"
           }
          ],
          "parcoords": [
           {
            "line": {
             "colorbar": {
              "outlinewidth": 0,
              "ticks": ""
             }
            },
            "type": "parcoords"
           }
          ],
          "pie": [
           {
            "automargin": true,
            "type": "pie"
           }
          ],
          "scatter": [
           {
            "fillpattern": {
             "fillmode": "overlay",
             "size": 10,
             "solidity": 0.2
            },
            "type": "scatter"
           }
          ],
          "scatter3d": [
           {
            "line": {
             "colorbar": {
              "outlinewidth": 0,
              "ticks": ""
             }
            },
            "marker": {
             "colorbar": {
              "outlinewidth": 0,
              "ticks": ""
             }
            },
            "type": "scatter3d"
           }
          ],
          "scattercarpet": [
           {
            "marker": {
             "colorbar": {
              "outlinewidth": 0,
              "ticks": ""
             }
            },
            "type": "scattercarpet"
           }
          ],
          "scattergeo": [
           {
            "marker": {
             "colorbar": {
              "outlinewidth": 0,
              "ticks": ""
             }
            },
            "type": "scattergeo"
           }
          ],
          "scattergl": [
           {
            "marker": {
             "colorbar": {
              "outlinewidth": 0,
              "ticks": ""
             }
            },
            "type": "scattergl"
           }
          ],
          "scattermapbox": [
           {
            "marker": {
             "colorbar": {
              "outlinewidth": 0,
              "ticks": ""
             }
            },
            "type": "scattermapbox"
           }
          ],
          "scatterpolar": [
           {
            "marker": {
             "colorbar": {
              "outlinewidth": 0,
              "ticks": ""
             }
            },
            "type": "scatterpolar"
           }
          ],
          "scatterpolargl": [
           {
            "marker": {
             "colorbar": {
              "outlinewidth": 0,
              "ticks": ""
             }
            },
            "type": "scatterpolargl"
           }
          ],
          "scatterternary": [
           {
            "marker": {
             "colorbar": {
              "outlinewidth": 0,
              "ticks": ""
             }
            },
            "type": "scatterternary"
           }
          ],
          "surface": [
           {
            "colorbar": {
             "outlinewidth": 0,
             "ticks": ""
            },
            "colorscale": [
             [
              0,
              "#0d0887"
             ],
             [
              0.1111111111111111,
              "#46039f"
             ],
             [
              0.2222222222222222,
              "#7201a8"
             ],
             [
              0.3333333333333333,
              "#9c179e"
             ],
             [
              0.4444444444444444,
              "#bd3786"
             ],
             [
              0.5555555555555556,
              "#d8576b"
             ],
             [
              0.6666666666666666,
              "#ed7953"
             ],
             [
              0.7777777777777778,
              "#fb9f3a"
             ],
             [
              0.8888888888888888,
              "#fdca26"
             ],
             [
              1,
              "#f0f921"
             ]
            ],
            "type": "surface"
           }
          ],
          "table": [
           {
            "cells": {
             "fill": {
              "color": "#EBF0F8"
             },
             "line": {
              "color": "white"
             }
            },
            "header": {
             "fill": {
              "color": "#C8D4E3"
             },
             "line": {
              "color": "white"
             }
            },
            "type": "table"
           }
          ]
         },
         "layout": {
          "annotationdefaults": {
           "arrowcolor": "#2a3f5f",
           "arrowhead": 0,
           "arrowwidth": 1
          },
          "autotypenumbers": "strict",
          "coloraxis": {
           "colorbar": {
            "outlinewidth": 0,
            "ticks": ""
           }
          },
          "colorscale": {
           "diverging": [
            [
             0,
             "#8e0152"
            ],
            [
             0.1,
             "#c51b7d"
            ],
            [
             0.2,
             "#de77ae"
            ],
            [
             0.3,
             "#f1b6da"
            ],
            [
             0.4,
             "#fde0ef"
            ],
            [
             0.5,
             "#f7f7f7"
            ],
            [
             0.6,
             "#e6f5d0"
            ],
            [
             0.7,
             "#b8e186"
            ],
            [
             0.8,
             "#7fbc41"
            ],
            [
             0.9,
             "#4d9221"
            ],
            [
             1,
             "#276419"
            ]
           ],
           "sequential": [
            [
             0,
             "#0d0887"
            ],
            [
             0.1111111111111111,
             "#46039f"
            ],
            [
             0.2222222222222222,
             "#7201a8"
            ],
            [
             0.3333333333333333,
             "#9c179e"
            ],
            [
             0.4444444444444444,
             "#bd3786"
            ],
            [
             0.5555555555555556,
             "#d8576b"
            ],
            [
             0.6666666666666666,
             "#ed7953"
            ],
            [
             0.7777777777777778,
             "#fb9f3a"
            ],
            [
             0.8888888888888888,
             "#fdca26"
            ],
            [
             1,
             "#f0f921"
            ]
           ],
           "sequentialminus": [
            [
             0,
             "#0d0887"
            ],
            [
             0.1111111111111111,
             "#46039f"
            ],
            [
             0.2222222222222222,
             "#7201a8"
            ],
            [
             0.3333333333333333,
             "#9c179e"
            ],
            [
             0.4444444444444444,
             "#bd3786"
            ],
            [
             0.5555555555555556,
             "#d8576b"
            ],
            [
             0.6666666666666666,
             "#ed7953"
            ],
            [
             0.7777777777777778,
             "#fb9f3a"
            ],
            [
             0.8888888888888888,
             "#fdca26"
            ],
            [
             1,
             "#f0f921"
            ]
           ]
          },
          "colorway": [
           "#636efa",
           "#EF553B",
           "#00cc96",
           "#ab63fa",
           "#FFA15A",
           "#19d3f3",
           "#FF6692",
           "#B6E880",
           "#FF97FF",
           "#FECB52"
          ],
          "font": {
           "color": "#2a3f5f"
          },
          "geo": {
           "bgcolor": "white",
           "lakecolor": "white",
           "landcolor": "#E5ECF6",
           "showlakes": true,
           "showland": true,
           "subunitcolor": "white"
          },
          "hoverlabel": {
           "align": "left"
          },
          "hovermode": "closest",
          "mapbox": {
           "style": "light"
          },
          "paper_bgcolor": "white",
          "plot_bgcolor": "#E5ECF6",
          "polar": {
           "angularaxis": {
            "gridcolor": "white",
            "linecolor": "white",
            "ticks": ""
           },
           "bgcolor": "#E5ECF6",
           "radialaxis": {
            "gridcolor": "white",
            "linecolor": "white",
            "ticks": ""
           }
          },
          "scene": {
           "xaxis": {
            "backgroundcolor": "#E5ECF6",
            "gridcolor": "white",
            "gridwidth": 2,
            "linecolor": "white",
            "showbackground": true,
            "ticks": "",
            "zerolinecolor": "white"
           },
           "yaxis": {
            "backgroundcolor": "#E5ECF6",
            "gridcolor": "white",
            "gridwidth": 2,
            "linecolor": "white",
            "showbackground": true,
            "ticks": "",
            "zerolinecolor": "white"
           },
           "zaxis": {
            "backgroundcolor": "#E5ECF6",
            "gridcolor": "white",
            "gridwidth": 2,
            "linecolor": "white",
            "showbackground": true,
            "ticks": "",
            "zerolinecolor": "white"
           }
          },
          "shapedefaults": {
           "line": {
            "color": "#2a3f5f"
           }
          },
          "ternary": {
           "aaxis": {
            "gridcolor": "white",
            "linecolor": "white",
            "ticks": ""
           },
           "baxis": {
            "gridcolor": "white",
            "linecolor": "white",
            "ticks": ""
           },
           "bgcolor": "#E5ECF6",
           "caxis": {
            "gridcolor": "white",
            "linecolor": "white",
            "ticks": ""
           }
          },
          "title": {
           "x": 0.05
          },
          "xaxis": {
           "automargin": true,
           "gridcolor": "white",
           "linecolor": "white",
           "ticks": "",
           "title": {
            "standoff": 15
           },
           "zerolinecolor": "white",
           "zerolinewidth": 2
          },
          "yaxis": {
           "automargin": true,
           "gridcolor": "white",
           "linecolor": "white",
           "ticks": "",
           "title": {
            "standoff": 15
           },
           "zerolinecolor": "white",
           "zerolinewidth": 2
          }
         }
        },
        "title": {
         "text": "Audio Features Comparison between Artists",
         "x": 0.5,
         "xanchor": "center",
         "y": 0.9,
         "yanchor": "top"
        }
       }
      }
     },
     "metadata": {},
     "output_type": "display_data"
    }
   ],
   "source": [
    "import plotly.graph_objs as go\n",
    "import nbformat\n",
    "\n",
    "# Dati per il grafico radar di Plotly\n",
    "categories = ['danceability', 'energy', 'tempo']\n",
    "\n",
    "# Normalizzazione del 'tempo' per compararlo con le altre metriche su una scala simile\n",
    "df['tempo_normalized'] = df['tempo'] / df['tempo'].max()\n",
    "\n",
    "# Calcolo delle medie normalizzate delle caratteristiche per ogni artista\n",
    "mean_features_normalized = df.groupby('artist')[categories].mean().reset_index()\n",
    "\n",
    "# Creazione di un grafico radar per ciascun artista\n",
    "fig = go.Figure()\n",
    "\n",
    "# Aggiunta dei dati al grafico\n",
    "for index, row in mean_features_normalized.iterrows():\n",
    "    fig.add_trace(go.Scatterpolar(\n",
    "        r=row[categories].values.tolist(),\n",
    "        theta=categories,\n",
    "        fill='toself',\n",
    "        name=row['artist']\n",
    "    ))\n",
    "\n",
    "# Aggiunta del layout\n",
    "fig.update_layout(\n",
    "    polar=dict(\n",
    "        radialaxis=dict(\n",
    "            visible=True,\n",
    "            range=[0, 1]\n",
    "        )),\n",
    "    showlegend=True,\n",
    "    title={\n",
    "        'text': \"Audio Features Comparison between Artists\",\n",
    "        'y':0.9,\n",
    "        'x':0.5,\n",
    "        'xanchor': 'center',\n",
    "        'yanchor': 'top'\n",
    "    }\n",
    ")\n",
    "\n",
    "fig.show()\n"
   ]
  }
 ],
 "metadata": {
  "kernelspec": {
   "display_name": "its",
   "language": "python",
   "name": "python3"
  },
  "language_info": {
   "codemirror_mode": {
    "name": "ipython",
    "version": 3
   },
   "file_extension": ".py",
   "mimetype": "text/x-python",
   "name": "python",
   "nbconvert_exporter": "python",
   "pygments_lexer": "ipython3",
   "version": "3.11.8"
  }
 },
 "nbformat": 4,
 "nbformat_minor": 2
}
