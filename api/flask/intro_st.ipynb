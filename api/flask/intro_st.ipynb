{
 "cells": [
  {
   "cell_type": "markdown",
   "metadata": {},
   "source": [
    "Perché Streamlit?\n",
    "\n",
    "Semplicità: Streamlit permette di creare una web app con poche righe di codice, rendendo facile anche per i non esperti di sviluppo web pubblicare analisi e modelli.\n",
    "\n",
    "Interattività: Supporta widget interattivi come slider, checkbox e bottoni senza richiedere interazioni con JavaScript.\n",
    "\n",
    "Velocità: Streamlit è veloce nel rendering e nell'aggiornamento dei componenti dell'applicazione, ottimo per lavorare con dati in tempo reale.\n",
    "\n",
    "Facilità di condivisione: Le app possono essere facilmente condivise tramite la condivisione del codice o ospitate su piattaforme come Streamlit sharing o Heroku."
   ]
  },
  {
   "cell_type": "code",
   "execution_count": null,
   "metadata": {},
   "outputs": [],
   "source": [
    "pip install streamlit"
   ]
  },
  {
   "cell_type": "code",
   "execution_count": null,
   "metadata": {},
   "outputs": [],
   "source": [
    "import streamlit as st\n",
    "\n",
    "st.title('Benvenuto su Streamlit!')\n",
    "st.write('Questa è una semplice web app per dimostrare quanto sia facile usare Streamlit.')"
   ]
  }
 ],
 "metadata": {
  "language_info": {
   "name": "python"
  }
 },
 "nbformat": 4,
 "nbformat_minor": 2
}
