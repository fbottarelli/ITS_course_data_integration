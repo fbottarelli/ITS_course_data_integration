{
 "cells": [
  {
   "cell_type": "markdown",
   "metadata": {},
   "source": [
    "Flask è un micro-framework per lo sviluppo di applicazioni web in Python, particolarmente apprezzato per la sua semplicità e flessibilità."
   ]
  },
  {
   "cell_type": "code",
   "execution_count": null,
   "metadata": {
    "vscode": {
     "languageId": "plaintext"
    }
   },
   "outputs": [],
   "source": [
    "!pip install flask"
   ]
  },
  {
   "cell_type": "markdown",
   "metadata": {},
   "source": [
    "Ora che hai Flask installato, creiamo un'applicazione molto semplice. Salva il seguente codice in un file chiamato app.py:"
   ]
  },
  {
   "cell_type": "code",
   "execution_count": null,
   "metadata": {},
   "outputs": [],
   "source": [
    "from flask import Flask\n",
    "\n",
    "app = Flask(__name__)\n",
    "\n",
    "@app.route('/')\n",
    "def home():\n",
    "    return 'Ciao Mondo!'\n",
    "\n",
    "if __name__ == \"__main__\":\n",
    "    app.run(debug=True)\n"
   ]
  },
  {
   "cell_type": "code",
   "execution_count": null,
   "metadata": {},
   "outputs": [],
   "source": [
    "from flask import Flask, request, jsonify\n",
    "\n",
    "app = Flask(__name__)\n",
    "\n",
    "@app.route('/')\n",
    "def home():\n",
    "    return \"Benvenuto nell'applicazione di preprocessing del testo!\"\n",
    "\n",
    "# Rimozione degli spazi\n",
    "@app.route('/remove_spaces')\n",
    "def remove_spaces():\n",
    "    text = request.args.get('text', '')\n",
    "    processed_text = text.replace(\" \", \"\")\n",
    "    return jsonify({\"original\": text, \"processed\": processed_text})\n",
    "\n",
    "# Conversione in minuscolo\n",
    "@app.route('/to_lower')\n",
    "def to_lower():\n",
    "    text = request.args.get('text', '')\n",
    "    processed_text = text.lower()\n",
    "    return jsonify({\"original\": text, \"processed\": processed_text})\n",
    "\n",
    "# Rimozione della punteggiatura\n",
    "@app.route('/remove_punctuation')\n",
    "def remove_punctuation():\n",
    "    import string\n",
    "    text = request.args.get('text', '')\n",
    "    processed_text = text.translate(str.maketrans('', '', string.punctuation))\n",
    "    return jsonify({\"original\": text, \"processed\": processed_text})\n",
    "\n",
    "if __name__ == \"__main__\":\n",
    "    app.run(debug=True)\n",
    "\n"
   ]
  },
  {
   "cell_type": "markdown",
   "metadata": {},
   "source": [
    "Dopo aver avviato il server, puoi testare le varie funzionalità di preprocessing attraverso il browser o un client HTTP come Postman. Ecco alcuni esempi di come puoi testare:\n",
    "\n",
    "- Rimozione degli spazi: visita http://127.0.0.1:5000/remove_spaces?text=ciao mondo per vedere il testo senza spazi.\n",
    "- Conversione in minuscolo: visita http://127.0.0.1:5000/to_lower?text=CIAO MONDO per convertire il testo in minuscolo.\n",
    "- Rimozione della punteggiatura: visita http://127.0.0.1:5000/remove_punctuation?text=ciao, mondo! per vedere il testo senza punteggiatura."
   ]
  },
  {
   "cell_type": "code",
   "execution_count": null,
   "metadata": {},
   "outputs": [],
   "source": [
    "from flask import Flask, request, jsonify\n",
    "import string\n",
    "from nltk.stem import SnowballStemmer\n",
    "from nltk.tokenize import word_tokenize\n",
    "import nltk\n",
    "\n",
    "# Scarica componenti NLTK necessari\n",
    "nltk.download('punkt')\n",
    "\n",
    "app = Flask(__name__)\n",
    "\n",
    "@app.route('/')\n",
    "def home():\n",
    "    return \"Benvenuto nell'applicazione di preprocessing del testo!\"\n",
    "\n",
    "@app.route('/remove_spaces')\n",
    "def remove_spaces():\n",
    "    text = request.args.get('text', '')\n",
    "    processed_text = text.replace(\" \", \"\")\n",
    "    return jsonify({\"original\": text, \"processed\": processed_text})\n",
    "\n",
    "@app.route('/to_lower')\n",
    "def to_lower():\n",
    "    text = request.args.get('text', '')\n",
    "    processed_text = text.lower()\n",
    "    return jsonify({\"original\": text, \"processed\": processed_text})\n",
    "\n",
    "@app.route('/remove_punctuation')\n",
    "def remove_punctuation():\n",
    "    text = request.args.get('text', '')\n",
    "    processed_text = text.translate(str.maketrans('', '', string.punctuation))\n",
    "    return jsonify({\"original\": text, \"processed\": processed_text})\n",
    "\n",
    "@app.route('/clean_and_stem')\n",
    "def clean_and_stem():\n",
    "    text = request.args.get('text', '')\n",
    "    # Pulizia: rimuovi spazi extra, converti in minuscolo e rimuovi punteggiatura\n",
    "    cleaned_text = text.strip().lower().translate(str.maketrans('', '', string.punctuation))\n",
    "    # Tokenizzazione del testo\n",
    "    tokens = word_tokenize(cleaned_text)\n",
    "    # Stemming\n",
    "    stemmer = SnowballStemmer(\"italian\")\n",
    "    stemmed_tokens = [stemmer.stem(token) for token in tokens]\n",
    "    stemmed_text = ' '.join(stemmed_tokens)\n",
    "    return jsonify({\"original\": text, \"cleaned\": cleaned_text, \"stemmed\": stemmed_text})\n",
    "\n",
    "if __name__ == \"__main__\":\n",
    "    app.run(debug=True)\n"
   ]
  },
  {
   "cell_type": "markdown",
   "metadata": {},
   "source": [
    "Post al posto di get\n",
    "\n",
    "Modificare le rotte in app.py\n",
    "Per convertire le rotte esistenti da GET a POST e aggiungere il supporto per l'input tramite JSON, apporteremo le seguenti modifiche:\n"
   ]
  },
  {
   "cell_type": "code",
   "execution_count": null,
   "metadata": {},
   "outputs": [],
   "source": [
    "\n",
    "from flask import Flask, request, jsonify\n",
    "import string\n",
    "\n",
    "app = Flask(__name__)\n",
    "\n",
    "@app.route('/')\n",
    "def home():\n",
    "    return \"Benvenuto nell'applicazione di preprocessing del testo!\"\n",
    "\n",
    "# Cambiato da GET a POST, ora accetta dati JSON\n",
    "@app.route('/remove_spaces', methods=['POST'])\n",
    "def remove_spaces():\n",
    "    data = request.get_json()\n",
    "    text = data.get('text', '')\n",
    "    processed_text = text.replace(\" \", \"\")\n",
    "    return jsonify({\"original\": text, \"processed\": processed_text})\n",
    "\n",
    "@app.route('/to_lower', methods=['POST'])\n",
    "def to_lower():\n",
    "    data = request.get_json()\n",
    "    text = data.get('text', '')\n",
    "    processed_text = text.lower()\n",
    "    return jsonify({\"original\": text, \"processed\": processed_text})\n",
    "\n",
    "@app.route('/remove_punctuation', methods=['POST'])\n",
    "def remove_punctuation():\n",
    "    data = request.get_json()\n",
    "    text = data.get('text', '')\n",
    "    processed_text = text.translate(str.maketrans('', '', string.punctuation))\n",
    "    return jsonify({\"original\": text, \"processed\": processed_text})\n",
    "\n",
    "\n",
    "if __name__ == \"__main__\":\n",
    "    app.run(debug=True)\n"
   ]
  },
  {
   "cell_type": "markdown",
   "metadata": {},
   "source": [
    "Testare l'applicazione con POST\n",
    "Dopo aver modificato le rotte per usare il metodo POST, non è più possibile testare direttamente dal browser. Invece, puoi usare strumenti come Postman o curl per inviare richieste POST con un payload JSON. Ecco un esempio di come potresti fare una richiesta POST con curl:\n",
    "\n",
    "bash\n",
    "Copy code\n",
    "curl -X POST -H \"Content-Type: application/json\" -d '{\"text\":\"Ciao, mondo! Questo è un test.\"}' http://127.0.0.1:5000/remove_spaces\n",
    "Questo comando invia una richiesta POST all'endpoint /remove_spaces con un JSON che contiene il testo da elaborare."
   ]
  },
  {
   "cell_type": "markdown",
   "metadata": {},
   "source": [
    "### Esempio Libri"
   ]
  },
  {
   "cell_type": "code",
   "execution_count": null,
   "metadata": {},
   "outputs": [],
   "source": [
    "from flask import Flask, jsonify, request\n",
    "\n",
    "app = Flask(__name__)\n",
    "\n",
    "# Dummy database of books as a list of dictionaries\n",
    "books = [\n",
    "    {'id': 1, 'title': '1984', 'author': 'George Orwell', 'year': 1949},\n",
    "    {'id': 2, 'title': 'To Kill a Mockingbird', 'author': 'Harper Lee', 'year': 1960},\n",
    "    {'id': 3, 'title': 'The Great Gatsby', 'author': 'F. Scott Fitzgerald', 'year': 1925},\n",
    "    {'id': 4, 'title': 'Dune', 'author': 'Frank Herbert', 'year': 1965},\n",
    "]\n",
    "\n",
    "# Route to get all books\n",
    "@app.route('/books', methods=['GET'])\n",
    "def get_books():\n",
    "    return jsonify({'books': books})\n",
    "\n",
    "# Route to get a specific book by ID\n",
    "@app.route('/books/<int:book_id>', methods=['GET'])\n",
    "def get_book(book_id):\n",
    "    book = next((book for book in books if book['id'] == book_id), None)\n",
    "    if book is None:\n",
    "        return jsonify({'message': 'Book not found'}), 404\n",
    "    return jsonify(book)\n",
    "\n",
    "# Route to add a new book\n",
    "@app.route('/books', methods=['POST'])\n",
    "def add_book():\n",
    "    if not request.json or not 'title' in request.json:\n",
    "        return jsonify({'message': 'Invalid request'}), 400\n",
    "    book = {\n",
    "        'id': books[-1]['id'] + 1 if books else 1,\n",
    "        'title': request.json['title'],\n",
    "        'author': request.json.get('author', \"\"),\n",
    "        'year': request.json.get('year', None)\n",
    "    }\n",
    "    books.append(book)\n",
    "    return jsonify(book), 201\n",
    "\n",
    "if __name__ == '__main__':\n",
    "    app.run(debug=True)\n"
   ]
  },
  {
   "cell_type": "markdown",
   "metadata": {},
   "source": [
    "Ottenere tutti i libri:\n",
    "Questo comando curl richiama la rotta GET che restituisce tutti i libri.\n",
    "\n",
    "\n",
    "curl http://127.0.0.1:5000/books\n",
    "Ottenere un libro specifico per ID:\n",
    "Sostituisci 1 con l'ID del libro che vuoi recuperare. Questo esempio utilizza l'ID 1.\n",
    "\n",
    "\n",
    "curl http://127.0.0.1:5000/books/1\n",
    "Se il libro con l'ID specificato non esiste, riceverai un messaggio di errore.\n",
    "\n",
    "Aggiungere un nuovo libro:\n",
    "Questo comando invia una richiesta POST con un JSON che contiene i dettagli del nuovo libro. Qui stiamo aggiungendo un libro con titolo, autore e anno.\n",
    "\n",
    "\n",
    "curl -X POST -H \"Content-Type: application/json\" -d '{\"title\":\"Moby Dick\", \"author\":\"Herman Melville\", \"year\":1851}' http://127.0.0.1:5000/books"
   ]
  },
  {
   "cell_type": "code",
   "execution_count": null,
   "metadata": {},
   "outputs": [],
   "source": [
    "# json dumbs al posto di jsonify\n",
    "from flask import Response\n",
    "import json\n",
    "\n",
    "@app.route('/')\n",
    "def home():\n",
    "    data = {'message': 'Hello, world!'}\n",
    "    response = Response(json.dumps(data), content_type='application/json', status=200)\n",
    "    return response\n"
   ]
  },
  {
   "cell_type": "markdown",
   "metadata": {},
   "source": [
    "## Deploy\n",
    "\n",
    ". Scegliere un Hosting Provider\n",
    "Prima di tutto, devi scegliere dove ospitare la tua applicazione. Esistono vari servizi di hosting come Heroku, AWS (Amazon Web Services), Google Cloud Platform, o DigitalOcean, ognuno con i propri vantaggi e piani di prezzo. Heroku, ad esempio, è noto per la sua facilità di uso per le applicazioni Flask e offre un piano gratuito che può essere adatto per piccoli progetti o per la fase di sviluppo.\n",
    "\n",
    "2. Preparare l'ambiente di hosting\n",
    "Una volta scelto il provider, dovrai configurare un ambiente di server adatto. Questo può includere la configurazione di una macchina virtuale (VM), l'installazione di un sistema operativo (come Linux), e l'installazione dei software necessari (come Python, Flask, e qualsiasi libreria di terze parti che la tua app necessita).\n",
    "\n",
    "3. Utilizzare un Web Server Gateway Interface (WSGI)\n",
    "Flask, di default, utilizza un server di sviluppo che non è adatto per ambienti di produzione a causa di problemi di sicurezza e performance. Per il deploy in produzione, è consigliabile utilizzare un WSGI come Gunicorn o uWSGI che agisce come intermediario tra il server web e l'applicazione Flask.\n",
    "\n",
    "4. Configurazione del server web\n",
    "Un server web come Nginx o Apache può essere utilizzato come reverse proxy per gestire le richieste HTTP e indirizzarle a Gunicorn. Questo non solo migliora la sicurezza, ma anche la gestione del carico e la scalabilità dell'applicazione.\n",
    "\n",
    "5. Configurare SSL/TLS\n",
    "Per garantire che le comunicazioni tra il client e il server siano sicure, è essenziale configurare un certificato SSL/TLS. Let's Encrypt offre certificati gratuiti che possono essere rinnovati automaticamente.\n",
    "\n",
    "6. Deploy dell'applicazione\n",
    "Il codice dell'applicazione deve essere trasferito al server. Questo può essere fatto tramite git, FTP, o altri metodi di deployment automatico. Successivamente, dovrai configurare le variabili d'ambiente, i database e avviare il processo WSGI.\n",
    "\n",
    "7. Verifica e manutenzione\n",
    "Dopo il deploy, è importante verificare che tutto funzioni come previsto. Controlla i log di sistema e di applicazione per eventuali errori o problemi di performance. La manutenzione continua è essenziale per assicurarsi che l'applicazione rimanga sicura e efficiente.\n",
    "\n",
    "8. DNS e accessibilità pubblica\n",
    "Infine, per rendere la tua applicazione accessibile pubblicamente, dovrai configurare un record DNS che punti al tuo server. Questo assicura che quando gli utenti digitano il tuo dominio nel loro browser, vengano indirizzati alla tua applicazione Flask.\n",
    "\n",
    "Questi passaggi forniscono una visione di alto livello del processo di deployment di una applicazione Flask. Ogni ambiente e applicazione possono avere esigenze specifiche, quindi potrebbe essere necessario adattare questi passaggi in base alle particolarità del tuo progetto."
   ]
  }
 ],
 "metadata": {
  "language_info": {
   "name": "python"
  }
 },
 "nbformat": 4,
 "nbformat_minor": 2
}
