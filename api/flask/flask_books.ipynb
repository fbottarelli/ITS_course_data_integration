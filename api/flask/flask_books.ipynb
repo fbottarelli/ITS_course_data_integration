{
 "cells": [
  {
   "cell_type": "code",
   "execution_count": 3,
   "metadata": {},
   "outputs": [],
   "source": [
    "import requests"
   ]
  },
  {
   "cell_type": "code",
   "execution_count": 4,
   "metadata": {},
   "outputs": [
    {
     "name": "stdout",
     "output_type": "stream",
     "text": [
      "Libri ottenuti con successo: {'books': [{'author': 'George Orwell', 'id': 1, 'title': '1984', 'year': 1949}, {'author': 'Harper Lee', 'id': 2, 'title': 'To Kill a Mockingbird', 'year': 1960}, {'author': 'F. Scott Fitzgerald', 'id': 3, 'title': 'The Great Gatsby', 'year': 1925}, {'author': 'Frank Herbert', 'id': 4, 'title': 'Dune', 'year': 1965}]}\n"
     ]
    }
   ],
   "source": [
    "# Richiesta GET per ottenere tutti i libri\n",
    "response = requests.get('http://127.0.0.1:5000/books')\n",
    "if response.status_code == 200:\n",
    "    books = response.json()  # Salva i libri restituiti dall'API\n",
    "    print(\"Libri ottenuti con successo:\", books)\n",
    "else:\n",
    "    print(\"Errore nel recupero dei libri\")\n"
   ]
  },
  {
   "cell_type": "code",
   "execution_count": 5,
   "metadata": {},
   "outputs": [
    {
     "name": "stdout",
     "output_type": "stream",
     "text": [
      "Libro aggiunto con successo: {'author': 'J.D. Salinger', 'id': 5, 'title': 'The Catcher in the Rye', 'year': 1951}\n"
     ]
    }
   ],
   "source": [
    "# Dati del nuovo libro da aggiungere\n",
    "new_book = {\n",
    "    'title': 'The Catcher in the Rye',\n",
    "    'author': 'J.D. Salinger',\n",
    "    'year': 1951\n",
    "}\n",
    "\n",
    "# Richiesta POST per aggiungere un nuovo libro\n",
    "response = requests.post('http://127.0.0.1:5000/books', json=new_book)\n",
    "if response.status_code == 201:\n",
    "    added_book = response.json()  # Salva il libro aggiunto restituito dall'API\n",
    "    print(\"Libro aggiunto con successo:\", added_book)\n",
    "else:\n",
    "    print(\"Errore nell'aggiunta del libro\")\n"
   ]
  },
  {
   "cell_type": "code",
   "execution_count": 6,
   "metadata": {},
   "outputs": [
    {
     "name": "stdout",
     "output_type": "stream",
     "text": [
      "Libri ottenuti con successo: {'books': [{'author': 'George Orwell', 'id': 1, 'title': '1984', 'year': 1949}, {'author': 'Harper Lee', 'id': 2, 'title': 'To Kill a Mockingbird', 'year': 1960}, {'author': 'F. Scott Fitzgerald', 'id': 3, 'title': 'The Great Gatsby', 'year': 1925}, {'author': 'Frank Herbert', 'id': 4, 'title': 'Dune', 'year': 1965}, {'author': 'J.D. Salinger', 'id': 5, 'title': 'The Catcher in the Rye', 'year': 1951}]}\n"
     ]
    }
   ],
   "source": [
    "# Richiesta GET per ottenere tutti i libri\n",
    "response = requests.get('http://127.0.0.1:5000/books')\n",
    "if response.status_code == 200:\n",
    "    books = response.json()  # Salva i libri restituiti dall'API\n",
    "    print(\"Libri ottenuti con successo:\", books)\n",
    "else:\n",
    "    print(\"Errore nel recupero dei libri\")"
   ]
  }
 ],
 "metadata": {
  "kernelspec": {
   "display_name": "its",
   "language": "python",
   "name": "python3"
  },
  "language_info": {
   "codemirror_mode": {
    "name": "ipython",
    "version": 3
   },
   "file_extension": ".py",
   "mimetype": "text/x-python",
   "name": "python",
   "nbconvert_exporter": "python",
   "pygments_lexer": "ipython3",
   "version": "3.11.8"
  }
 },
 "nbformat": 4,
 "nbformat_minor": 2
}
