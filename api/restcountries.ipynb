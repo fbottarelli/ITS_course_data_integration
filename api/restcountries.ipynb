{
 "cells": [
  {
   "cell_type": "markdown",
   "metadata": {},
   "source": [
    "# Rest Countries\n",
    "Get information about countries via a RESTful API\n",
    "\n"
   ]
  },
  {
   "cell_type": "code",
   "execution_count": 4,
   "metadata": {},
   "outputs": [],
   "source": [
    "import requests\n",
    "import pandas as pd"
   ]
  },
  {
   "cell_type": "code",
   "execution_count": 13,
   "metadata": {},
   "outputs": [
    {
     "name": "stdout",
     "output_type": "stream",
     "text": [
      "{'name': {'common': 'United Kingdom', 'official': 'United Kingdom of Great Britain and Northern Ireland', 'nativeName': {'eng': {'official': 'United Kingdom of Great Britain and Northern Ireland', 'common': 'United Kingdom'}}}, 'tld': ['.uk'], 'cca2': 'GB', 'ccn3': '826', 'cca3': 'GBR', 'cioc': 'GBR', 'independent': True, 'status': 'officially-assigned', 'unMember': True, 'currencies': {'GBP': {'name': 'British pound', 'symbol': '£'}}, 'idd': {'root': '+4', 'suffixes': ['4']}, 'capital': ['London'], 'altSpellings': ['GB', 'UK', 'Great Britain'], 'region': 'Europe', 'subregion': 'Northern Europe', 'languages': {'eng': 'English'}, 'translations': {'ara': {'official': 'المملكة المتحدة لبريطانيا العظمى وايرلندا الشمالية', 'common': 'المملكة المتحدة'}, 'bre': {'official': 'Rouantelezh-Unanet Breizh-Veur ha Norzhiwerzhon', 'common': 'Rouantelezh-Unanet'}, 'ces': {'official': 'Spojené království Velké Británie a Severního Irska', 'common': 'Spojené království'}, 'cym': {'official': 'United Kingdom of Great Britain and Northern Ireland', 'common': 'United Kingdom'}, 'deu': {'official': 'Vereinigtes Königreich Großbritannien und Nordirland', 'common': 'Vereinigtes Königreich'}, 'est': {'official': 'Suurbritannia ja Põhja-Iiri Ühendkuningriik', 'common': 'Suurbritannia'}, 'fin': {'official': 'Ison-Britannian ja Pohjois-Irlannin yhdistynyt kuningaskunta', 'common': 'Yhdistynyt kuningaskunta'}, 'fra': {'official': \"Royaume-Uni de Grande-Bretagne et d'Irlande du Nord\", 'common': 'Royaume-Uni'}, 'hrv': {'official': 'Ujedinjeno Kraljevstvo Velike Britanije i Sjeverne Irske', 'common': 'Ujedinjeno Kraljevstvo'}, 'hun': {'official': 'Nagy-Britannia és Észak-Írország Egyesült Királysága', 'common': 'Egyesült Királyság'}, 'ita': {'official': 'Regno Unito di Gran Bretagna e Irlanda del Nord', 'common': 'Regno Unito'}, 'jpn': {'official': 'グレート·ブリテンおよび北アイルランド連合王国', 'common': 'イギリス'}, 'kor': {'official': '그레이트브리튼 북아일랜드 연합 왕국', 'common': '영국'}, 'nld': {'official': 'Verenigd Koninkrijk van Groot-Brittannië en Noord-Ierland', 'common': 'Verenigd Koninkrijk'}, 'per': {'official': 'پادشاهی متحد بریتانیای کبیر و ایرلند شمالی', 'common': 'انگلیس'}, 'pol': {'official': 'Zjednoczone Królestwo Wielkiej Brytanii i Irlandii Północnej', 'common': 'Zjednoczone Królestwo'}, 'por': {'official': 'Reino Unido da Grã-Bretanha e Irlanda do Norte', 'common': 'Reino Unido'}, 'rus': {'official': 'Соединенное Королевство Великобритании и Северной Ирландии', 'common': 'Великобритания'}, 'slk': {'official': 'Spojené kráľovstvo Veľkej Británie a SevernéhoÌrska', 'common': 'Veľká Británia (Spojené kráľovstvo)'}, 'spa': {'official': 'Reino Unido de Gran Bretaña e Irlanda del Norte', 'common': 'Reino Unido'}, 'srp': {'official': 'Уједињено Краљевство Велике Британије и Северне Ирске', 'common': 'Уједињено Краљевство'}, 'swe': {'official': 'Förenade konungariket Storbritannien och Nordirland', 'common': 'Storbritannien'}, 'tur': {'official': 'Büyük Britanya ve Kuzey İrlanda Birleşik Krallığı', 'common': 'Birleşik Krallık'}, 'urd': {'official': 'مملکتِ متحدہ برطانیہ عظمی و شمالی آئرلینڈ', 'common': 'مملکتِ متحدہ'}, 'zho': {'official': '大不列颠及北爱尔兰联合王国', 'common': '英国'}}, 'latlng': [54.0, -2.0], 'landlocked': False, 'borders': ['IRL'], 'area': 242900.0, 'demonyms': {'eng': {'f': 'British', 'm': 'British'}, 'fra': {'f': 'Britannique', 'm': 'Britannique'}}, 'flag': '🇬🇧', 'maps': {'googleMaps': 'https://goo.gl/maps/FoDtc3UKMkFsXAjHA', 'openStreetMaps': 'https://www.openstreetmap.org/relation/62149'}, 'population': 67215293, 'gini': {'2017': 35.1}, 'car': {'signs': ['GB'], 'side': 'left'}, 'timezones': ['UTC-08:00', 'UTC-05:00', 'UTC-04:00', 'UTC-03:00', 'UTC-02:00', 'UTC', 'UTC+01:00', 'UTC+02:00', 'UTC+06:00'], 'continents': ['Europe'], 'flags': {'png': 'https://flagcdn.com/w320/gb.png', 'svg': 'https://flagcdn.com/gb.svg', 'alt': 'The flag of the United Kingdom — the Union Jack — has a blue field. It features the white-edged red cross of Saint George superimposed on the diagonal red cross of Saint Patrick which is superimposed on the diagonal white cross of Saint Andrew.'}, 'coatOfArms': {'png': 'https://mainfacts.com/media/images/coats_of_arms/gb.png', 'svg': 'https://mainfacts.com/media/images/coats_of_arms/gb.svg'}, 'startOfWeek': 'monday', 'capitalInfo': {'latlng': [51.5, -0.08]}, 'postalCode': {'format': '@# #@@|@## #@@|@@# #@@|@@## #@@|@#@ #@@|@@#@ #@@|GIR0AA', 'regex': '^(([A-Z]\\\\d{2}[A-Z]{2})|([A-Z]\\\\d{3}[A-Z]{2})|([A-Z]{2}\\\\d{2}[A-Z]{2})|([A-Z]{2}\\\\d{3}[A-Z]{2})|([A-Z]\\\\d[A-Z]\\\\d[A-Z]{2})|([A-Z]{2}\\\\d[A-Z]\\\\d[A-Z]{2})|(GIR0AA))$'}}\n"
     ]
    }
   ],
   "source": [
    "url = \"https://restcountries.com/v3.1/region/europe\"\n",
    "response = requests.get(url)\n",
    "data = response.json()\n",
    "print(data[10])\n"
   ]
  },
  {
   "cell_type": "code",
   "execution_count": 14,
   "metadata": {},
   "outputs": [
    {
     "name": "stdout",
     "output_type": "stream",
     "text": [
      "Moldova\n",
      "Bulgaria\n",
      "Germany\n",
      "Albania\n",
      "Montenegro\n",
      "Spain\n",
      "Sweden\n",
      "Andorra\n",
      "Malta\n",
      "Czechia\n",
      "United Kingdom\n",
      "Gibraltar\n",
      "Cyprus\n",
      "Monaco\n",
      "Russia\n",
      "Ireland\n",
      "France\n",
      "Belarus\n",
      "Portugal\n",
      "Croatia\n",
      "Liechtenstein\n",
      "Hungary\n",
      "Iceland\n",
      "Poland\n",
      "Switzerland\n",
      "North Macedonia\n",
      "Kosovo\n",
      "Belgium\n",
      "Serbia\n",
      "Netherlands\n",
      "Denmark\n",
      "Luxembourg\n",
      "Faroe Islands\n",
      "Slovenia\n",
      "Ukraine\n",
      "Finland\n",
      "Austria\n",
      "Bosnia and Herzegovina\n",
      "Greece\n",
      "Guernsey\n",
      "Estonia\n",
      "San Marino\n",
      "Vatican City\n",
      "Italy\n",
      "Slovakia\n",
      "Lithuania\n",
      "Isle of Man\n",
      "Norway\n",
      "Latvia\n",
      "Romania\n",
      "Svalbard and Jan Mayen\n",
      "Jersey\n",
      "Åland Islands\n"
     ]
    }
   ],
   "source": [
    "for country in data:\n",
    "    print(country['name']['common'])"
   ]
  },
  {
   "cell_type": "code",
   "execution_count": 15,
   "metadata": {},
   "outputs": [],
   "source": [
    "countries_list = [country[\"name\"][\"common\"] for country in data]"
   ]
  },
  {
   "cell_type": "code",
   "execution_count": 16,
   "metadata": {},
   "outputs": [
    {
     "name": "stdout",
     "output_type": "stream",
     "text": [
      "['Moldova', 'Bulgaria', 'Germany', 'Albania', 'Montenegro', 'Spain', 'Sweden', 'Andorra', 'Malta', 'Czechia', 'United Kingdom', 'Gibraltar', 'Cyprus', 'Monaco', 'Russia', 'Ireland', 'France', 'Belarus', 'Portugal', 'Croatia', 'Liechtenstein', 'Hungary', 'Iceland', 'Poland', 'Switzerland', 'North Macedonia', 'Kosovo', 'Belgium', 'Serbia', 'Netherlands', 'Denmark', 'Luxembourg', 'Faroe Islands', 'Slovenia', 'Ukraine', 'Finland', 'Austria', 'Bosnia and Herzegovina', 'Greece', 'Guernsey', 'Estonia', 'San Marino', 'Vatican City', 'Italy', 'Slovakia', 'Lithuania', 'Isle of Man', 'Norway', 'Latvia', 'Romania', 'Svalbard and Jan Mayen', 'Jersey', 'Åland Islands']\n"
     ]
    }
   ],
   "source": [
    "print(countries_list)"
   ]
  },
  {
   "cell_type": "code",
   "execution_count": 33,
   "metadata": {},
   "outputs": [],
   "source": [
    "# Funzione per estrarre i dati in un formato piatto.\n",
    "def extract_country_info(country_name):\n",
    "    url = f\"https://restcountries.com/v3.1/name/{country_name}\"\n",
    "    response = requests.get(url)\n",
    "    if response.status_code == 200:\n",
    "        country_data = response.json()[0]\n",
    "        print(len(country_data))\n",
    "        country_info = {\n",
    "        \"common_name\": country_data[\"name\"][\"common\"],\n",
    "        # \"official_name\": country_data[\"name\"][\"official\"],\n",
    "        \"native_name\": next(iter(country_data[\"name\"][\"nativeName\"].values()))[\"official\"],\n",
    "        # \"tld\": country_data[\"tld\"][0],\n",
    "        # \"cca2\": country_data[\"cca2\"],\n",
    "        # \"ccn3\": country_data[\"ccn3\"],\n",
    "        # \"cca3\": country_data[\"cca3\"],\n",
    "        # \"cioc\": country_data[\"cioc\"],\n",
    "        \"independent\": country_data[\"independent\"],\n",
    "        \"un_member\": country_data[\"unMember\"],\n",
    "        # \"currency_code\": next(iter(country_data[\"currencies\"])),\n",
    "        \"currency_name\": next(iter(country_data[\"currencies\"].values()))[\"name\"],\n",
    "        # \"currency_symbol\": next(iter(country_data[\"currencies\"].values()))[\"symbol\"],\n",
    "        # \"calling_code\": country_data[\"idd\"][\"root\"] + next(iter(country_data[\"idd\"][\"suffixes\"])),\n",
    "        \"capital\": country_data[\"capital\"][0],\n",
    "        \"region\": country_data[\"region\"],\n",
    "        \"subregion\": country_data[\"subregion\"],\n",
    "        \"official_language\": next(iter(country_data[\"languages\"].values())),\n",
    "        \"latitude\": country_data[\"latlng\"][0],\n",
    "        \"longitude\": country_data[\"latlng\"][1],\n",
    "        \"landlocked\": country_data[\"landlocked\"],\n",
    "        \"borders\": ', '.join(country_data[\"borders\"]) if \"borders\" in country_data else None,\n",
    "        \"area\": country_data[\"area\"],\n",
    "        \"population\": country_data[\"population\"],\n",
    "        \"flag\": country_data[\"flags\"][\"png\"],\n",
    "        # \"flag_description\": country_data[\"flags\"][\"alt\"],\n",
    "        \"capital_latitude\": country_data[\"capitalInfo\"][\"latlng\"][0],\n",
    "        \"capital_longitude\": country_data[\"capitalInfo\"][\"latlng\"][1],\n",
    "        \"gini_index_2016\": country_data[\"gini\"][\"2016\"] if \"gini\" in country_data and \"2016\" in country_data[\"gini\"] else None,\n",
    "        # \"fifa_code\": country_data[\"fifa\"],\n",
    "        # \"car_sign\": ', '.join(country_data[\"car\"][\"signs\"]),\n",
    "        \"drive_side\": country_data[\"car\"][\"side\"],\n",
    "        \"timezones\": ', '.join(country_data[\"timezones\"]),\n",
    "        \"continents\": ', '.join(country_data[\"continents\"]),\n",
    "        \"start_of_week\": country_data[\"startOfWeek\"],\n",
    "        # \"postal_code_format\": country_data[\"postalCode\"][\"format\"],\n",
    "        # \"postal_code_regex\": country_data[\"postalCode\"][\"regex\"]\n",
    "        }\n",
    "        return country_info\n",
    "    else:\n",
    "        print(f\"Error: {response.status_code}\")\n",
    "        return None\n",
    "\n",
    "\n"
   ]
  },
  {
   "cell_type": "code",
   "execution_count": 34,
   "metadata": {},
   "outputs": [
    {
     "name": "stdout",
     "output_type": "stream",
     "text": [
      "35\n",
      "35\n",
      "35\n",
      "34\n",
      "35\n",
      "35\n",
      "35\n",
      "34\n",
      "34\n",
      "35\n",
      "34\n",
      "32\n",
      "34\n",
      "33\n",
      "35\n",
      "34\n",
      "35\n",
      "35\n",
      "35\n",
      "35\n",
      "34\n",
      "35\n",
      "34\n",
      "35\n",
      "35\n",
      "35\n",
      "31\n"
     ]
    },
    {
     "ename": "KeyError",
     "evalue": "'independent'",
     "output_type": "error",
     "traceback": [
      "\u001b[0;31m---------------------------------------------------------------------------\u001b[0m",
      "\u001b[0;31mKeyError\u001b[0m                                  Traceback (most recent call last)",
      "Cell \u001b[0;32mIn[34], line 2\u001b[0m\n\u001b[1;32m      1\u001b[0m \u001b[38;5;66;03m# Estraiamo i dati in un lista di json\u001b[39;00m\n\u001b[0;32m----> 2\u001b[0m countries_data \u001b[38;5;241m=\u001b[39m \u001b[43m[\u001b[49m\u001b[43mextract_country_info\u001b[49m\u001b[43m(\u001b[49m\u001b[43mcountry\u001b[49m\u001b[43m)\u001b[49m\u001b[43m \u001b[49m\u001b[38;5;28;43;01mfor\u001b[39;49;00m\u001b[43m \u001b[49m\u001b[43mcountry\u001b[49m\u001b[43m \u001b[49m\u001b[38;5;129;43;01min\u001b[39;49;00m\u001b[43m \u001b[49m\u001b[43mcountries_list\u001b[49m\u001b[43m]\u001b[49m\n\u001b[1;32m      3\u001b[0m df \u001b[38;5;241m=\u001b[39m pd\u001b[38;5;241m.\u001b[39mDataFrame(countries_data)\n",
      "Cell \u001b[0;32mIn[34], line 2\u001b[0m, in \u001b[0;36m<listcomp>\u001b[0;34m(.0)\u001b[0m\n\u001b[1;32m      1\u001b[0m \u001b[38;5;66;03m# Estraiamo i dati in un lista di json\u001b[39;00m\n\u001b[0;32m----> 2\u001b[0m countries_data \u001b[38;5;241m=\u001b[39m [\u001b[43mextract_country_info\u001b[49m\u001b[43m(\u001b[49m\u001b[43mcountry\u001b[49m\u001b[43m)\u001b[49m \u001b[38;5;28;01mfor\u001b[39;00m country \u001b[38;5;129;01min\u001b[39;00m countries_list]\n\u001b[1;32m      3\u001b[0m df \u001b[38;5;241m=\u001b[39m pd\u001b[38;5;241m.\u001b[39mDataFrame(countries_data)\n",
      "Cell \u001b[0;32mIn[33], line 17\u001b[0m, in \u001b[0;36mextract_country_info\u001b[0;34m(country_name)\u001b[0m\n\u001b[1;32m      6\u001b[0m     country_data \u001b[38;5;241m=\u001b[39m response\u001b[38;5;241m.\u001b[39mjson()[\u001b[38;5;241m0\u001b[39m]\n\u001b[1;32m      7\u001b[0m     \u001b[38;5;28mprint\u001b[39m(\u001b[38;5;28mlen\u001b[39m(country_data))\n\u001b[1;32m      8\u001b[0m     country_info \u001b[38;5;241m=\u001b[39m {\n\u001b[1;32m      9\u001b[0m     \u001b[38;5;124m\"\u001b[39m\u001b[38;5;124mcommon_name\u001b[39m\u001b[38;5;124m\"\u001b[39m: country_data[\u001b[38;5;124m\"\u001b[39m\u001b[38;5;124mname\u001b[39m\u001b[38;5;124m\"\u001b[39m][\u001b[38;5;124m\"\u001b[39m\u001b[38;5;124mcommon\u001b[39m\u001b[38;5;124m\"\u001b[39m],\n\u001b[1;32m     10\u001b[0m     \u001b[38;5;66;03m# \"official_name\": country_data[\"name\"][\"official\"],\u001b[39;00m\n\u001b[1;32m     11\u001b[0m     \u001b[38;5;124m\"\u001b[39m\u001b[38;5;124mnative_name\u001b[39m\u001b[38;5;124m\"\u001b[39m: \u001b[38;5;28mnext\u001b[39m(\u001b[38;5;28miter\u001b[39m(country_data[\u001b[38;5;124m\"\u001b[39m\u001b[38;5;124mname\u001b[39m\u001b[38;5;124m\"\u001b[39m][\u001b[38;5;124m\"\u001b[39m\u001b[38;5;124mnativeName\u001b[39m\u001b[38;5;124m\"\u001b[39m]\u001b[38;5;241m.\u001b[39mvalues()))[\u001b[38;5;124m\"\u001b[39m\u001b[38;5;124mofficial\u001b[39m\u001b[38;5;124m\"\u001b[39m],\n\u001b[1;32m     12\u001b[0m     \u001b[38;5;66;03m# \"tld\": country_data[\"tld\"][0],\u001b[39;00m\n\u001b[1;32m     13\u001b[0m     \u001b[38;5;66;03m# \"cca2\": country_data[\"cca2\"],\u001b[39;00m\n\u001b[1;32m     14\u001b[0m     \u001b[38;5;66;03m# \"ccn3\": country_data[\"ccn3\"],\u001b[39;00m\n\u001b[1;32m     15\u001b[0m     \u001b[38;5;66;03m# \"cca3\": country_data[\"cca3\"],\u001b[39;00m\n\u001b[1;32m     16\u001b[0m     \u001b[38;5;66;03m# \"cioc\": country_data[\"cioc\"],\u001b[39;00m\n\u001b[0;32m---> 17\u001b[0m     \u001b[38;5;124m\"\u001b[39m\u001b[38;5;124mindependent\u001b[39m\u001b[38;5;124m\"\u001b[39m: \u001b[43mcountry_data\u001b[49m\u001b[43m[\u001b[49m\u001b[38;5;124;43m\"\u001b[39;49m\u001b[38;5;124;43mindependent\u001b[39;49m\u001b[38;5;124;43m\"\u001b[39;49m\u001b[43m]\u001b[49m,\n\u001b[1;32m     18\u001b[0m     \u001b[38;5;124m\"\u001b[39m\u001b[38;5;124mun_member\u001b[39m\u001b[38;5;124m\"\u001b[39m: country_data[\u001b[38;5;124m\"\u001b[39m\u001b[38;5;124munMember\u001b[39m\u001b[38;5;124m\"\u001b[39m],\n\u001b[1;32m     19\u001b[0m     \u001b[38;5;66;03m# \"currency_code\": next(iter(country_data[\"currencies\"])),\u001b[39;00m\n\u001b[1;32m     20\u001b[0m     \u001b[38;5;124m\"\u001b[39m\u001b[38;5;124mcurrency_name\u001b[39m\u001b[38;5;124m\"\u001b[39m: \u001b[38;5;28mnext\u001b[39m(\u001b[38;5;28miter\u001b[39m(country_data[\u001b[38;5;124m\"\u001b[39m\u001b[38;5;124mcurrencies\u001b[39m\u001b[38;5;124m\"\u001b[39m]\u001b[38;5;241m.\u001b[39mvalues()))[\u001b[38;5;124m\"\u001b[39m\u001b[38;5;124mname\u001b[39m\u001b[38;5;124m\"\u001b[39m],\n\u001b[1;32m     21\u001b[0m     \u001b[38;5;66;03m# \"currency_symbol\": next(iter(country_data[\"currencies\"].values()))[\"symbol\"],\u001b[39;00m\n\u001b[1;32m     22\u001b[0m     \u001b[38;5;66;03m# \"calling_code\": country_data[\"idd\"][\"root\"] + next(iter(country_data[\"idd\"][\"suffixes\"])),\u001b[39;00m\n\u001b[1;32m     23\u001b[0m     \u001b[38;5;124m\"\u001b[39m\u001b[38;5;124mcapital\u001b[39m\u001b[38;5;124m\"\u001b[39m: country_data[\u001b[38;5;124m\"\u001b[39m\u001b[38;5;124mcapital\u001b[39m\u001b[38;5;124m\"\u001b[39m][\u001b[38;5;241m0\u001b[39m],\n\u001b[1;32m     24\u001b[0m     \u001b[38;5;124m\"\u001b[39m\u001b[38;5;124mregion\u001b[39m\u001b[38;5;124m\"\u001b[39m: country_data[\u001b[38;5;124m\"\u001b[39m\u001b[38;5;124mregion\u001b[39m\u001b[38;5;124m\"\u001b[39m],\n\u001b[1;32m     25\u001b[0m     \u001b[38;5;124m\"\u001b[39m\u001b[38;5;124msubregion\u001b[39m\u001b[38;5;124m\"\u001b[39m: country_data[\u001b[38;5;124m\"\u001b[39m\u001b[38;5;124msubregion\u001b[39m\u001b[38;5;124m\"\u001b[39m],\n\u001b[1;32m     26\u001b[0m     \u001b[38;5;124m\"\u001b[39m\u001b[38;5;124mofficial_language\u001b[39m\u001b[38;5;124m\"\u001b[39m: \u001b[38;5;28mnext\u001b[39m(\u001b[38;5;28miter\u001b[39m(country_data[\u001b[38;5;124m\"\u001b[39m\u001b[38;5;124mlanguages\u001b[39m\u001b[38;5;124m\"\u001b[39m]\u001b[38;5;241m.\u001b[39mvalues())),\n\u001b[1;32m     27\u001b[0m     \u001b[38;5;124m\"\u001b[39m\u001b[38;5;124mlatitude\u001b[39m\u001b[38;5;124m\"\u001b[39m: country_data[\u001b[38;5;124m\"\u001b[39m\u001b[38;5;124mlatlng\u001b[39m\u001b[38;5;124m\"\u001b[39m][\u001b[38;5;241m0\u001b[39m],\n\u001b[1;32m     28\u001b[0m     \u001b[38;5;124m\"\u001b[39m\u001b[38;5;124mlongitude\u001b[39m\u001b[38;5;124m\"\u001b[39m: country_data[\u001b[38;5;124m\"\u001b[39m\u001b[38;5;124mlatlng\u001b[39m\u001b[38;5;124m\"\u001b[39m][\u001b[38;5;241m1\u001b[39m],\n\u001b[1;32m     29\u001b[0m     \u001b[38;5;124m\"\u001b[39m\u001b[38;5;124mlandlocked\u001b[39m\u001b[38;5;124m\"\u001b[39m: country_data[\u001b[38;5;124m\"\u001b[39m\u001b[38;5;124mlandlocked\u001b[39m\u001b[38;5;124m\"\u001b[39m],\n\u001b[1;32m     30\u001b[0m     \u001b[38;5;124m\"\u001b[39m\u001b[38;5;124mborders\u001b[39m\u001b[38;5;124m\"\u001b[39m: \u001b[38;5;124m'\u001b[39m\u001b[38;5;124m, \u001b[39m\u001b[38;5;124m'\u001b[39m\u001b[38;5;241m.\u001b[39mjoin(country_data[\u001b[38;5;124m\"\u001b[39m\u001b[38;5;124mborders\u001b[39m\u001b[38;5;124m\"\u001b[39m]) \u001b[38;5;28;01mif\u001b[39;00m \u001b[38;5;124m\"\u001b[39m\u001b[38;5;124mborders\u001b[39m\u001b[38;5;124m\"\u001b[39m \u001b[38;5;129;01min\u001b[39;00m country_data \u001b[38;5;28;01melse\u001b[39;00m \u001b[38;5;28;01mNone\u001b[39;00m,\n\u001b[1;32m     31\u001b[0m     \u001b[38;5;124m\"\u001b[39m\u001b[38;5;124marea\u001b[39m\u001b[38;5;124m\"\u001b[39m: country_data[\u001b[38;5;124m\"\u001b[39m\u001b[38;5;124marea\u001b[39m\u001b[38;5;124m\"\u001b[39m],\n\u001b[1;32m     32\u001b[0m     \u001b[38;5;124m\"\u001b[39m\u001b[38;5;124mpopulation\u001b[39m\u001b[38;5;124m\"\u001b[39m: country_data[\u001b[38;5;124m\"\u001b[39m\u001b[38;5;124mpopulation\u001b[39m\u001b[38;5;124m\"\u001b[39m],\n\u001b[1;32m     33\u001b[0m     \u001b[38;5;124m\"\u001b[39m\u001b[38;5;124mflag\u001b[39m\u001b[38;5;124m\"\u001b[39m: country_data[\u001b[38;5;124m\"\u001b[39m\u001b[38;5;124mflags\u001b[39m\u001b[38;5;124m\"\u001b[39m][\u001b[38;5;124m\"\u001b[39m\u001b[38;5;124mpng\u001b[39m\u001b[38;5;124m\"\u001b[39m],\n\u001b[1;32m     34\u001b[0m     \u001b[38;5;66;03m# \"flag_description\": country_data[\"flags\"][\"alt\"],\u001b[39;00m\n\u001b[1;32m     35\u001b[0m     \u001b[38;5;124m\"\u001b[39m\u001b[38;5;124mcapital_latitude\u001b[39m\u001b[38;5;124m\"\u001b[39m: country_data[\u001b[38;5;124m\"\u001b[39m\u001b[38;5;124mcapitalInfo\u001b[39m\u001b[38;5;124m\"\u001b[39m][\u001b[38;5;124m\"\u001b[39m\u001b[38;5;124mlatlng\u001b[39m\u001b[38;5;124m\"\u001b[39m][\u001b[38;5;241m0\u001b[39m],\n\u001b[1;32m     36\u001b[0m     \u001b[38;5;124m\"\u001b[39m\u001b[38;5;124mcapital_longitude\u001b[39m\u001b[38;5;124m\"\u001b[39m: country_data[\u001b[38;5;124m\"\u001b[39m\u001b[38;5;124mcapitalInfo\u001b[39m\u001b[38;5;124m\"\u001b[39m][\u001b[38;5;124m\"\u001b[39m\u001b[38;5;124mlatlng\u001b[39m\u001b[38;5;124m\"\u001b[39m][\u001b[38;5;241m1\u001b[39m],\n\u001b[1;32m     37\u001b[0m     \u001b[38;5;124m\"\u001b[39m\u001b[38;5;124mgini_index_2016\u001b[39m\u001b[38;5;124m\"\u001b[39m: country_data[\u001b[38;5;124m\"\u001b[39m\u001b[38;5;124mgini\u001b[39m\u001b[38;5;124m\"\u001b[39m][\u001b[38;5;124m\"\u001b[39m\u001b[38;5;124m2016\u001b[39m\u001b[38;5;124m\"\u001b[39m] \u001b[38;5;28;01mif\u001b[39;00m \u001b[38;5;124m\"\u001b[39m\u001b[38;5;124mgini\u001b[39m\u001b[38;5;124m\"\u001b[39m \u001b[38;5;129;01min\u001b[39;00m country_data \u001b[38;5;129;01mand\u001b[39;00m \u001b[38;5;124m\"\u001b[39m\u001b[38;5;124m2016\u001b[39m\u001b[38;5;124m\"\u001b[39m \u001b[38;5;129;01min\u001b[39;00m country_data[\u001b[38;5;124m\"\u001b[39m\u001b[38;5;124mgini\u001b[39m\u001b[38;5;124m\"\u001b[39m] \u001b[38;5;28;01melse\u001b[39;00m \u001b[38;5;28;01mNone\u001b[39;00m,\n\u001b[1;32m     38\u001b[0m     \u001b[38;5;66;03m# \"fifa_code\": country_data[\"fifa\"],\u001b[39;00m\n\u001b[1;32m     39\u001b[0m     \u001b[38;5;66;03m# \"car_sign\": ', '.join(country_data[\"car\"][\"signs\"]),\u001b[39;00m\n\u001b[1;32m     40\u001b[0m     \u001b[38;5;124m\"\u001b[39m\u001b[38;5;124mdrive_side\u001b[39m\u001b[38;5;124m\"\u001b[39m: country_data[\u001b[38;5;124m\"\u001b[39m\u001b[38;5;124mcar\u001b[39m\u001b[38;5;124m\"\u001b[39m][\u001b[38;5;124m\"\u001b[39m\u001b[38;5;124mside\u001b[39m\u001b[38;5;124m\"\u001b[39m],\n\u001b[1;32m     41\u001b[0m     \u001b[38;5;124m\"\u001b[39m\u001b[38;5;124mtimezones\u001b[39m\u001b[38;5;124m\"\u001b[39m: \u001b[38;5;124m'\u001b[39m\u001b[38;5;124m, \u001b[39m\u001b[38;5;124m'\u001b[39m\u001b[38;5;241m.\u001b[39mjoin(country_data[\u001b[38;5;124m\"\u001b[39m\u001b[38;5;124mtimezones\u001b[39m\u001b[38;5;124m\"\u001b[39m]),\n\u001b[1;32m     42\u001b[0m     \u001b[38;5;124m\"\u001b[39m\u001b[38;5;124mcontinents\u001b[39m\u001b[38;5;124m\"\u001b[39m: \u001b[38;5;124m'\u001b[39m\u001b[38;5;124m, \u001b[39m\u001b[38;5;124m'\u001b[39m\u001b[38;5;241m.\u001b[39mjoin(country_data[\u001b[38;5;124m\"\u001b[39m\u001b[38;5;124mcontinents\u001b[39m\u001b[38;5;124m\"\u001b[39m]),\n\u001b[1;32m     43\u001b[0m     \u001b[38;5;124m\"\u001b[39m\u001b[38;5;124mstart_of_week\u001b[39m\u001b[38;5;124m\"\u001b[39m: country_data[\u001b[38;5;124m\"\u001b[39m\u001b[38;5;124mstartOfWeek\u001b[39m\u001b[38;5;124m\"\u001b[39m],\n\u001b[1;32m     44\u001b[0m     \u001b[38;5;66;03m# \"postal_code_format\": country_data[\"postalCode\"][\"format\"],\u001b[39;00m\n\u001b[1;32m     45\u001b[0m     \u001b[38;5;66;03m# \"postal_code_regex\": country_data[\"postalCode\"][\"regex\"]\u001b[39;00m\n\u001b[1;32m     46\u001b[0m     }\n\u001b[1;32m     47\u001b[0m     \u001b[38;5;28;01mreturn\u001b[39;00m country_info\n\u001b[1;32m     48\u001b[0m \u001b[38;5;28;01melse\u001b[39;00m:\n",
      "\u001b[0;31mKeyError\u001b[0m: 'independent'"
     ]
    }
   ],
   "source": [
    "# Estraiamo i dati in un lista di json\n",
    "countries_data = [extract_country_info(country) for country in countries_list]\n",
    "df = pd.DataFrame(countries_data)"
   ]
  }
 ],
 "metadata": {
  "kernelspec": {
   "display_name": "its",
   "language": "python",
   "name": "python3"
  },
  "language_info": {
   "codemirror_mode": {
    "name": "ipython",
    "version": 3
   },
   "file_extension": ".py",
   "mimetype": "text/x-python",
   "name": "python",
   "nbconvert_exporter": "python",
   "pygments_lexer": "ipython3",
   "version": "3.11.8"
  }
 },
 "nbformat": 4,
 "nbformat_minor": 2
}
