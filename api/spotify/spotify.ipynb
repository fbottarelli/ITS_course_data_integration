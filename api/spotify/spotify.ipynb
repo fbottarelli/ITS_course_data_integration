{
 "cells": [
  {
   "cell_type": "markdown",
   "metadata": {},
   "source": [
    "https://developer.spotify.com/documentation/web-api/tutorials/getting-started"
   ]
  },
  {
   "cell_type": "code",
   "execution_count": null,
   "metadata": {},
   "outputs": [],
   "source": [
    "# !pip install python-dotenv\n",
    "# !pip install spotipy"
   ]
  },
  {
   "cell_type": "markdown",
   "metadata": {},
   "source": [
    "Importiamo le librerie necessarie"
   ]
  },
  {
   "cell_type": "code",
   "execution_count": 1,
   "metadata": {},
   "outputs": [],
   "source": [
    "import spotipy\n",
    "from spotipy.oauth2 import SpotifyClientCredentials\n",
    "from dotenv import load_dotenv\n",
    "import os\n",
    "import pandas as pd\n",
    "import time\n",
    "import numpy as np\n",
    "import json"
   ]
  },
  {
   "cell_type": "markdown",
   "metadata": {},
   "source": [
    "colleghiamoci al API di Spotify"
   ]
  },
  {
   "cell_type": "code",
   "execution_count": 2,
   "metadata": {},
   "outputs": [],
   "source": [
    "load_dotenv()\n",
    "SPOTIPY_CLIENT_ID = os.getenv(\"SPOTIPY_CLIENT_ID\")\n",
    "SPOTIPY_CLIENT_SECRET = os.getenv(\"SPOTIPY_CLIENT_SECRET\")\n",
    "auth_manager = SpotifyClientCredentials(client_id=SPOTIPY_CLIENT_ID, client_secret=SPOTIPY_CLIENT_SECRET)\n",
    "sp = spotipy.Spotify(auth_manager=auth_manager)"
   ]
  },
  {
   "cell_type": "markdown",
   "metadata": {},
   "source": [
    "Esploriamo i diversi endpoint della API di Spotify"
   ]
  },
  {
   "cell_type": "markdown",
   "metadata": {},
   "source": [
    "SEARCH ENGINE"
   ]
  },
  {
   "cell_type": "code",
   "execution_count": null,
   "metadata": {},
   "outputs": [],
   "source": [
    "artist_name = \"100 gecs\"\n",
    "artist_list = sp.search(q=artist_name, type=\"artist\")\n",
    "print(artist_list[\"artists\"])\n"
   ]
  },
  {
   "cell_type": "code",
   "execution_count": null,
   "metadata": {},
   "outputs": [],
   "source": [
    "print(artist_list[\"artists\"].keys())\n",
    "print(artist_list[\"artists\"][\"items\"][0].keys())"
   ]
  },
  {
   "cell_type": "code",
   "execution_count": null,
   "metadata": {},
   "outputs": [],
   "source": [
    "for artist in artist_list[\"artists\"][\"items\"]:\n",
    "    print(artist[\"name\"])"
   ]
  },
  {
   "cell_type": "markdown",
   "metadata": {},
   "source": [
    "ARTIST"
   ]
  },
  {
   "cell_type": "code",
   "execution_count": 49,
   "metadata": {},
   "outputs": [
    {
     "name": "stdout",
     "output_type": "stream",
     "text": [
      "{'external_urls': {'spotify': 'https://open.spotify.com/artist/6PfSUFtkMVoDkx4MQkzOi3'}, 'followers': {'href': None, 'total': 600199}, 'genres': ['bubblegum bass', 'hyper-rock', 'hyperpop', 'proto-hyperpop'], 'href': 'https://api.spotify.com/v1/artists/6PfSUFtkMVoDkx4MQkzOi3', 'id': '6PfSUFtkMVoDkx4MQkzOi3', 'images': [{'height': 640, 'url': 'https://i.scdn.co/image/ab6761610000e5ebd77a9c855001f3a9b5815bc0', 'width': 640}, {'height': 320, 'url': 'https://i.scdn.co/image/ab67616100005174d77a9c855001f3a9b5815bc0', 'width': 320}, {'height': 160, 'url': 'https://i.scdn.co/image/ab6761610000f178d77a9c855001f3a9b5815bc0', 'width': 160}], 'name': '100 gecs', 'popularity': 59, 'type': 'artist', 'uri': 'spotify:artist:6PfSUFtkMVoDkx4MQkzOi3'}\n"
     ]
    }
   ],
   "source": [
    "artist_id = \"6PfSUFtkMVoDkx4MQkzOi3\"\n",
    "artist_info = sp.artist(artist_id)\n",
    "print(artist_info)"
   ]
  },
  {
   "cell_type": "code",
   "execution_count": 52,
   "metadata": {},
   "outputs": [
    {
     "name": "stdout",
     "output_type": "stream",
     "text": [
      "external_urls <class 'dict'>\n",
      "followers <class 'dict'>\n",
      "genres <class 'list'>\n",
      "href <class 'str'>\n",
      "id <class 'str'>\n",
      "images <class 'list'>\n",
      "name <class 'str'>\n",
      "popularity <class 'int'>\n",
      "type <class 'str'>\n",
      "uri <class 'str'>\n"
     ]
    }
   ],
   "source": [
    "for key in artist_info.keys():\n",
    "    print(key, type(artist_info[key]))"
   ]
  },
  {
   "cell_type": "code",
   "execution_count": 55,
   "metadata": {},
   "outputs": [
    {
     "name": "stdout",
     "output_type": "stream",
     "text": [
      "external_urls :::  {'spotify': 'https://open.spotify.com/artist/66CXWjxzNUsdJxJ2JdwvnR'}\n",
      "\n",
      "\n",
      "followers :::  {'href': None, 'total': 95810728}\n",
      "\n",
      "\n",
      "genres :::  ['pop']\n",
      "\n",
      "\n",
      "href :::  https://api.spotify.com/v1/artists/66CXWjxzNUsdJxJ2JdwvnR\n",
      "\n",
      "\n",
      "id :::  66CXWjxzNUsdJxJ2JdwvnR\n",
      "\n",
      "\n",
      "images :::  [{'height': 640, 'url': 'https://i.scdn.co/image/ab6761610000e5eb40b5c07ab77b6b1a9075fdc0', 'width': 640}, {'height': 320, 'url': 'https://i.scdn.co/image/ab6761610000517440b5c07ab77b6b1a9075fdc0', 'width': 320}, {'height': 160, 'url': 'https://i.scdn.co/image/ab6761610000f17840b5c07ab77b6b1a9075fdc0', 'width': 160}]\n",
      "\n",
      "\n",
      "name :::  Ariana Grande\n",
      "\n",
      "\n",
      "popularity :::  94\n",
      "\n",
      "\n",
      "type :::  artist\n",
      "\n",
      "\n",
      "uri :::  spotify:artist:66CXWjxzNUsdJxJ2JdwvnR\n",
      "\n",
      "\n"
     ]
    }
   ],
   "source": [
    "for key in artist_info.keys():\n",
    "    print(f\"{key} ::: \", artist_info[key])\n",
    "    print(\"\\n\")"
   ]
  },
  {
   "cell_type": "code",
   "execution_count": 51,
   "metadata": {},
   "outputs": [
    {
     "data": {
      "text/html": [
       "<div>\n",
       "<style scoped>\n",
       "    .dataframe tbody tr th:only-of-type {\n",
       "        vertical-align: middle;\n",
       "    }\n",
       "\n",
       "    .dataframe tbody tr th {\n",
       "        vertical-align: top;\n",
       "    }\n",
       "\n",
       "    .dataframe thead th {\n",
       "        text-align: right;\n",
       "    }\n",
       "</style>\n",
       "<table border=\"1\" class=\"dataframe\">\n",
       "  <thead>\n",
       "    <tr style=\"text-align: right;\">\n",
       "      <th></th>\n",
       "      <th>name</th>\n",
       "      <th>followers</th>\n",
       "      <th>popularity</th>\n",
       "      <th>genres</th>\n",
       "    </tr>\n",
       "  </thead>\n",
       "  <tbody>\n",
       "    <tr>\n",
       "      <th>0</th>\n",
       "      <td>100 gecs</td>\n",
       "      <td>600199</td>\n",
       "      <td>59</td>\n",
       "      <td>[bubblegum bass, hyper-rock, hyperpop, proto-h...</td>\n",
       "    </tr>\n",
       "    <tr>\n",
       "      <th>1</th>\n",
       "      <td>Artemas</td>\n",
       "      <td>456364</td>\n",
       "      <td>83</td>\n",
       "      <td>[]</td>\n",
       "    </tr>\n",
       "    <tr>\n",
       "      <th>2</th>\n",
       "      <td>Ariana Grande</td>\n",
       "      <td>95810728</td>\n",
       "      <td>94</td>\n",
       "      <td>[pop]</td>\n",
       "    </tr>\n",
       "  </tbody>\n",
       "</table>\n",
       "</div>"
      ],
      "text/plain": [
       "            name  followers  popularity  \\\n",
       "0       100 gecs     600199          59   \n",
       "1        Artemas     456364          83   \n",
       "2  Ariana Grande   95810728          94   \n",
       "\n",
       "                                              genres  \n",
       "0  [bubblegum bass, hyper-rock, hyperpop, proto-h...  \n",
       "1                                                 []  \n",
       "2                                              [pop]  "
      ]
     },
     "execution_count": 51,
     "metadata": {},
     "output_type": "execute_result"
    }
   ],
   "source": [
    "artist_ids = [\"6PfSUFtkMVoDkx4MQkzOi3\", \"0PCCGZ0wGLizHt2KZ7hhA2\", \"66CXWjxzNUsdJxJ2JdwvnR\"]\n",
    "artists_info = []\n",
    "for artist_id in artist_ids:\n",
    "    artist_info = sp.artist(artist_id)\n",
    "    row = {\n",
    "        \"name\": artist_info[\"name\"],\n",
    "        \"followers\": artist_info[\"followers\"][\"total\"],\n",
    "        \"popularity\": artist_info[\"popularity\"],\n",
    "        \"genres\": artist_info[\"genres\"]\n",
    "    }\n",
    "    time.sleep(1)\n",
    "    artists_info.append(row)\n",
    "artists_df = pd.DataFrame(artists_info)\n",
    "artists_df"
   ]
  },
  {
   "cell_type": "code",
   "execution_count": 77,
   "metadata": {},
   "outputs": [
    {
     "name": "stdout",
     "output_type": "stream",
     "text": [
      "dict_keys(['tracks'])\n",
      "dict_keys(['album', 'artists', 'disc_number', 'duration_ms', 'explicit', 'external_ids', 'external_urls', 'href', 'id', 'is_local', 'is_playable', 'name', 'popularity', 'preview_url', 'track_number', 'type', 'uri'])\n"
     ]
    }
   ],
   "source": [
    "artist_top = sp.artist_top_tracks(artist_id)\n",
    "print(artist_top.keys())\n",
    "print(artist_top[\"tracks\"][0].keys())"
   ]
  },
  {
   "cell_type": "code",
   "execution_count": 80,
   "metadata": {},
   "outputs": [
    {
     "name": "stdout",
     "output_type": "stream",
     "text": [
      "dict_keys(['external_urls', 'followers', 'genres', 'href', 'id', 'images', 'name', 'popularity', 'type', 'uri'])\n",
      "Camila Cabello\n",
      "Selena Gomez\n",
      "Demi Lovato\n",
      "Doja Cat\n",
      "Dua Lipa\n",
      "Katy Perry\n",
      "Shawn Mendes\n",
      "Olivia Rodrigo\n",
      "Fifth Harmony\n",
      "Nicki Minaj\n",
      "Little Mix\n",
      "Cardi B\n",
      "Meghan Trainor\n",
      "Miley Cyrus\n",
      "Halsey\n",
      "Sabrina Carpenter\n",
      "Billie Eilish\n",
      "Harry Styles\n",
      "ZAYN\n",
      "Rihanna\n"
     ]
    }
   ],
   "source": [
    "related_artists = sp.artist_related_artists(artist_id)\n",
    "print(related_artists[\"artists\"][0].keys())\n",
    "for related_artist in related_artists[\"artists\"]:\n",
    "    print(related_artist[\"name\"])"
   ]
  },
  {
   "cell_type": "markdown",
   "metadata": {},
   "source": [
    "ALBUM"
   ]
  },
  {
   "cell_type": "code",
   "execution_count": null,
   "metadata": {},
   "outputs": [],
   "source": [
    "album_id = \"2j2pVa9Bw4UcXeWMFkq13K\"\n",
    "album_info = sp.album(album_id)\n",
    "print(album_info)"
   ]
  },
  {
   "cell_type": "code",
   "execution_count": 53,
   "metadata": {},
   "outputs": [
    {
     "name": "stdout",
     "output_type": "stream",
     "text": [
      "album_type <class 'str'>\n",
      "artists <class 'list'>\n",
      "available_markets <class 'list'>\n",
      "copyrights <class 'list'>\n",
      "external_ids <class 'dict'>\n",
      "external_urls <class 'dict'>\n",
      "genres <class 'list'>\n",
      "href <class 'str'>\n",
      "id <class 'str'>\n",
      "images <class 'list'>\n",
      "label <class 'str'>\n",
      "name <class 'str'>\n",
      "popularity <class 'int'>\n",
      "release_date <class 'str'>\n",
      "release_date_precision <class 'str'>\n",
      "total_tracks <class 'int'>\n",
      "tracks <class 'dict'>\n",
      "type <class 'str'>\n",
      "uri <class 'str'>\n",
      "dict_keys(['href', 'items', 'limit', 'next', 'offset', 'previous', 'total'])\n"
     ]
    }
   ],
   "source": [
    "for key in album_info.keys():\n",
    "    print(key, type(album_info[key]))"
   ]
  },
  {
   "cell_type": "code",
   "execution_count": null,
   "metadata": {},
   "outputs": [],
   "source": [
    "for key in album_info.keys():\n",
    "    print(f\"{key} ::: \", album_info[key])\n",
    "    print(\"\\n\")"
   ]
  },
  {
   "cell_type": "code",
   "execution_count": 56,
   "metadata": {},
   "outputs": [
    {
     "name": "stdout",
     "output_type": "stream",
     "text": [
      "dict_keys(['href', 'items', 'limit', 'next', 'offset', 'previous', 'total'])\n",
      "dict_keys(['artists', 'available_markets', 'disc_number', 'duration_ms', 'explicit', 'external_urls', 'href', 'id', 'is_local', 'name', 'preview_url', 'track_number', 'type', 'uri'])\n",
      "artists <class 'list'>\n",
      "available_markets <class 'list'>\n",
      "disc_number <class 'int'>\n",
      "duration_ms <class 'int'>\n",
      "explicit <class 'bool'>\n",
      "external_urls <class 'dict'>\n",
      "href <class 'str'>\n",
      "id <class 'str'>\n",
      "is_local <class 'bool'>\n",
      "name <class 'str'>\n",
      "preview_url <class 'str'>\n",
      "track_number <class 'int'>\n",
      "type <class 'str'>\n",
      "uri <class 'str'>\n"
     ]
    }
   ],
   "source": [
    "print(album_info[\"tracks\"].keys())\n",
    "print(album_info[\"tracks\"][\"items\"][0].keys())\n",
    "for key in album_info[\"tracks\"][\"items\"][0].keys():\n",
    "    print(key, type(album_info[\"tracks\"][\"items\"][0][key]))\n"
   ]
  },
  {
   "cell_type": "code",
   "execution_count": null,
   "metadata": {},
   "outputs": [],
   "source": [
    "# dataframe with album info\n",
    "# proviamo stavolta al posto di mettere gli id, usiamo artist_albums"
   ]
  },
  {
   "cell_type": "markdown",
   "metadata": {},
   "source": [
    "artist_albums"
   ]
  },
  {
   "cell_type": "code",
   "execution_count": 58,
   "metadata": {},
   "outputs": [],
   "source": [
    "artist_album_info = sp.artist_albums(artist_id)"
   ]
  },
  {
   "cell_type": "code",
   "execution_count": 64,
   "metadata": {},
   "outputs": [
    {
     "data": {
      "text/plain": [
       "['5Csjy4XeA7KnizkhIvI7y2',\n",
       " '5EYKrEDnKhhcNxGedaRQeK',\n",
       " '2VSBGJ8bUuNgmOYXHIQagM',\n",
       " '74vajFwEwXJ61OW1DKSPEa',\n",
       " '3euz4vS7ezKGnNSwgyvKcd',\n",
       " '5UACk85y1hNRSUtY0ss8pb',\n",
       " '2fYhqwDWXjbpjaIJPEfKFw',\n",
       " '3tx8gQqWbGwqIGZHqDNrGe',\n",
       " '5X7x18kW3mVIvnuNeedM6b',\n",
       " '2LFT0OnfZzsvjcU7bNMM7W',\n",
       " '6EVYTRG1drKdO8OnIQBeEj',\n",
       " '6czdbbMtGbAkZ6ud2OMTcg',\n",
       " '7cE0lgNHmBxutHd5g4D3q8',\n",
       " '6mNdtZhr5zcz2SLzyPxweY',\n",
       " '7vvPJ2BSUaS8C4dhl3aiYP',\n",
       " '0kHBlnc69hLOSyXAZn2yeX',\n",
       " '61dUL51qxsxQJMdai6HiUH',\n",
       " '0RhZMUvozZXn2at1sfSogT',\n",
       " '1w57IHe5xULHB4DchPXoFD',\n",
       " '1K9Kpjfdj7Y3MHxuq3M6TK']"
      ]
     },
     "execution_count": 64,
     "metadata": {},
     "output_type": "execute_result"
    }
   ],
   "source": [
    "artist_album_info.keys()\n",
    "artist_album_info[\"items\"][0].keys()\n",
    "# a noi interessa gli id degli album\n",
    "artist_album_info[\"items\"][0][\"id\"]\n",
    "\n",
    "album_ids = []\n",
    "for album in artist_album_info[\"items\"]:\n",
    "    album_ids.append(album[\"id\"])\n",
    "album_ids"
   ]
  },
  {
   "cell_type": "code",
   "execution_count": 70,
   "metadata": {},
   "outputs": [],
   "source": [
    "# torniamo a costruirci il dataframe degli album ora\n",
    "albums_info = []\n",
    "for album_id in album_ids:\n",
    "    album_info = sp.album(album_id)\n",
    "    row = {\n",
    "        \"name\": album_info[\"name\"],\n",
    "        \"release_date\": album_info[\"release_date\"],\n",
    "        \"total_tracks\": album_info[\"total_tracks\"],\n",
    "        \"popularity\": album_info[\"popularity\"],\n",
    "    }\n",
    "    time.sleep(0.3)\n",
    "    albums_info.append(row)\n",
    "albums_df = pd.DataFrame(albums_info)"
   ]
  },
  {
   "cell_type": "code",
   "execution_count": 71,
   "metadata": {},
   "outputs": [
    {
     "data": {
      "text/html": [
       "<div>\n",
       "<style scoped>\n",
       "    .dataframe tbody tr th:only-of-type {\n",
       "        vertical-align: middle;\n",
       "    }\n",
       "\n",
       "    .dataframe tbody tr th {\n",
       "        vertical-align: top;\n",
       "    }\n",
       "\n",
       "    .dataframe thead th {\n",
       "        text-align: right;\n",
       "    }\n",
       "</style>\n",
       "<table border=\"1\" class=\"dataframe\">\n",
       "  <thead>\n",
       "    <tr style=\"text-align: right;\">\n",
       "      <th></th>\n",
       "      <th>name</th>\n",
       "      <th>release_date</th>\n",
       "      <th>total_tracks</th>\n",
       "      <th>popularity</th>\n",
       "    </tr>\n",
       "  </thead>\n",
       "  <tbody>\n",
       "    <tr>\n",
       "      <th>1</th>\n",
       "      <td>eternal sunshine</td>\n",
       "      <td>2024-03-08</td>\n",
       "      <td>13</td>\n",
       "      <td>100</td>\n",
       "    </tr>\n",
       "    <tr>\n",
       "      <th>0</th>\n",
       "      <td>eternal sunshine (slightly deluxe)</td>\n",
       "      <td>2024-03-11</td>\n",
       "      <td>17</td>\n",
       "      <td>88</td>\n",
       "    </tr>\n",
       "    <tr>\n",
       "      <th>6</th>\n",
       "      <td>thank u, next</td>\n",
       "      <td>2019-02-08</td>\n",
       "      <td>12</td>\n",
       "      <td>87</td>\n",
       "    </tr>\n",
       "    <tr>\n",
       "      <th>10</th>\n",
       "      <td>My Everything (Deluxe)</td>\n",
       "      <td>2014-08-22</td>\n",
       "      <td>15</td>\n",
       "      <td>85</td>\n",
       "    </tr>\n",
       "    <tr>\n",
       "      <th>4</th>\n",
       "      <td>Positions</td>\n",
       "      <td>2020-10-30</td>\n",
       "      <td>14</td>\n",
       "      <td>84</td>\n",
       "    </tr>\n",
       "    <tr>\n",
       "      <th>7</th>\n",
       "      <td>Sweetener</td>\n",
       "      <td>2018-08-17</td>\n",
       "      <td>15</td>\n",
       "      <td>82</td>\n",
       "    </tr>\n",
       "    <tr>\n",
       "      <th>8</th>\n",
       "      <td>Dangerous Woman</td>\n",
       "      <td>2016-05-20</td>\n",
       "      <td>17</td>\n",
       "      <td>75</td>\n",
       "    </tr>\n",
       "    <tr>\n",
       "      <th>11</th>\n",
       "      <td>Yours Truly</td>\n",
       "      <td>2013-01-01</td>\n",
       "      <td>12</td>\n",
       "      <td>75</td>\n",
       "    </tr>\n",
       "    <tr>\n",
       "      <th>3</th>\n",
       "      <td>Positions (Deluxe)</td>\n",
       "      <td>2021-02-19</td>\n",
       "      <td>19</td>\n",
       "      <td>72</td>\n",
       "    </tr>\n",
       "    <tr>\n",
       "      <th>2</th>\n",
       "      <td>Yours Truly (Tenth Anniversary Edition)</td>\n",
       "      <td>2023-08-25</td>\n",
       "      <td>19</td>\n",
       "      <td>65</td>\n",
       "    </tr>\n",
       "    <tr>\n",
       "      <th>5</th>\n",
       "      <td>k bye for now (swt live)</td>\n",
       "      <td>2019-12-23</td>\n",
       "      <td>32</td>\n",
       "      <td>62</td>\n",
       "    </tr>\n",
       "    <tr>\n",
       "      <th>12</th>\n",
       "      <td>yes, and?</td>\n",
       "      <td>2024-02-16</td>\n",
       "      <td>1</td>\n",
       "      <td>62</td>\n",
       "    </tr>\n",
       "    <tr>\n",
       "      <th>13</th>\n",
       "      <td>yes, and?</td>\n",
       "      <td>2024-01-18</td>\n",
       "      <td>8</td>\n",
       "      <td>59</td>\n",
       "    </tr>\n",
       "    <tr>\n",
       "      <th>15</th>\n",
       "      <td>yes, and? (remixes)</td>\n",
       "      <td>2024-01-12</td>\n",
       "      <td>3</td>\n",
       "      <td>50</td>\n",
       "    </tr>\n",
       "    <tr>\n",
       "      <th>14</th>\n",
       "      <td>yes, and? (remixes)</td>\n",
       "      <td>2024-01-12</td>\n",
       "      <td>3</td>\n",
       "      <td>35</td>\n",
       "    </tr>\n",
       "    <tr>\n",
       "      <th>9</th>\n",
       "      <td>My Everything (Italian Edition)</td>\n",
       "      <td>2015-06-30</td>\n",
       "      <td>18</td>\n",
       "      <td>32</td>\n",
       "    </tr>\n",
       "    <tr>\n",
       "      <th>17</th>\n",
       "      <td>yes, and? (Jonas Blue Remix)</td>\n",
       "      <td>2024-01-12</td>\n",
       "      <td>1</td>\n",
       "      <td>21</td>\n",
       "    </tr>\n",
       "    <tr>\n",
       "      <th>16</th>\n",
       "      <td>yes, and? (The Blessed Madonna’s Godsquad Mix)</td>\n",
       "      <td>2024-01-12</td>\n",
       "      <td>1</td>\n",
       "      <td>20</td>\n",
       "    </tr>\n",
       "    <tr>\n",
       "      <th>19</th>\n",
       "      <td>yes, and? (Felix Jaehn Remix)</td>\n",
       "      <td>2024-01-12</td>\n",
       "      <td>1</td>\n",
       "      <td>19</td>\n",
       "    </tr>\n",
       "    <tr>\n",
       "      <th>18</th>\n",
       "      <td>yes, and? (Felix Jaehn Remix)</td>\n",
       "      <td>2024-01-12</td>\n",
       "      <td>1</td>\n",
       "      <td>16</td>\n",
       "    </tr>\n",
       "  </tbody>\n",
       "</table>\n",
       "</div>"
      ],
      "text/plain": [
       "                                              name release_date  total_tracks  \\\n",
       "1                                 eternal sunshine   2024-03-08            13   \n",
       "0               eternal sunshine (slightly deluxe)   2024-03-11            17   \n",
       "6                                    thank u, next   2019-02-08            12   \n",
       "10                          My Everything (Deluxe)   2014-08-22            15   \n",
       "4                                        Positions   2020-10-30            14   \n",
       "7                                        Sweetener   2018-08-17            15   \n",
       "8                                  Dangerous Woman   2016-05-20            17   \n",
       "11                                     Yours Truly   2013-01-01            12   \n",
       "3                               Positions (Deluxe)   2021-02-19            19   \n",
       "2          Yours Truly (Tenth Anniversary Edition)   2023-08-25            19   \n",
       "5                         k bye for now (swt live)   2019-12-23            32   \n",
       "12                                       yes, and?   2024-02-16             1   \n",
       "13                                       yes, and?   2024-01-18             8   \n",
       "15                             yes, and? (remixes)   2024-01-12             3   \n",
       "14                             yes, and? (remixes)   2024-01-12             3   \n",
       "9                  My Everything (Italian Edition)   2015-06-30            18   \n",
       "17                    yes, and? (Jonas Blue Remix)   2024-01-12             1   \n",
       "16  yes, and? (The Blessed Madonna’s Godsquad Mix)   2024-01-12             1   \n",
       "19                   yes, and? (Felix Jaehn Remix)   2024-01-12             1   \n",
       "18                   yes, and? (Felix Jaehn Remix)   2024-01-12             1   \n",
       "\n",
       "    popularity  \n",
       "1          100  \n",
       "0           88  \n",
       "6           87  \n",
       "10          85  \n",
       "4           84  \n",
       "7           82  \n",
       "8           75  \n",
       "11          75  \n",
       "3           72  \n",
       "2           65  \n",
       "5           62  \n",
       "12          62  \n",
       "13          59  \n",
       "15          50  \n",
       "14          35  \n",
       "9           32  \n",
       "17          21  \n",
       "16          20  \n",
       "19          19  \n",
       "18          16  "
      ]
     },
     "execution_count": 71,
     "metadata": {},
     "output_type": "execute_result"
    }
   ],
   "source": [
    "# ordiniamo per popolarità\n",
    "albums_df.sort_values(\"popularity\", ascending=False)"
   ]
  },
  {
   "cell_type": "markdown",
   "metadata": {},
   "source": [
    "TRACKS"
   ]
  },
  {
   "cell_type": "code",
   "execution_count": 81,
   "metadata": {},
   "outputs": [
    {
     "name": "stdout",
     "output_type": "stream",
     "text": [
      "{'album': {'album_type': 'single', 'artists': [{'external_urls': {'spotify': 'https://open.spotify.com/artist/2RfscHz3ooemLWvQslMeqm'}, 'href': 'https://api.spotify.com/v1/artists/2RfscHz3ooemLWvQslMeqm', 'id': '2RfscHz3ooemLWvQslMeqm', 'name': 'Glass Trio', 'type': 'artist', 'uri': 'spotify:artist:2RfscHz3ooemLWvQslMeqm'}], 'available_markets': ['AR', 'AU', 'AT', 'BE', 'BO', 'BR', 'BG', 'CA', 'CL', 'CO', 'CR', 'CY', 'CZ', 'DK', 'DO', 'DE', 'EC', 'EE', 'SV', 'FI', 'FR', 'GR', 'GT', 'HN', 'HK', 'HU', 'IS', 'IE', 'IT', 'LV', 'LT', 'LU', 'MY', 'MT', 'MX', 'NL', 'NZ', 'NI', 'NO', 'PA', 'PY', 'PE', 'PH', 'PL', 'PT', 'SG', 'SK', 'ES', 'SE', 'CH', 'TW', 'TR', 'UY', 'US', 'GB', 'AD', 'LI', 'MC', 'ID', 'JP', 'TH', 'VN', 'RO', 'IL', 'ZA', 'SA', 'AE', 'BH', 'QA', 'OM', 'KW', 'EG', 'MA', 'DZ', 'TN', 'LB', 'JO', 'PS', 'IN', 'BY', 'KZ', 'MD', 'UA', 'AL', 'BA', 'HR', 'ME', 'MK', 'RS', 'SI', 'KR', 'BD', 'PK', 'LK', 'GH', 'KE', 'NG', 'TZ', 'UG', 'AG', 'AM', 'BS', 'BB', 'BZ', 'BT', 'BW', 'BF', 'CV', 'CW', 'DM', 'FJ', 'GM', 'GE', 'GD', 'GW', 'GY', 'HT', 'JM', 'KI', 'LS', 'LR', 'MW', 'MV', 'ML', 'MH', 'FM', 'NA', 'NR', 'NE', 'PW', 'PG', 'PR', 'WS', 'SM', 'ST', 'SN', 'SC', 'SL', 'SB', 'KN', 'LC', 'VC', 'SR', 'TL', 'TO', 'TT', 'TV', 'VU', 'AZ', 'BN', 'BI', 'KH', 'CM', 'TD', 'KM', 'GQ', 'SZ', 'GA', 'GN', 'KG', 'LA', 'MO', 'MR', 'MN', 'NP', 'RW', 'TG', 'UZ', 'ZW', 'BJ', 'MG', 'MU', 'MZ', 'AO', 'CI', 'DJ', 'ZM', 'CD', 'CG', 'IQ', 'LY', 'TJ', 'VE', 'ET', 'XK'], 'external_urls': {'spotify': 'https://open.spotify.com/album/2LkaBy0R9FbEBd6xqsT0ja'}, 'href': 'https://api.spotify.com/v1/albums/2LkaBy0R9FbEBd6xqsT0ja', 'id': '2LkaBy0R9FbEBd6xqsT0ja', 'images': [{'height': 640, 'url': 'https://i.scdn.co/image/ab67616d0000b27355798b97e34f77484cc6b9cd', 'width': 640}, {'height': 300, 'url': 'https://i.scdn.co/image/ab67616d00001e0255798b97e34f77484cc6b9cd', 'width': 300}, {'height': 64, 'url': 'https://i.scdn.co/image/ab67616d0000485155798b97e34f77484cc6b9cd', 'width': 64}], 'name': 'Nightcaps', 'release_date': '2023-02-12', 'release_date_precision': 'day', 'total_tracks': 3, 'type': 'album', 'uri': 'spotify:album:2LkaBy0R9FbEBd6xqsT0ja'}, 'artists': [{'external_urls': {'spotify': 'https://open.spotify.com/artist/2RfscHz3ooemLWvQslMeqm'}, 'href': 'https://api.spotify.com/v1/artists/2RfscHz3ooemLWvQslMeqm', 'id': '2RfscHz3ooemLWvQslMeqm', 'name': 'Glass Trio', 'type': 'artist', 'uri': 'spotify:artist:2RfscHz3ooemLWvQslMeqm'}], 'available_markets': ['AR', 'AU', 'AT', 'BE', 'BO', 'BR', 'BG', 'CA', 'CL', 'CO', 'CR', 'CY', 'CZ', 'DK', 'DO', 'DE', 'EC', 'EE', 'SV', 'FI', 'FR', 'GR', 'GT', 'HN', 'HK', 'HU', 'IS', 'IE', 'IT', 'LV', 'LT', 'LU', 'MY', 'MT', 'MX', 'NL', 'NZ', 'NI', 'NO', 'PA', 'PY', 'PE', 'PH', 'PL', 'PT', 'SG', 'SK', 'ES', 'SE', 'CH', 'TW', 'TR', 'UY', 'US', 'GB', 'AD', 'LI', 'MC', 'ID', 'JP', 'TH', 'VN', 'RO', 'IL', 'ZA', 'SA', 'AE', 'BH', 'QA', 'OM', 'KW', 'EG', 'MA', 'DZ', 'TN', 'LB', 'JO', 'PS', 'IN', 'BY', 'KZ', 'MD', 'UA', 'AL', 'BA', 'HR', 'ME', 'MK', 'RS', 'SI', 'KR', 'BD', 'PK', 'LK', 'GH', 'KE', 'NG', 'TZ', 'UG', 'AG', 'AM', 'BS', 'BB', 'BZ', 'BT', 'BW', 'BF', 'CV', 'CW', 'DM', 'FJ', 'GM', 'GE', 'GD', 'GW', 'GY', 'HT', 'JM', 'KI', 'LS', 'LR', 'MW', 'MV', 'ML', 'MH', 'FM', 'NA', 'NR', 'NE', 'PW', 'PG', 'PR', 'WS', 'SM', 'ST', 'SN', 'SC', 'SL', 'SB', 'KN', 'LC', 'VC', 'SR', 'TL', 'TO', 'TT', 'TV', 'VU', 'AZ', 'BN', 'BI', 'KH', 'CM', 'TD', 'KM', 'GQ', 'SZ', 'GA', 'GN', 'KG', 'LA', 'MO', 'MR', 'MN', 'NP', 'RW', 'TG', 'UZ', 'ZW', 'BJ', 'MG', 'MU', 'MZ', 'AO', 'CI', 'DJ', 'ZM', 'CD', 'CG', 'IQ', 'LY', 'TJ', 'VE', 'ET', 'XK'], 'disc_number': 1, 'duration_ms': 169863, 'explicit': False, 'external_ids': {'isrc': 'QZAKB2316253'}, 'external_urls': {'spotify': 'https://open.spotify.com/track/2nUhKiUfVdLcGmcdYHdjBw'}, 'href': 'https://api.spotify.com/v1/tracks/2nUhKiUfVdLcGmcdYHdjBw', 'id': '2nUhKiUfVdLcGmcdYHdjBw', 'is_local': False, 'name': 'Last Call', 'popularity': 62, 'preview_url': 'https://p.scdn.co/mp3-preview/36dc7c6046ba9067afac993c886469c36aca7c4e?cid=05f008692c1648b282db2dd791e8b4be', 'track_number': 3, 'type': 'track', 'uri': 'spotify:track:2nUhKiUfVdLcGmcdYHdjBw'}\n"
     ]
    }
   ],
   "source": [
    "track_id = \"2nUhKiUfVdLcGmcdYHdjBw\"\n",
    "track_info = sp.track(track_id)\n",
    "print(track_info)"
   ]
  },
  {
   "cell_type": "code",
   "execution_count": 83,
   "metadata": {},
   "outputs": [
    {
     "name": "stdout",
     "output_type": "stream",
     "text": [
      "album <class 'dict'>\n",
      "artists <class 'list'>\n",
      "available_markets <class 'list'>\n",
      "disc_number <class 'int'>\n",
      "duration_ms <class 'int'>\n",
      "explicit <class 'bool'>\n",
      "external_ids <class 'dict'>\n",
      "external_urls <class 'dict'>\n",
      "href <class 'str'>\n",
      "id <class 'str'>\n",
      "is_local <class 'bool'>\n",
      "name <class 'str'>\n",
      "popularity <class 'int'>\n",
      "preview_url <class 'str'>\n",
      "track_number <class 'int'>\n",
      "type <class 'str'>\n",
      "uri <class 'str'>\n"
     ]
    }
   ],
   "source": [
    "for key in track_info.keys():\n",
    "    print(key, type(track_info[key]))"
   ]
  },
  {
   "cell_type": "code",
   "execution_count": 84,
   "metadata": {},
   "outputs": [
    {
     "name": "stdout",
     "output_type": "stream",
     "text": [
      "[{'danceability': 0.51, 'energy': 0.189, 'key': 6, 'loudness': -15.775, 'mode': 1, 'speechiness': 0.0341, 'acousticness': 0.972, 'instrumentalness': 0.928, 'liveness': 0.1, 'valence': 0.216, 'tempo': 103.792, 'type': 'audio_features', 'id': '2nUhKiUfVdLcGmcdYHdjBw', 'uri': 'spotify:track:2nUhKiUfVdLcGmcdYHdjBw', 'track_href': 'https://api.spotify.com/v1/tracks/2nUhKiUfVdLcGmcdYHdjBw', 'analysis_url': 'https://api.spotify.com/v1/audio-analysis/2nUhKiUfVdLcGmcdYHdjBw', 'duration_ms': 169863, 'time_signature': 4}]\n"
     ]
    }
   ],
   "source": [
    "# c'è un altro endpoint che ci permette di ottenere le features di una traccia\n",
    "track_features = sp.audio_features(track_id)\n",
    "print(track_features)\n"
   ]
  },
  {
   "cell_type": "code",
   "execution_count": 87,
   "metadata": {},
   "outputs": [
    {
     "name": "stdout",
     "output_type": "stream",
     "text": [
      "['51ZQ1vr10ffzbwIjDCwqm4', '5D34wRmbFS29AjtTOP2QJe', '2o1pb13quMReXZqE7jWsgq', '0Lmbke3KNVFXtoH2mMSHCw', '1Rweq7vNjK4kZBbGrmxQsl', '3RwWW7KeVhHGayYJgUL5eZ', '142PiXzA84lmEw2RstFHFa', '0o3ua5ufFK7nfRzbDUNoGA', '4W4fNrZYkobj539TOWsLO2', '1oFAF1hdPOickyHgbuRjyX']\n"
     ]
    }
   ],
   "source": [
    "# dataframe with track info\n",
    "# proviamo stavolta al posto di mettere gli id, usiamo artist_top_tracks di un artista\n",
    "artist_top_ids = []\n",
    "for track in artist_top[\"tracks\"]:\n",
    "    artist_top_ids.append(track[\"id\"])\n",
    "print(artist_top_ids)"
   ]
  },
  {
   "cell_type": "code",
   "execution_count": 91,
   "metadata": {},
   "outputs": [],
   "source": [
    "# uniamo le informazioni della traccia con le sue features per le top tracks di un artista\n",
    "tracks_info = []\n",
    "for track_id in artist_top_ids:\n",
    "    track_info = sp.track(track_id)\n",
    "    track_features = sp.audio_features(track_id)[0]\n",
    "    row = {\n",
    "        \"name\": track_info[\"name\"],\n",
    "        \"artist\": track_info[\"artists\"][0][\"name\"],\n",
    "        \"album\": track_info[\"album\"][\"name\"],\n",
    "        \"duration_ms\": track_info[\"duration_ms\"],\n",
    "        \"popularity\": track_info[\"popularity\"],\n",
    "        \"acousticness\": track_features[\"acousticness\"],\n",
    "        \"danceability\": track_features[\"danceability\"],\n",
    "        \"energy\": track_features[\"energy\"],\n",
    "        \"instrumentalness\": track_features[\"instrumentalness\"],\n",
    "        \"liveness\": track_features[\"liveness\"],\n",
    "        \"loudness\": track_features[\"loudness\"],\n",
    "        \"speechiness\": track_features[\"speechiness\"],\n",
    "        \"tempo\": track_features[\"tempo\"],\n",
    "        \"valence\": track_features[\"valence\"],\n",
    "    }\n",
    "    time.sleep(0.3)\n",
    "    tracks_info.append(row)"
   ]
  },
  {
   "cell_type": "code",
   "execution_count": 92,
   "metadata": {},
   "outputs": [
    {
     "data": {
      "text/html": [
       "<div>\n",
       "<style scoped>\n",
       "    .dataframe tbody tr th:only-of-type {\n",
       "        vertical-align: middle;\n",
       "    }\n",
       "\n",
       "    .dataframe tbody tr th {\n",
       "        vertical-align: top;\n",
       "    }\n",
       "\n",
       "    .dataframe thead th {\n",
       "        text-align: right;\n",
       "    }\n",
       "</style>\n",
       "<table border=\"1\" class=\"dataframe\">\n",
       "  <thead>\n",
       "    <tr style=\"text-align: right;\">\n",
       "      <th></th>\n",
       "      <th>name</th>\n",
       "      <th>artist</th>\n",
       "      <th>album</th>\n",
       "      <th>duration_ms</th>\n",
       "      <th>popularity</th>\n",
       "      <th>acousticness</th>\n",
       "      <th>danceability</th>\n",
       "      <th>energy</th>\n",
       "      <th>instrumentalness</th>\n",
       "      <th>liveness</th>\n",
       "      <th>loudness</th>\n",
       "      <th>speechiness</th>\n",
       "      <th>tempo</th>\n",
       "      <th>valence</th>\n",
       "    </tr>\n",
       "  </thead>\n",
       "  <tbody>\n",
       "    <tr>\n",
       "      <th>0</th>\n",
       "      <td>we can't be friends (wait for your love)</td>\n",
       "      <td>Ariana Grande</td>\n",
       "      <td>eternal sunshine</td>\n",
       "      <td>228639</td>\n",
       "      <td>95</td>\n",
       "      <td>0.0657</td>\n",
       "      <td>0.645</td>\n",
       "      <td>0.663</td>\n",
       "      <td>0.000032</td>\n",
       "      <td>0.0751</td>\n",
       "      <td>-8.305</td>\n",
       "      <td>0.0447</td>\n",
       "      <td>115.830</td>\n",
       "      <td>0.287</td>\n",
       "    </tr>\n",
       "    <tr>\n",
       "      <th>1</th>\n",
       "      <td>yes, and?</td>\n",
       "      <td>Ariana Grande</td>\n",
       "      <td>eternal sunshine</td>\n",
       "      <td>214994</td>\n",
       "      <td>85</td>\n",
       "      <td>0.1940</td>\n",
       "      <td>0.785</td>\n",
       "      <td>0.766</td>\n",
       "      <td>0.000076</td>\n",
       "      <td>0.1070</td>\n",
       "      <td>-6.551</td>\n",
       "      <td>0.0503</td>\n",
       "      <td>119.029</td>\n",
       "      <td>0.804</td>\n",
       "    </tr>\n",
       "    <tr>\n",
       "      <th>2</th>\n",
       "      <td>intro (end of the world)</td>\n",
       "      <td>Ariana Grande</td>\n",
       "      <td>eternal sunshine</td>\n",
       "      <td>92400</td>\n",
       "      <td>90</td>\n",
       "      <td>0.6710</td>\n",
       "      <td>0.501</td>\n",
       "      <td>0.373</td>\n",
       "      <td>0.000000</td>\n",
       "      <td>0.1770</td>\n",
       "      <td>-9.488</td>\n",
       "      <td>0.0493</td>\n",
       "      <td>84.682</td>\n",
       "      <td>0.380</td>\n",
       "    </tr>\n",
       "    <tr>\n",
       "      <th>3</th>\n",
       "      <td>the boy is mine</td>\n",
       "      <td>Ariana Grande</td>\n",
       "      <td>eternal sunshine</td>\n",
       "      <td>173639</td>\n",
       "      <td>90</td>\n",
       "      <td>0.1490</td>\n",
       "      <td>0.796</td>\n",
       "      <td>0.623</td>\n",
       "      <td>0.000000</td>\n",
       "      <td>0.0746</td>\n",
       "      <td>-5.819</td>\n",
       "      <td>0.0522</td>\n",
       "      <td>98.003</td>\n",
       "      <td>0.443</td>\n",
       "    </tr>\n",
       "    <tr>\n",
       "      <th>4</th>\n",
       "      <td>bye</td>\n",
       "      <td>Ariana Grande</td>\n",
       "      <td>eternal sunshine</td>\n",
       "      <td>164927</td>\n",
       "      <td>88</td>\n",
       "      <td>0.2170</td>\n",
       "      <td>0.638</td>\n",
       "      <td>0.647</td>\n",
       "      <td>0.000000</td>\n",
       "      <td>0.1560</td>\n",
       "      <td>-4.834</td>\n",
       "      <td>0.0280</td>\n",
       "      <td>110.003</td>\n",
       "      <td>0.510</td>\n",
       "    </tr>\n",
       "    <tr>\n",
       "      <th>5</th>\n",
       "      <td>eternal sunshine</td>\n",
       "      <td>Ariana Grande</td>\n",
       "      <td>eternal sunshine</td>\n",
       "      <td>210200</td>\n",
       "      <td>87</td>\n",
       "      <td>0.5370</td>\n",
       "      <td>0.658</td>\n",
       "      <td>0.505</td>\n",
       "      <td>0.000000</td>\n",
       "      <td>0.1130</td>\n",
       "      <td>-6.947</td>\n",
       "      <td>0.1050</td>\n",
       "      <td>159.947</td>\n",
       "      <td>0.331</td>\n",
       "    </tr>\n",
       "    <tr>\n",
       "      <th>6</th>\n",
       "      <td>supernatural</td>\n",
       "      <td>Ariana Grande</td>\n",
       "      <td>eternal sunshine</td>\n",
       "      <td>163381</td>\n",
       "      <td>86</td>\n",
       "      <td>0.0971</td>\n",
       "      <td>0.570</td>\n",
       "      <td>0.729</td>\n",
       "      <td>0.000000</td>\n",
       "      <td>0.1280</td>\n",
       "      <td>-6.839</td>\n",
       "      <td>0.1040</td>\n",
       "      <td>76.560</td>\n",
       "      <td>0.519</td>\n",
       "    </tr>\n",
       "    <tr>\n",
       "      <th>7</th>\n",
       "      <td>don't wanna break up again</td>\n",
       "      <td>Ariana Grande</td>\n",
       "      <td>eternal sunshine</td>\n",
       "      <td>174006</td>\n",
       "      <td>85</td>\n",
       "      <td>0.4560</td>\n",
       "      <td>0.410</td>\n",
       "      <td>0.726</td>\n",
       "      <td>0.000000</td>\n",
       "      <td>0.1100</td>\n",
       "      <td>-5.204</td>\n",
       "      <td>0.3300</td>\n",
       "      <td>193.956</td>\n",
       "      <td>0.556</td>\n",
       "    </tr>\n",
       "    <tr>\n",
       "      <th>8</th>\n",
       "      <td>Die For You (with Ariana Grande) - Remix</td>\n",
       "      <td>The Weeknd</td>\n",
       "      <td>Starboy (Deluxe)</td>\n",
       "      <td>232857</td>\n",
       "      <td>82</td>\n",
       "      <td>0.2270</td>\n",
       "      <td>0.575</td>\n",
       "      <td>0.500</td>\n",
       "      <td>0.000000</td>\n",
       "      <td>0.3350</td>\n",
       "      <td>-7.594</td>\n",
       "      <td>0.0707</td>\n",
       "      <td>67.033</td>\n",
       "      <td>0.506</td>\n",
       "    </tr>\n",
       "    <tr>\n",
       "      <th>9</th>\n",
       "      <td>Save Your Tears (Remix) (with Ariana Grande) -...</td>\n",
       "      <td>The Weeknd</td>\n",
       "      <td>After Hours (Deluxe)</td>\n",
       "      <td>191013</td>\n",
       "      <td>81</td>\n",
       "      <td>0.0215</td>\n",
       "      <td>0.650</td>\n",
       "      <td>0.825</td>\n",
       "      <td>0.000024</td>\n",
       "      <td>0.0936</td>\n",
       "      <td>-4.645</td>\n",
       "      <td>0.0325</td>\n",
       "      <td>118.091</td>\n",
       "      <td>0.593</td>\n",
       "    </tr>\n",
       "  </tbody>\n",
       "</table>\n",
       "</div>"
      ],
      "text/plain": [
       "                                                name         artist  \\\n",
       "0           we can't be friends (wait for your love)  Ariana Grande   \n",
       "1                                          yes, and?  Ariana Grande   \n",
       "2                           intro (end of the world)  Ariana Grande   \n",
       "3                                    the boy is mine  Ariana Grande   \n",
       "4                                                bye  Ariana Grande   \n",
       "5                                   eternal sunshine  Ariana Grande   \n",
       "6                                       supernatural  Ariana Grande   \n",
       "7                         don't wanna break up again  Ariana Grande   \n",
       "8           Die For You (with Ariana Grande) - Remix     The Weeknd   \n",
       "9  Save Your Tears (Remix) (with Ariana Grande) -...     The Weeknd   \n",
       "\n",
       "                  album  duration_ms  popularity  acousticness  danceability  \\\n",
       "0      eternal sunshine       228639          95        0.0657         0.645   \n",
       "1      eternal sunshine       214994          85        0.1940         0.785   \n",
       "2      eternal sunshine        92400          90        0.6710         0.501   \n",
       "3      eternal sunshine       173639          90        0.1490         0.796   \n",
       "4      eternal sunshine       164927          88        0.2170         0.638   \n",
       "5      eternal sunshine       210200          87        0.5370         0.658   \n",
       "6      eternal sunshine       163381          86        0.0971         0.570   \n",
       "7      eternal sunshine       174006          85        0.4560         0.410   \n",
       "8      Starboy (Deluxe)       232857          82        0.2270         0.575   \n",
       "9  After Hours (Deluxe)       191013          81        0.0215         0.650   \n",
       "\n",
       "   energy  instrumentalness  liveness  loudness  speechiness    tempo  valence  \n",
       "0   0.663          0.000032    0.0751    -8.305       0.0447  115.830    0.287  \n",
       "1   0.766          0.000076    0.1070    -6.551       0.0503  119.029    0.804  \n",
       "2   0.373          0.000000    0.1770    -9.488       0.0493   84.682    0.380  \n",
       "3   0.623          0.000000    0.0746    -5.819       0.0522   98.003    0.443  \n",
       "4   0.647          0.000000    0.1560    -4.834       0.0280  110.003    0.510  \n",
       "5   0.505          0.000000    0.1130    -6.947       0.1050  159.947    0.331  \n",
       "6   0.729          0.000000    0.1280    -6.839       0.1040   76.560    0.519  \n",
       "7   0.726          0.000000    0.1100    -5.204       0.3300  193.956    0.556  \n",
       "8   0.500          0.000000    0.3350    -7.594       0.0707   67.033    0.506  \n",
       "9   0.825          0.000024    0.0936    -4.645       0.0325  118.091    0.593  "
      ]
     },
     "execution_count": 92,
     "metadata": {},
     "output_type": "execute_result"
    }
   ],
   "source": [
    "tracks_df = pd.DataFrame(tracks_info)\n",
    "tracks_df"
   ]
  },
  {
   "cell_type": "code",
   "execution_count": null,
   "metadata": {},
   "outputs": [],
   "source": []
  },
  {
   "cell_type": "code",
   "execution_count": null,
   "metadata": {},
   "outputs": [],
   "source": []
  },
  {
   "cell_type": "code",
   "execution_count": null,
   "metadata": {},
   "outputs": [],
   "source": []
  },
  {
   "cell_type": "code",
   "execution_count": null,
   "metadata": {},
   "outputs": [],
   "source": []
  },
  {
   "cell_type": "code",
   "execution_count": null,
   "metadata": {},
   "outputs": [],
   "source": []
  },
  {
   "cell_type": "code",
   "execution_count": null,
   "metadata": {},
   "outputs": [],
   "source": []
  },
  {
   "cell_type": "code",
   "execution_count": null,
   "metadata": {},
   "outputs": [],
   "source": []
  },
  {
   "cell_type": "markdown",
   "metadata": {},
   "source": [
    "### Costruiamo un dataset con tutte le tracks di un artista\n",
    "Guardiamo gli album di un artista"
   ]
  },
  {
   "cell_type": "code",
   "execution_count": null,
   "metadata": {},
   "outputs": [],
   "source": [
    "print(artist_albums[\"items\"][0].keys())\n",
    "artist_name = artist_albums['items'][0]['artists'][0]['name']\n",
    "artist_name = sp.artist(artist_urns[0])['name']\n",
    "print(artist_name)"
   ]
  },
  {
   "cell_type": "code",
   "execution_count": null,
   "metadata": {},
   "outputs": [],
   "source": [
    "artist_urns = ['spotify:artist:6XYvaoDGE0VmRt83Jss9Sn', 'spotify:artist:1Dt1UKLtrJIW1xxRBejjos']\n",
    "music_dataset = {}\n",
    "for artist_urn in artist_urns:\n",
    "    artist_name = sp.artist(artist_urn)['name']\n",
    "    artist_albums = sp.artist_albums(artist_urn, album_type='album', limit=5, offset=0)\n",
    "    music_dataset[artist_name] = {}\n",
    "    for album in range(len(artist_albums['items'])):\n",
    "        album_name = artist_albums['items'][album]['name']\n",
    "        music_dataset[artist_name][album_name] = {'release_date': artist_albums['items'][album]['release_date'],\n",
    "                                                  'tracks': [], \n",
    "                                                  'album_uri': artist_albums['items'][album]['uri']}\n",
    "print(music_dataset)"
   ]
  },
  {
   "cell_type": "markdown",
   "metadata": {},
   "source": [
    "### Extract all the songs from every album\n",
    "Next would be to loop through each album to extract key album track data."
   ]
  },
  {
   "cell_type": "code",
   "execution_count": null,
   "metadata": {},
   "outputs": [],
   "source": [
    "album_tracks = sp.album_tracks(artist_album_uris[0], limit=25, offset=0)\n",
    "print(album_tracks.keys())"
   ]
  },
  {
   "cell_type": "code",
   "execution_count": null,
   "metadata": {},
   "outputs": [],
   "source": [
    "print(album_tracks['items'][0].keys())\n",
    "print(album_tracks['items'][0]['name'])"
   ]
  },
  {
   "cell_type": "code",
   "execution_count": null,
   "metadata": {},
   "outputs": [],
   "source": [
    "for song in range(len(album_tracks['items'])):\n",
    "    print(album_tracks['items'][song]['name'])"
   ]
  },
  {
   "cell_type": "code",
   "execution_count": null,
   "metadata": {},
   "outputs": [],
   "source": [
    "artist_list = list(music_dataset)\n",
    "print(artist_list)"
   ]
  },
  {
   "cell_type": "code",
   "execution_count": null,
   "metadata": {},
   "outputs": [],
   "source": [
    "for artist in list(music_dataset):\n",
    "    for album in list(music_dataset[artist]):\n",
    "        album_uri = music_dataset[artist][album]['album_uri']\n",
    "        album_tracks = sp.album_tracks(album_uri, limit=25, offset=0)\n",
    "        for song in range(len(album_tracks['items'])):\n",
    "            music_dataset[artist][album]['tracks'].append({'track_name': album_tracks['items'][song]['name'],\n",
    "                                                            'track_uri': album_tracks['items'][song]['uri'],\n",
    "                                                            'track_duration': album_tracks['items'][song]['duration_ms'],\n",
    "                                                            'track_number': album_tracks['items'][song]['track_number']})"
   ]
  },
  {
   "cell_type": "code",
   "execution_count": null,
   "metadata": {},
   "outputs": [],
   "source": [
    "print(music_dataset[\"King Gizzard & The Lizard Wizard\"][\"Changes\"])"
   ]
  },
  {
   "cell_type": "markdown",
   "metadata": {},
   "source": [
    "Ora aggiugiamo alle canzoni le caratteristiche sonore"
   ]
  },
  {
   "cell_type": "code",
   "execution_count": null,
   "metadata": {},
   "outputs": [],
   "source": [
    "track_list = [] \n",
    "for track in music_dataset[\"The Blaze\"][\"JUNGLE\"][\"tracks\"]:\n",
    "    track_list.append(track['track_uri'])\n"
   ]
  },
  {
   "cell_type": "code",
   "execution_count": null,
   "metadata": {},
   "outputs": [],
   "source": [
    "sp.audio_features(tracks=track_list)"
   ]
  },
  {
   "cell_type": "markdown",
   "metadata": {},
   "source": [
    "ora ggiugiamo le caratteristiche al nostro dataset"
   ]
  },
  {
   "cell_type": "code",
   "execution_count": null,
   "metadata": {},
   "outputs": [],
   "source": [
    "for artist in list(music_dataset):\n",
    "    for album in list(music_dataset[artist]):\n",
    "        for track in music_dataset[artist][album]['tracks']:\n",
    "            track_uri = track['track_uri']\n",
    "            track_features = sp.audio_features(track_uri)\n",
    "            track['features'] = track_features[0]"
   ]
  },
  {
   "cell_type": "code",
   "execution_count": null,
   "metadata": {},
   "outputs": [],
   "source": [
    "print(music_dataset[\"The Blaze\"][\"JUNGLE\"][\"tracks\"][0])"
   ]
  },
  {
   "cell_type": "markdown",
   "metadata": {},
   "source": [
    "ora trasformiamo il dataset dizionario in un dataframe"
   ]
  },
  {
   "cell_type": "code",
   "execution_count": null,
   "metadata": {},
   "outputs": [],
   "source": [
    "import json\n",
    "import pickle\n",
    "\n",
    "# Specify the file path where you want to save the JSON file\n",
    "file_path = 'music_dataset.json'\n",
    "\n",
    "# Convert the music dataset to JSON format\n",
    "music_dataset_json = json.dumps(music_dataset)\n",
    "\n",
    "# Save the JSON data to a file\n",
    "with open(file_path, 'w') as file:\n",
    "    file.write(music_dataset_json)\n",
    "\n",
    "print(\"Music dataset saved as JSON successfully.\")\n"
   ]
  },
  {
   "cell_type": "code",
   "execution_count": null,
   "metadata": {},
   "outputs": [],
   "source": [
    "print(music_dataset[\"The Blaze\"][\"JUNGLE\"])"
   ]
  },
  {
   "cell_type": "code",
   "execution_count": null,
   "metadata": {},
   "outputs": [],
   "source": [
    "# load the JSON file\n",
    "with open('music_dataset.json', 'r') as file:\n",
    "    json_data = json.load(file)\n",
    "music_dataset = json_data\n",
    "rows = []\n",
    "\n",
    "for artist, albums in json_data.items():\n",
    "    for album_name, album_details in albums.items():\n",
    "        release_date = album_details[\"release_date\"]\n",
    "        for track in album_details[\"tracks\"]:\n",
    "            track_info = {\n",
    "                \"artist\": artist,\n",
    "                \"album_name\": album_name,\n",
    "                \"album_release_date\": release_date,\n",
    "                \"track_name\": track[\"track_name\"],\n",
    "                **track[\"features\"]\n",
    "            }\n",
    "            rows.append(track_info)\n",
    "\n",
    "# Convert the corrected list of dictionaries into a DataFrame\n",
    "df = pd.DataFrame(rows)\n",
    "\n",
    "# save the dataframe as a pickle file\n",
    "df.to_pickle('music_dataset.pkl')\n",
    "\n",
    "# Display the first few rows of the corrected DataFrame to verify\n",
    "df"
   ]
  },
  {
   "cell_type": "markdown",
   "metadata": {},
   "source": [
    "alternartiva a unpacker"
   ]
  },
  {
   "cell_type": "code",
   "execution_count": null,
   "metadata": {},
   "outputs": [],
   "source": [
    "rows = []\n",
    "\n",
    "for artist, albums in json_data.items():\n",
    "    for album_name, album_details in albums.items():\n",
    "        release_date = album_details[\"release_date\"]\n",
    "        for track in album_details[\"tracks\"]:\n",
    "            track_info = {\n",
    "                \"artist\": artist,\n",
    "                \"album_name\": album_name,\n",
    "                \"album_release_date\": release_date,\n",
    "                \"track_name\": track[\"track_name\"],\n",
    "                \"danceability\": track[\"features\"][\"danceability\"],\n",
    "                \"energy\": track[\"features\"][\"energy\"],\n",
    "                \"key\": track[\"features\"][\"key\"],\n",
    "                \"loudness\": track[\"features\"][\"loudness\"],\n",
    "                \"mode\": track[\"features\"][\"mode\"],\n",
    "                \"speechiness\": track[\"features\"][\"speechiness\"],\n",
    "                \"acousticness\": track[\"features\"][\"acousticness\"],\n",
    "                \"instrumentalness\": track[\"features\"][\"instrumentalness\"],\n",
    "                \"liveness\": track[\"features\"][\"liveness\"],\n",
    "                \"valence\": track[\"features\"][\"valence\"],\n",
    "                \"tempo\": track[\"features\"][\"tempo\"],\n",
    "                # ms in minutes\n",
    "                \"duration_min\": track[\"features\"][\"duration_ms\"] / 60000,\n",
    "                \"time_signature\": track[\"features\"][\"time_signature\"]\n",
    "                # Add more features as needed\n",
    "            }\n",
    "            rows.append(track_info)\n",
    "\n",
    "# Convert the list of dictionaries into a DataFrame\n",
    "df_alternative = pd.DataFrame(rows)\n",
    "\n",
    "# Display the first few rows of the DataFrame to verify\n",
    "df_alternative.head()\n"
   ]
  },
  {
   "cell_type": "markdown",
   "metadata": {},
   "source": [
    "dizionario_base = {\"a\": 1, \"b\": 2}\n",
    "nuove_coppie = {\"b\": 3, \"c\": 4}\n",
    "\n",
    "# Combinare i dizionari\n",
    "dizionario_combinato = {**dizionario_base, **nuove_coppie}\n",
    "print(dizionario_combinato)  # Output: {'a': 1, 'b': 3, 'c': 4}\n"
   ]
  },
  {
   "cell_type": "markdown",
   "metadata": {},
   "source": [
    "### Extract audio features for each song¶\n",
    "To store the audio features of each album track and append the data into lists representing all the music tracks for that album we add additional key-values.\n",
    "\n",
    "Acousticness : A confidence measure from 0.0 to 1.0 of whether the track is acoustic. 1.0 represents high confidence the track is acoustic.\n",
    "\n",
    "Danceability : Danceability describes how suitable a track is for dancing based on a combination of musical elements including tempo, rhythm stability, beat strength, and overall regularity. A value of 0.0 is least danceable and 1.0 is most danceable.\n",
    "\n",
    "Energy : Energy is a measure from 0.0 to 1.0 and represents a perceptual measure of intensity and activity. Typically, energetic tracks feel fast, loud, and noisy. For example, death metal has high energy, while a Bach prelude scores low on the scale. Perceptual features contributing to this attribute include dynamic range, perceived loudness, timbre, onset rate, and general entropy.\n",
    "\n",
    "Instrumentalness: Predicts whether a track contains no vocals. “Ooh” and “aah” sounds are treated as instrumental in this context. Rap or spoken word tracks are clearly “vocal”. The closer the instrumentalness value is to 1.0, the greater likelihood the track contains no vocal content. Values above 0.5 are intended to represent instrumental tracks, but confidence is higher as the value approaches 1.0.\n",
    "\n",
    "Liveness: Detects the presence of an audience in the recording. Higher liveness values represent an increased probability that the track was performed live. A value above 0.8 provides strong likelihood that the track is live.\n",
    "\n",
    "Loudness: he overall loudness of a track in decibels (dB). Loudness values are averaged across the entire track and are useful for comparing relative loudness of tracks. Loudness is the quality of a sound that is the primary psychological correlate of physical strength (amplitude). Values typical range between -60 and 0 db.\n",
    "\n",
    "Speechiness: Speechiness detects the presence of spoken words in a track. The more exclusively speech-like the recording (e.g. talk show, audio book, poetry), the closer to 1.0 the attribute value. Values above 0.66 describe tracks that are probably made entirely of spoken words. Values between 0.33 and 0.66 describe tracks that may contain both music and speech, either in sections or layered, including such cases as rap music. Values below 0.33 most likely represent music and other non-speech-like tracks.\n",
    "\n",
    "Valence: A measure from 0.0 to 1.0 describing the musical positiveness conveyed by a track. Tracks with high valence sound more positive (e.g. happy, cheerful, euphoric), while tracks with low valence sound more negative (e.g. sad, depressed, angry).\n",
    "\n",
    "Tempo: The overall estimated tempo of a track in beats per minute (BPM). In musical terminology, tempo is the speed or pace of a given piece and derives directly from the average beat duration."
   ]
  },
  {
   "cell_type": "markdown",
   "metadata": {},
   "source": [
    "Now let loop through albums extracting the audio features.For this we will add a random delay every few albums to avoid sending too many requests at Spotify's API."
   ]
  },
  {
   "cell_type": "markdown",
   "metadata": {},
   "source": [
    "# EDA ora"
   ]
  },
  {
   "cell_type": "code",
   "execution_count": null,
   "metadata": {},
   "outputs": [],
   "source": [
    "!pip install matplotlib\n",
    "!pip install seaborn"
   ]
  },
  {
   "cell_type": "code",
   "execution_count": null,
   "metadata": {},
   "outputs": [],
   "source": [
    "import matplotlib.pyplot as plt\n",
    "import seaborn as sns\n",
    "\n",
    "# Setting up the visualization\n",
    "sns.set(style=\"whitegrid\")\n",
    "\n",
    "# Plotting distributions of selected audio features\n",
    "fig, axes = plt.subplots(2, 2, figsize=(16, 12))\n",
    "fig.suptitle('Distribution of Audio Features')\n",
    "\n",
    "# Danceability\n",
    "sns.histplot(df['danceability'], ax=axes[0, 0], kde=True, color=\"skyblue\")\n",
    "axes[0, 0].set_title('Danceability')\n",
    "\n",
    "# Energy\n",
    "sns.histplot(df['energy'], ax=axes[0, 1], kde=True, color=\"olive\")\n",
    "axes[0, 1].set_title('Energy')\n",
    "\n",
    "# Tempo\n",
    "sns.histplot(df['tempo'], ax=axes[1, 0], kde=True, color=\"gold\")\n",
    "axes[1, 0].set_title('Tempo')\n",
    "\n",
    "# Duration_ms\n",
    "sns.histplot(df['duration_ms'] / 60000, ax=axes[1, 1], kde=True, color=\"teal\")  # Convert ms to minutes\n",
    "axes[1, 1].set_title('Duration (Minutes)')\n",
    "\n",
    "plt.tight_layout(rect=[0, 0.03, 1, 0.95])\n",
    "plt.show()\n"
   ]
  },
  {
   "cell_type": "code",
   "execution_count": null,
   "metadata": {},
   "outputs": [],
   "source": [
    "# Calculating and plotting the correlation matrix of selected features\n",
    "selected_features = ['danceability', 'energy', 'loudness', 'tempo', 'valence', 'duration_ms']\n",
    "corr_matrix = df[selected_features].corr(method='pearson')\n",
    "\n",
    "plt.figure(figsize=(10, 8))\n",
    "sns.heatmap(corr_matrix, annot=True, cmap=\"coolwarm\")\n",
    "plt.title('Correlation Matrix of Audio Features')\n",
    "plt.show()\n"
   ]
  },
  {
   "cell_type": "code",
   "execution_count": null,
   "metadata": {},
   "outputs": [],
   "source": [
    "# Calcolo delle medie delle caratteristiche per ogni artista\n",
    "mean_features_per_artist = df.groupby('artist')[['danceability', 'energy', 'tempo']].mean().reset_index()\n",
    "\n",
    "mean_features_per_artist"
   ]
  }
 ],
 "metadata": {
  "kernelspec": {
   "display_name": "its",
   "language": "python",
   "name": "python3"
  },
  "language_info": {
   "codemirror_mode": {
    "name": "ipython",
    "version": 3
   },
   "file_extension": ".py",
   "mimetype": "text/x-python",
   "name": "python",
   "nbconvert_exporter": "python",
   "pygments_lexer": "ipython3",
   "version": "3.11.8"
  }
 },
 "nbformat": 4,
 "nbformat_minor": 2
}
