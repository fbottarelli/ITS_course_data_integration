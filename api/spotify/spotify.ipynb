{
 "cells": [
  {
   "cell_type": "markdown",
   "metadata": {},
   "source": [
    "https://developer.spotify.com/documentation/web-api/tutorials/getting-started"
   ]
  },
  {
   "cell_type": "code",
   "execution_count": null,
   "metadata": {},
   "outputs": [],
   "source": [
    "# !pip install python-dotenv\n",
    "# !pip install spotipy"
   ]
  },
  {
   "cell_type": "markdown",
   "metadata": {},
   "source": [
    "Importiamo le librerie necessarie"
   ]
  },
  {
   "cell_type": "code",
   "execution_count": null,
   "metadata": {},
   "outputs": [],
   "source": [
    "import spotipy\n",
    "from spotipy.oauth2 import SpotifyClientCredentials\n",
    "from dotenv import load_dotenv\n",
    "import os\n",
    "import pandas as pd\n",
    "import time\n",
    "import numpy as np\n",
    "import json"
   ]
  },
  {
   "cell_type": "markdown",
   "metadata": {},
   "source": [
    "colleghiamoci al API di Spotify"
   ]
  },
  {
   "cell_type": "code",
   "execution_count": null,
   "metadata": {},
   "outputs": [],
   "source": [
    "load_dotenv()\n",
    "SPOTIPY_CLIENT_ID = os.getenv(\"SPOTIPY_CLIENT_ID\")\n",
    "SPOTIPY_CLIENT_SECRET = os.getenv(\"SPOTIPY_CLIENT_SECRET\")\n",
    "auth_manager = SpotifyClientCredentials(client_id=SPOTIPY_CLIENT_ID, client_secret=SPOTIPY_CLIENT_SECRET)\n",
    "sp = spotipy.Spotify(auth_manager=auth_manager)"
   ]
  },
  {
   "cell_type": "code",
   "execution_count": null,
   "metadata": {},
   "outputs": [],
   "source": [
    "# salviamoci l'urn dell'artista\n",
    "artist_urns = ['spotify:artist:6XYvaoDGE0VmRt83Jss9Sn', 'spotify:artist:1Dt1UKLtrJIW1xxRBejjos']\n",
    "# chiediamo a Spotify di restituirci le informazioni sull'artista\n",
    "artist = sp.artist(artist_urns[0])\n",
    "print(artist)"
   ]
  },
  {
   "cell_type": "code",
   "execution_count": null,
   "metadata": {},
   "outputs": [],
   "source": [
    "# chiediamo a Spotify di restituirci i top tracks dell'artista\n",
    "artist_top_tracks = sp.artist_top_tracks(artist_urns[0])\n",
    "print(artist_top_tracks)"
   ]
  },
  {
   "cell_type": "code",
   "execution_count": null,
   "metadata": {},
   "outputs": [],
   "source": [
    "# guardiamo il tipo di oggetto che ci è stato restituito\n",
    "print(type(artist_top_tracks))\n",
    "print(artist_top_tracks.keys())\n",
    "print(type(artist_top_tracks['tracks']))\n",
    "print(type(artist_top_tracks['tracks'][0]))"
   ]
  },
  {
   "cell_type": "code",
   "execution_count": null,
   "metadata": {},
   "outputs": [],
   "source": [
    "# guardiamo il contenuto di un elemento della lista\n",
    "print(artist_top_tracks['tracks'][0])"
   ]
  },
  {
   "cell_type": "code",
   "execution_count": null,
   "metadata": {},
   "outputs": [],
   "source": [
    "print(artist_top_tracks['tracks'][0]['name'])\n",
    "print(artist_top_tracks['tracks'][0]['album']['name'])\n",
    "print(artist_top_tracks['tracks'][0]['album']['images'][0]['url'])"
   ]
  },
  {
   "cell_type": "markdown",
   "metadata": {},
   "source": [
    "### Album"
   ]
  },
  {
   "cell_type": "code",
   "execution_count": null,
   "metadata": {},
   "outputs": [],
   "source": [
    "artist_albums = sp.artist_albums(artist_urns[0], album_type='album', limit=5, offset=0)\n",
    "print(artist_albums.keys())\n",
    "print(type(artist_albums[\"items\"]))\n",
    "print(len(artist_albums[\"items\"]))\n",
    "\n",
    "print(artist_albums[\"items\"][0])\n",
    "print(artist_albums[\"items\"][0].keys())\n"
   ]
  },
  {
   "cell_type": "code",
   "execution_count": null,
   "metadata": {},
   "outputs": [],
   "source": [
    "artist_album_names = []\n",
    "artist_album_uris = []\n",
    "for j in range(len(artist_albums['items'])):\n",
    "    artist_album_names.append(artist_albums['items'][j]['name'])\n",
    "    artist_album_uris.append(artist_albums['items'][j]['uri'])\n",
    "\n",
    "# pandas df\n",
    "df = pd.DataFrame({'album': artist_album_names, 'uri': artist_album_uris})\n",
    "df"
   ]
  },
  {
   "cell_type": "markdown",
   "metadata": {},
   "source": [
    "# Costruiamo un dataset\n",
    "Guardiamo gli album di un artista"
   ]
  },
  {
   "cell_type": "code",
   "execution_count": null,
   "metadata": {},
   "outputs": [],
   "source": [
    "print(artist_albums[\"items\"][0].keys())\n",
    "artist_name = artist_albums['items'][0]['artists'][0]['name']\n",
    "artist_name = sp.artist(artist_urns[0])['name']\n",
    "print(artist_name)"
   ]
  },
  {
   "cell_type": "code",
   "execution_count": null,
   "metadata": {},
   "outputs": [],
   "source": [
    "artist_urns = ['spotify:artist:6XYvaoDGE0VmRt83Jss9Sn', 'spotify:artist:1Dt1UKLtrJIW1xxRBejjos']\n",
    "music_dataset = {}\n",
    "for artist_urn in artist_urns:\n",
    "    artist_name = sp.artist(artist_urn)['name']\n",
    "    artist_albums = sp.artist_albums(artist_urn, album_type='album', limit=5, offset=0)\n",
    "    music_dataset[artist_name] = {}\n",
    "    for album in range(len(artist_albums['items'])):\n",
    "        album_name = artist_albums['items'][album]['name']\n",
    "        music_dataset[artist_name][album_name] = {'release_date': artist_albums['items'][album]['release_date'],\n",
    "                                                  'tracks': [], \n",
    "                                                  'album_uri': artist_albums['items'][album]['uri']}\n",
    "print(music_dataset)"
   ]
  },
  {
   "cell_type": "markdown",
   "metadata": {},
   "source": [
    "### Extract all the songs from every album\n",
    "Next would be to loop through each album to extract key album track data."
   ]
  },
  {
   "cell_type": "code",
   "execution_count": null,
   "metadata": {},
   "outputs": [],
   "source": [
    "album_tracks = sp.album_tracks(artist_album_uris[0], limit=25, offset=0)\n",
    "print(album_tracks.keys())"
   ]
  },
  {
   "cell_type": "code",
   "execution_count": null,
   "metadata": {},
   "outputs": [],
   "source": [
    "print(album_tracks['items'][0].keys())\n",
    "print(album_tracks['items'][0]['name'])"
   ]
  },
  {
   "cell_type": "code",
   "execution_count": null,
   "metadata": {},
   "outputs": [],
   "source": [
    "for song in range(len(album_tracks['items'])):\n",
    "    print(album_tracks['items'][song]['name'])"
   ]
  },
  {
   "cell_type": "code",
   "execution_count": null,
   "metadata": {},
   "outputs": [],
   "source": [
    "artist_list = list(music_dataset)\n",
    "print(artist_list)"
   ]
  },
  {
   "cell_type": "code",
   "execution_count": null,
   "metadata": {},
   "outputs": [],
   "source": [
    "for artist in list(music_dataset):\n",
    "    for album in list(music_dataset[artist]):\n",
    "        album_uri = music_dataset[artist][album]['album_uri']\n",
    "        album_tracks = sp.album_tracks(album_uri, limit=25, offset=0)\n",
    "        for song in range(len(album_tracks['items'])):\n",
    "            music_dataset[artist][album]['tracks'].append({'track_name': album_tracks['items'][song]['name'],\n",
    "                                                            'track_uri': album_tracks['items'][song]['uri'],\n",
    "                                                            'track_duration': album_tracks['items'][song]['duration_ms'],\n",
    "                                                            'track_number': album_tracks['items'][song]['track_number']})"
   ]
  },
  {
   "cell_type": "code",
   "execution_count": null,
   "metadata": {},
   "outputs": [],
   "source": [
    "print(music_dataset[\"King Gizzard & The Lizard Wizard\"][\"Changes\"])"
   ]
  },
  {
   "cell_type": "markdown",
   "metadata": {},
   "source": [
    "Ora aggiugiamo alle canzoni le caratteristiche sonore"
   ]
  },
  {
   "cell_type": "code",
   "execution_count": null,
   "metadata": {},
   "outputs": [],
   "source": [
    "track_list = [] \n",
    "for track in music_dataset[\"The Blaze\"][\"JUNGLE\"][\"tracks\"]:\n",
    "    track_list.append(track['track_uri'])\n"
   ]
  },
  {
   "cell_type": "code",
   "execution_count": null,
   "metadata": {},
   "outputs": [],
   "source": [
    "sp.audio_features(tracks=track_list)"
   ]
  },
  {
   "cell_type": "markdown",
   "metadata": {},
   "source": [
    "ora ggiugiamo le caratteristiche al nostro dataset"
   ]
  },
  {
   "cell_type": "code",
   "execution_count": null,
   "metadata": {},
   "outputs": [],
   "source": [
    "for artist in list(music_dataset):\n",
    "    for album in list(music_dataset[artist]):\n",
    "        for track in music_dataset[artist][album]['tracks']:\n",
    "            track_uri = track['track_uri']\n",
    "            track_features = sp.audio_features(track_uri)\n",
    "            track['features'] = track_features[0]"
   ]
  },
  {
   "cell_type": "code",
   "execution_count": null,
   "metadata": {},
   "outputs": [],
   "source": [
    "print(music_dataset[\"The Blaze\"][\"JUNGLE\"][\"tracks\"][0])"
   ]
  },
  {
   "cell_type": "markdown",
   "metadata": {},
   "source": [
    "ora trasformiamo il dataset dizionario in un dataframe"
   ]
  },
  {
   "cell_type": "code",
   "execution_count": null,
   "metadata": {},
   "outputs": [],
   "source": [
    "import json\n",
    "import pickle\n",
    "\n",
    "# Specify the file path where you want to save the JSON file\n",
    "file_path = 'music_dataset.json'\n",
    "\n",
    "# Convert the music dataset to JSON format\n",
    "music_dataset_json = json.dumps(music_dataset)\n",
    "\n",
    "# Save the JSON data to a file\n",
    "with open(file_path, 'w') as file:\n",
    "    file.write(music_dataset_json)\n",
    "\n",
    "print(\"Music dataset saved as JSON successfully.\")\n"
   ]
  },
  {
   "cell_type": "code",
   "execution_count": null,
   "metadata": {},
   "outputs": [],
   "source": [
    "print(music_dataset[\"The Blaze\"][\"JUNGLE\"])"
   ]
  },
  {
   "cell_type": "code",
   "execution_count": null,
   "metadata": {},
   "outputs": [],
   "source": [
    "# load the JSON file\n",
    "with open('music_dataset.json', 'r') as file:\n",
    "    json_data = json.load(file)\n",
    "music_dataset = json_data\n",
    "rows = []\n",
    "\n",
    "for artist, albums in json_data.items():\n",
    "    for album_name, album_details in albums.items():\n",
    "        release_date = album_details[\"release_date\"]\n",
    "        for track in album_details[\"tracks\"]:\n",
    "            track_info = {\n",
    "                \"artist\": artist,\n",
    "                \"album_name\": album_name,\n",
    "                \"album_release_date\": release_date,\n",
    "                \"track_name\": track[\"track_name\"],\n",
    "                **track[\"features\"]\n",
    "            }\n",
    "            rows.append(track_info)\n",
    "\n",
    "# Convert the corrected list of dictionaries into a DataFrame\n",
    "df = pd.DataFrame(rows)\n",
    "\n",
    "# save the dataframe as a pickle file\n",
    "df.to_pickle('music_dataset.pkl')\n",
    "\n",
    "# Display the first few rows of the corrected DataFrame to verify\n",
    "df"
   ]
  },
  {
   "cell_type": "markdown",
   "metadata": {},
   "source": [
    "alternartiva a unpacker"
   ]
  },
  {
   "cell_type": "code",
   "execution_count": null,
   "metadata": {},
   "outputs": [],
   "source": [
    "rows = []\n",
    "\n",
    "for artist, albums in json_data.items():\n",
    "    for album_name, album_details in albums.items():\n",
    "        release_date = album_details[\"release_date\"]\n",
    "        for track in album_details[\"tracks\"]:\n",
    "            track_info = {\n",
    "                \"artist\": artist,\n",
    "                \"album_name\": album_name,\n",
    "                \"album_release_date\": release_date,\n",
    "                \"track_name\": track[\"track_name\"],\n",
    "                \"danceability\": track[\"features\"][\"danceability\"],\n",
    "                \"energy\": track[\"features\"][\"energy\"],\n",
    "                \"key\": track[\"features\"][\"key\"],\n",
    "                \"loudness\": track[\"features\"][\"loudness\"],\n",
    "                \"mode\": track[\"features\"][\"mode\"],\n",
    "                \"speechiness\": track[\"features\"][\"speechiness\"],\n",
    "                \"acousticness\": track[\"features\"][\"acousticness\"],\n",
    "                \"instrumentalness\": track[\"features\"][\"instrumentalness\"],\n",
    "                \"liveness\": track[\"features\"][\"liveness\"],\n",
    "                \"valence\": track[\"features\"][\"valence\"],\n",
    "                \"tempo\": track[\"features\"][\"tempo\"],\n",
    "                # ms in minutes\n",
    "                \"duration_min\": track[\"features\"][\"duration_ms\"] / 60000,\n",
    "                \"time_signature\": track[\"features\"][\"time_signature\"]\n",
    "                # Add more features as needed\n",
    "            }\n",
    "            rows.append(track_info)\n",
    "\n",
    "# Convert the list of dictionaries into a DataFrame\n",
    "df_alternative = pd.DataFrame(rows)\n",
    "\n",
    "# Display the first few rows of the DataFrame to verify\n",
    "df_alternative.head()\n"
   ]
  },
  {
   "cell_type": "markdown",
   "metadata": {},
   "source": [
    "dizionario_base = {\"a\": 1, \"b\": 2}\n",
    "nuove_coppie = {\"b\": 3, \"c\": 4}\n",
    "\n",
    "# Combinare i dizionari\n",
    "dizionario_combinato = {**dizionario_base, **nuove_coppie}\n",
    "print(dizionario_combinato)  # Output: {'a': 1, 'b': 3, 'c': 4}\n"
   ]
  },
  {
   "cell_type": "markdown",
   "metadata": {},
   "source": [
    "### Extract audio features for each song¶\n",
    "To store the audio features of each album track and append the data into lists representing all the music tracks for that album we add additional key-values.\n",
    "\n",
    "Acousticness : A confidence measure from 0.0 to 1.0 of whether the track is acoustic. 1.0 represents high confidence the track is acoustic.\n",
    "\n",
    "Danceability : Danceability describes how suitable a track is for dancing based on a combination of musical elements including tempo, rhythm stability, beat strength, and overall regularity. A value of 0.0 is least danceable and 1.0 is most danceable.\n",
    "\n",
    "Energy : Energy is a measure from 0.0 to 1.0 and represents a perceptual measure of intensity and activity. Typically, energetic tracks feel fast, loud, and noisy. For example, death metal has high energy, while a Bach prelude scores low on the scale. Perceptual features contributing to this attribute include dynamic range, perceived loudness, timbre, onset rate, and general entropy.\n",
    "\n",
    "Instrumentalness: Predicts whether a track contains no vocals. “Ooh” and “aah” sounds are treated as instrumental in this context. Rap or spoken word tracks are clearly “vocal”. The closer the instrumentalness value is to 1.0, the greater likelihood the track contains no vocal content. Values above 0.5 are intended to represent instrumental tracks, but confidence is higher as the value approaches 1.0.\n",
    "\n",
    "Liveness: Detects the presence of an audience in the recording. Higher liveness values represent an increased probability that the track was performed live. A value above 0.8 provides strong likelihood that the track is live.\n",
    "\n",
    "Loudness: he overall loudness of a track in decibels (dB). Loudness values are averaged across the entire track and are useful for comparing relative loudness of tracks. Loudness is the quality of a sound that is the primary psychological correlate of physical strength (amplitude). Values typical range between -60 and 0 db.\n",
    "\n",
    "Speechiness: Speechiness detects the presence of spoken words in a track. The more exclusively speech-like the recording (e.g. talk show, audio book, poetry), the closer to 1.0 the attribute value. Values above 0.66 describe tracks that are probably made entirely of spoken words. Values between 0.33 and 0.66 describe tracks that may contain both music and speech, either in sections or layered, including such cases as rap music. Values below 0.33 most likely represent music and other non-speech-like tracks.\n",
    "\n",
    "Valence: A measure from 0.0 to 1.0 describing the musical positiveness conveyed by a track. Tracks with high valence sound more positive (e.g. happy, cheerful, euphoric), while tracks with low valence sound more negative (e.g. sad, depressed, angry).\n",
    "\n",
    "Tempo: The overall estimated tempo of a track in beats per minute (BPM). In musical terminology, tempo is the speed or pace of a given piece and derives directly from the average beat duration."
   ]
  },
  {
   "cell_type": "markdown",
   "metadata": {},
   "source": [
    "Now let loop through albums extracting the audio features.For this we will add a random delay every few albums to avoid sending too many requests at Spotify's API."
   ]
  },
  {
   "cell_type": "markdown",
   "metadata": {},
   "source": [
    "# EDA ora"
   ]
  },
  {
   "cell_type": "code",
   "execution_count": null,
   "metadata": {},
   "outputs": [],
   "source": [
    "!pip install matplotlib\n",
    "!pip install seaborn"
   ]
  },
  {
   "cell_type": "code",
   "execution_count": null,
   "metadata": {},
   "outputs": [],
   "source": [
    "import matplotlib.pyplot as plt\n",
    "import seaborn as sns\n",
    "\n",
    "# Setting up the visualization\n",
    "sns.set(style=\"whitegrid\")\n",
    "\n",
    "# Plotting distributions of selected audio features\n",
    "fig, axes = plt.subplots(2, 2, figsize=(16, 12))\n",
    "fig.suptitle('Distribution of Audio Features')\n",
    "\n",
    "# Danceability\n",
    "sns.histplot(df['danceability'], ax=axes[0, 0], kde=True, color=\"skyblue\")\n",
    "axes[0, 0].set_title('Danceability')\n",
    "\n",
    "# Energy\n",
    "sns.histplot(df['energy'], ax=axes[0, 1], kde=True, color=\"olive\")\n",
    "axes[0, 1].set_title('Energy')\n",
    "\n",
    "# Tempo\n",
    "sns.histplot(df['tempo'], ax=axes[1, 0], kde=True, color=\"gold\")\n",
    "axes[1, 0].set_title('Tempo')\n",
    "\n",
    "# Duration_ms\n",
    "sns.histplot(df['duration_ms'] / 60000, ax=axes[1, 1], kde=True, color=\"teal\")  # Convert ms to minutes\n",
    "axes[1, 1].set_title('Duration (Minutes)')\n",
    "\n",
    "plt.tight_layout(rect=[0, 0.03, 1, 0.95])\n",
    "plt.show()\n"
   ]
  },
  {
   "cell_type": "code",
   "execution_count": null,
   "metadata": {},
   "outputs": [],
   "source": [
    "# Calculating and plotting the correlation matrix of selected features\n",
    "selected_features = ['danceability', 'energy', 'loudness', 'tempo', 'valence', 'duration_ms']\n",
    "corr_matrix = df[selected_features].corr(method='pearson')\n",
    "\n",
    "plt.figure(figsize=(10, 8))\n",
    "sns.heatmap(corr_matrix, annot=True, cmap=\"coolwarm\")\n",
    "plt.title('Correlation Matrix of Audio Features')\n",
    "plt.show()\n"
   ]
  },
  {
   "cell_type": "code",
   "execution_count": null,
   "metadata": {},
   "outputs": [],
   "source": [
    "# Calcolo delle medie delle caratteristiche per ogni artista\n",
    "mean_features_per_artist = df.groupby('artist')[['danceability', 'energy', 'tempo']].mean().reset_index()\n",
    "\n",
    "mean_features_per_artist"
   ]
  }
 ],
 "metadata": {
  "kernelspec": {
   "display_name": "its",
   "language": "python",
   "name": "python3"
  },
  "language_info": {
   "codemirror_mode": {
    "name": "ipython",
    "version": 3
   },
   "file_extension": ".py",
   "mimetype": "text/x-python",
   "name": "python",
   "nbconvert_exporter": "python",
   "pygments_lexer": "ipython3",
   "version": "3.11.8"
  }
 },
 "nbformat": 4,
 "nbformat_minor": 2
}
